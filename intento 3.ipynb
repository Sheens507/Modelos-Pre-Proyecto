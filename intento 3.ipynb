{
 "cells": [
  {
   "cell_type": "code",
   "execution_count": 1,
   "metadata": {},
   "outputs": [],
   "source": [
    "import numpy as np\n",
    "import pandas as pd\n",
    "import string\n",
    "import re\n",
    "from IPython.core.display import HTML\n",
    "\n",
    "# Gráficos\n",
    "import matplotlib.pyplot as plt\n",
    "from matplotlib import style\n",
    "import seaborn as sns\n",
    "\n",
    "# Preprocesado y modelado\n",
    "from collections import defaultdict\n",
    "from sklearn import metrics\n",
    "from nltk.corpus import stopwords\n",
    "from sklearn.cluster import KMeans\n",
    "\n",
    "\n",
    "# cambiador de formatos para factorizar un dataset\n",
    "from sklearn.feature_extraction.text import TfidfVectorizer \n",
    "\n",
    "# control de rendimiento\n",
    "from time import time\n",
    "\n",
    "# Configuración warnings\n",
    "import warnings\n",
    "warnings.filterwarnings('ignore')"
   ]
  },
  {
   "cell_type": "code",
   "execution_count": 2,
   "metadata": {},
   "outputs": [],
   "source": [
    "ruta = 'Opiniones.csv'\n",
    "data = pd.read_csv(ruta)\n",
    "# print(data.head())"
   ]
  },
  {
   "cell_type": "code",
   "execution_count": 3,
   "metadata": {},
   "outputs": [
    {
     "data": {
      "text/html": [
       "<table border=\"1\" class=\"dataframe\">\n",
       "  <thead>\n",
       "    <tr style=\"text-align: right;\">\n",
       "      <th></th>\n",
       "      <th>AÑO</th>\n",
       "      <th>SEDE</th>\n",
       "      <th>FACULTAD</th>\n",
       "      <th>CARRERA</th>\n",
       "      <th>OBSERVACIONES</th>\n",
       "    </tr>\n",
       "  </thead>\n",
       "  <tbody>\n",
       "    <tr>\n",
       "      <th>25918</th>\n",
       "      <td>2019.0</td>\n",
       "      <td>SEDE 3</td>\n",
       "      <td>FACULTAD 5</td>\n",
       "      <td>LICENCIATURA 20</td>\n",
       "      <td>Los precios para estudiantes es muy elevado</td>\n",
       "    </tr>\n",
       "    <tr>\n",
       "      <th>19567</th>\n",
       "      <td>2019.0</td>\n",
       "      <td>SEDE 6</td>\n",
       "      <td>FACULTAD 2</td>\n",
       "      <td>INGENIERIA 08</td>\n",
       "      <td>Hagan más áreas de recreación, ya sean juegos de mesa o dejar la cancha de basket libre por que siempre que voy esta con un bus estacionado</td>\n",
       "    </tr>\n",
       "    <tr>\n",
       "      <th>25759</th>\n",
       "      <td>2019.0</td>\n",
       "      <td>SEDE 1</td>\n",
       "      <td>FACULTAD 5</td>\n",
       "      <td>LICENCIATURA 21</td>\n",
       "      <td>Los modulos virtuales son buenisimos</td>\n",
       "    </tr>\n",
       "    <tr>\n",
       "      <th>2551</th>\n",
       "      <td>2019.0</td>\n",
       "      <td>SEDE 1</td>\n",
       "      <td>FACULTAD 5</td>\n",
       "      <td>INGENIERIA 25</td>\n",
       "      <td>.</td>\n",
       "    </tr>\n",
       "    <tr>\n",
       "      <th>19735</th>\n",
       "      <td>2019.0</td>\n",
       "      <td>SEDE 1</td>\n",
       "      <td>FACULTAD 6</td>\n",
       "      <td>POSTGRADO 12</td>\n",
       "      <td>hay preguntas que no aplican para un estudiante virtual</td>\n",
       "    </tr>\n",
       "    <tr>\n",
       "      <th>49114</th>\n",
       "      <td>2019.0</td>\n",
       "      <td>SEDE 1</td>\n",
       "      <td>FACULTAD 3</td>\n",
       "      <td>LICENCIATURA 08</td>\n",
       "      <td>Tener disponibilidad en las cafeterías después de las 8pm</td>\n",
       "    </tr>\n",
       "    <tr>\n",
       "      <th>32734</th>\n",
       "      <td>2019.0</td>\n",
       "      <td>SEDE 1</td>\n",
       "      <td>FACULTAD 3</td>\n",
       "      <td>LICENCIATURA 10</td>\n",
       "      <td>Mejorar el menú de la cafetería</td>\n",
       "    </tr>\n",
       "    <tr>\n",
       "      <th>28940</th>\n",
       "      <td>2019.0</td>\n",
       "      <td>SEDE 1</td>\n",
       "      <td>FACULTAD 3</td>\n",
       "      <td>INGENIERIA 28</td>\n",
       "      <td>Mas variedad en el menu</td>\n",
       "    </tr>\n",
       "    <tr>\n",
       "      <th>31981</th>\n",
       "      <td>2019.0</td>\n",
       "      <td>SEDE 6</td>\n",
       "      <td>FACULTAD 6</td>\n",
       "      <td>LICENCIATURA 24</td>\n",
       "      <td>Mejorar áreas de receso</td>\n",
       "    </tr>\n",
       "    <tr>\n",
       "      <th>46720</th>\n",
       "      <td>2019.0</td>\n",
       "      <td>SEDE 1</td>\n",
       "      <td>FACULTAD 5</td>\n",
       "      <td>INGENIERIA 23</td>\n",
       "      <td>Satisfecho</td>\n",
       "    </tr>\n",
       "    <tr>\n",
       "      <th>44416</th>\n",
       "      <td>2019.0</td>\n",
       "      <td>SEDE 2</td>\n",
       "      <td>FACULTAD 5</td>\n",
       "      <td>LICENCIATURA 22</td>\n",
       "      <td>Por parte de los laboratorios, las computadoras son bastante viejas y el espacio que hay en el laboratorio es bastante estrecho e incómodo. Deberían actualizar el hardware y software de los equipos.</td>\n",
       "    </tr>\n",
       "    <tr>\n",
       "      <th>1254</th>\n",
       "      <td>2019.0</td>\n",
       "      <td>SEDE 6</td>\n",
       "      <td>FACULTAD 1</td>\n",
       "      <td>INGENIERIA 04</td>\n",
       "      <td>.</td>\n",
       "    </tr>\n",
       "    <tr>\n",
       "      <th>38524</th>\n",
       "      <td>2019.0</td>\n",
       "      <td>SEDE 1</td>\n",
       "      <td>FACULTAD 3</td>\n",
       "      <td>LICENCIATURA 10</td>\n",
       "      <td>Nada</td>\n",
       "    </tr>\n",
       "    <tr>\n",
       "      <th>43360</th>\n",
       "      <td>2019.0</td>\n",
       "      <td>SEDE 6</td>\n",
       "      <td>FACULTAD 1</td>\n",
       "      <td>INGENIERIA 01</td>\n",
       "      <td>Pasillos</td>\n",
       "    </tr>\n",
       "    <tr>\n",
       "      <th>23125</th>\n",
       "      <td>2019.0</td>\n",
       "      <td>SEDE 1</td>\n",
       "      <td>FACULTAD 1</td>\n",
       "      <td>INGENIERIA 04</td>\n",
       "      <td>La matrícula poder hacerlo desde el hogar está Perfecto pero, igual manera existen fallos en el tiempo de actualización de los datos, dependiendo de la solicitud del estudiante.</td>\n",
       "    </tr>\n",
       "    <tr>\n",
       "      <th>11629</th>\n",
       "      <td>2019.0</td>\n",
       "      <td>SEDE 6</td>\n",
       "      <td>FACULTAD 2</td>\n",
       "      <td>INGENIERIA 08</td>\n",
       "      <td>Debe mejorar cafetería, porqué en el mediodía se hace una fila muy largas y es estresante, aparte de que si llegas tarde no hay variedad.</td>\n",
       "    </tr>\n",
       "    <tr>\n",
       "      <th>48966</th>\n",
       "      <td>2019.0</td>\n",
       "      <td>SEDE 8</td>\n",
       "      <td>FACULTAD 3</td>\n",
       "      <td>POSTGRADO 14</td>\n",
       "      <td>También que la documentación se agilice más rápido por ejemplo los créditos.</td>\n",
       "    </tr>\n",
       "    <tr>\n",
       "      <th>38476</th>\n",
       "      <td>2019.0</td>\n",
       "      <td>SEDE 1</td>\n",
       "      <td>FACULTAD 3</td>\n",
       "      <td>LICENCIATURA 08</td>\n",
       "      <td>nada</td>\n",
       "    </tr>\n",
       "    <tr>\n",
       "      <th>27462</th>\n",
       "      <td>2019.0</td>\n",
       "      <td>SEDE 6</td>\n",
       "      <td>FACULTAD 4</td>\n",
       "      <td>LICENCIATURA 14</td>\n",
       "      <td>Más espacios de zonas de estudios</td>\n",
       "    </tr>\n",
       "    <tr>\n",
       "      <th>1490</th>\n",
       "      <td>2019.0</td>\n",
       "      <td>SEDE 6</td>\n",
       "      <td>FACULTAD 4</td>\n",
       "      <td>LICENCIATURA 15</td>\n",
       "      <td>.</td>\n",
       "    </tr>\n",
       "  </tbody>\n",
       "</table>"
      ],
      "text/plain": [
       "<IPython.core.display.HTML object>"
      ]
     },
     "metadata": {},
     "output_type": "display_data"
    }
   ],
   "source": [
    "display(HTML(data.sample(20).to_html()))"
   ]
  },
  {
   "cell_type": "code",
   "execution_count": 4,
   "metadata": {},
   "outputs": [
    {
     "name": "stdout",
     "output_type": "stream",
     "text": [
      "     YEAR    SEDE    FACULTAD          CARRERA OBSERVACIONES\n",
      "0  2019.0  SEDE 2  FACULTAD 1  LICENCIATURA 03             0\n",
      "1  2019.0  SEDE 2  FACULTAD 1  LICENCIATURA 04             0\n",
      "2  2019.0  SEDE 2  FACULTAD 2  LICENCIATURA 07             0\n",
      "3  2019.0  SEDE 2  FACULTAD 3    INGENIERIA 15             0\n",
      "4  2019.0  SEDE 3  FACULTAD 1  LICENCIATURA 04             0\n"
     ]
    }
   ],
   "source": [
    "data.rename(columns={'AÑO':'YEAR'}, inplace=True)\n",
    "print(data.head())"
   ]
  },
  {
   "cell_type": "code",
   "execution_count": 5,
   "metadata": {},
   "outputs": [
    {
     "data": {
      "text/plain": [
       "'def limpiar_tokenizar(texto):\\n    # Eliminación de números\\n    nuevo_texto = re.sub(\"\\\\d+\", \\' \\', texto)\\n    # Se convierte todo el texto a minúsculas\\n    nuevo_texto = nuevo_texto.lower()\\n    # Eliminación de páginas web (palabras que empiezan por \"http\")\\n    nuevo_texto = re.sub(\\'http\\\\S+\\', \\' \\', nuevo_texto)\\n    # Eliminación de signos de puntuación\\n    regex = \\'[\\\\!\\\\\"\\\\#\\\\$\\\\%\\\\&\\\\\\'\\\\(\\\\)\\\\*\\\\+\\\\,    \\\\-\\\\.\\\\/\\\\:\\\\;\\\\<\\\\=\\\\>\\\\?\\\\@\\\\[\\\\\\\\\\\\]\\\\^_\\\\`\\\\{\\\\|\\\\}\\\\~—]\\'\\n    nuevo_texto = re.sub(regex , \\' \\', nuevo_texto)\\n    # Eliminación de espacios en blanco múltiples\\n    nuevo_texto = re.sub(\"\\\\s+\", \\' \\', nuevo_texto)\\n    # Tokenización por palabras individuales\\n    nuevo_texto = nuevo_texto.split(sep = \\' \\')\\n    # Eliminación de tokens con una longitud < 2\\n    nuevo_texto = [token for token in nuevo_texto if len(token) > 1]\\n    # quitar los token que sean solamente de una letra repetidas 2 o mas veces\\n    nuevo_texto = [token for token in nuevo_texto if not re.fullmatch(r\\'(.)\\x01*\\', token)]\\n    # une los tokens en un solo string\\n    nuevo_texto = \\' \\'.join(nuevo_texto)\\n    \\n    return(nuevo_texto)\\n\\ntest = \"Esto es 1 ejemplo de l\\'limpieza de6 TEXTO  https://t.co/rnHPgyhx4Z @cienciadedatos #textmining zzzzz oooooo aaaaaaaa hhh eeeeeeee todo bien, bien\"\\nprint(test)\\nprint(limpiar_tokenizar(texto=test))'"
      ]
     },
     "execution_count": 5,
     "metadata": {},
     "output_type": "execute_result"
    }
   ],
   "source": [
    "\"\"\"def limpiar_tokenizar(texto):\n",
    "    # Eliminación de números\n",
    "    nuevo_texto = re.sub(\"\\d+\", ' ', texto)\n",
    "    # Se convierte todo el texto a minúsculas\n",
    "    nuevo_texto = nuevo_texto.lower()\n",
    "    # Eliminación de páginas web (palabras que empiezan por \"http\")\n",
    "    nuevo_texto = re.sub('http\\S+', ' ', nuevo_texto)\n",
    "    # Eliminación de signos de puntuación\n",
    "    regex = '[\\\\!\\\\\"\\\\#\\\\$\\\\%\\\\&\\\\\\'\\\\(\\\\)\\\\*\\\\+\\\\,\\\n",
    "    \\-\\\\.\\\\/\\\\:\\\\;\\\\<\\\\=\\\\>\\\\?\\\\@\\\\[\\\\\\\\\\\\]\\\\^_\\\\`\\\\{\\\\|\\\\}\\\\~—]'\n",
    "    nuevo_texto = re.sub(regex , ' ', nuevo_texto)\n",
    "    # Eliminación de espacios en blanco múltiples\n",
    "    nuevo_texto = re.sub(\"\\\\s+\", ' ', nuevo_texto)\n",
    "    # Tokenización por palabras individuales\n",
    "    nuevo_texto = nuevo_texto.split(sep = ' ')\n",
    "    # Eliminación de tokens con una longitud < 2\n",
    "    nuevo_texto = [token for token in nuevo_texto if len(token) > 1]\n",
    "    # quitar los token que sean solamente de una letra repetidas 2 o mas veces\n",
    "    nuevo_texto = [token for token in nuevo_texto if not re.fullmatch(r'(.)\\1*', token)]\n",
    "    # une los tokens en un solo string\n",
    "    nuevo_texto = ' '.join(nuevo_texto)\n",
    "    \n",
    "    return(nuevo_texto)\n",
    "\n",
    "test = \"Esto es 1 ejemplo de l'limpieza de6 TEXTO  https://t.co/rnHPgyhx4Z @cienciadedatos #textmining zzzzz oooooo aaaaaaaa hhh eeeeeeee todo bien, bien\"\n",
    "print(test)\n",
    "print(limpiar_tokenizar(texto=test))\"\"\""
   ]
  },
  {
   "cell_type": "code",
   "execution_count": 6,
   "metadata": {},
   "outputs": [
    {
     "data": {
      "text/plain": [
       "'print(data[\\'FACULTAD\\'].value_counts())\\nprint(\"______________________________________________________________________\")\\nprint(string.punctuation)\\nprint(re.escape(string.punctuation))\\nprint(\"______________________________________________________________________\")\\ndata[\\'OBSERVACIONES\\'] = data[\\'OBSERVACIONES\\'].astype(str)\\ndata[\\'TEXTO_TOKEN\\'] = data[\\'OBSERVACIONES\\'].apply(lambda x: limpiar_tokenizar(x))\\n# Selecciona una cantidad aleatoria de filas\\nrandom_data = data.sample(20)\\n\\n\\n# Muestra las filas seleccionadas como una tabla HTML\\ndisplay(HTML(random_data.to_html()))'"
      ]
     },
     "execution_count": 6,
     "metadata": {},
     "output_type": "execute_result"
    }
   ],
   "source": [
    "\"\"\"print(data['FACULTAD'].value_counts())\n",
    "print(\"______________________________________________________________________\")\n",
    "print(string.punctuation)\n",
    "print(re.escape(string.punctuation))\n",
    "print(\"______________________________________________________________________\")\n",
    "data['OBSERVACIONES'] = data['OBSERVACIONES'].astype(str)\n",
    "data['TEXTO_TOKEN'] = data['OBSERVACIONES'].apply(lambda x: limpiar_tokenizar(x))\n",
    "# Selecciona una cantidad aleatoria de filas\n",
    "random_data = data.sample(20)\n",
    "\n",
    "\n",
    "# Muestra las filas seleccionadas como una tabla HTML\n",
    "display(HTML(random_data.to_html()))\"\"\"\n"
   ]
  },
  {
   "cell_type": "code",
   "execution_count": 7,
   "metadata": {},
   "outputs": [
    {
     "name": "stdout",
     "output_type": "stream",
     "text": [
      "<class 'pandas.core.frame.DataFrame'>\n",
      "RangeIndex: 52583 entries, 0 to 52582\n",
      "Data columns (total 5 columns):\n",
      " #   Column         Non-Null Count  Dtype  \n",
      "---  ------         --------------  -----  \n",
      " 0   YEAR           52519 non-null  float64\n",
      " 1   SEDE           52519 non-null  object \n",
      " 2   FACULTAD       52519 non-null  object \n",
      " 3   CARRERA        52338 non-null  object \n",
      " 4   OBSERVACIONES  52340 non-null  object \n",
      "dtypes: float64(1), object(4)\n",
      "memory usage: 2.0+ MB\n"
     ]
    }
   ],
   "source": [
    "data.info()"
   ]
  },
  {
   "cell_type": "code",
   "execution_count": 8,
   "metadata": {},
   "outputs": [
    {
     "name": "stdout",
     "output_type": "stream",
     "text": [
      "<class 'pandas.core.frame.DataFrame'>\n",
      "Index: 52160 entries, 0 to 52515\n",
      "Data columns (total 5 columns):\n",
      " #   Column         Non-Null Count  Dtype  \n",
      "---  ------         --------------  -----  \n",
      " 0   YEAR           52160 non-null  float64\n",
      " 1   SEDE           52160 non-null  object \n",
      " 2   FACULTAD       52160 non-null  object \n",
      " 3   CARRERA        52160 non-null  object \n",
      " 4   OBSERVACIONES  52160 non-null  object \n",
      "dtypes: float64(1), object(4)\n",
      "memory usage: 2.4+ MB\n"
     ]
    }
   ],
   "source": [
    "data.dropna(inplace=True)\n",
    "data.info()"
   ]
  },
  {
   "cell_type": "code",
   "execution_count": 9,
   "metadata": {},
   "outputs": [
    {
     "name": "stdout",
     "output_type": "stream",
     "text": [
      "Columna YEAR: 1 subniveles\n",
      "Columna SEDE: 8 subniveles\n",
      "Columna FACULTAD: 6 subniveles\n",
      "Columna CARRERA: 103 subniveles\n"
     ]
    }
   ],
   "source": [
    "data['YEAR'] = data['YEAR'].astype(float).astype(int)\n",
    "col_list = ['YEAR','SEDE', 'FACULTAD', 'CARRERA']\n",
    "for col in col_list:\n",
    "    if col == 'TEXTO_TOKEN':\n",
    "        data[col] = data[col].apply(lambda x: ' '.join(x))\n",
    "    print(f'Columna {col}: {data[col].nunique()} subniveles')"
   ]
  },
  {
   "cell_type": "code",
   "execution_count": 10,
   "metadata": {},
   "outputs": [
    {
     "name": "stdout",
     "output_type": "stream",
     "text": [
      "<class 'pandas.core.frame.DataFrame'>\n",
      "Index: 52160 entries, 0 to 52515\n",
      "Data columns (total 4 columns):\n",
      " #   Column         Non-Null Count  Dtype \n",
      "---  ------         --------------  ----- \n",
      " 0   SEDE           52160 non-null  object\n",
      " 1   FACULTAD       52160 non-null  object\n",
      " 2   CARRERA        52160 non-null  object\n",
      " 3   OBSERVACIONES  52160 non-null  object\n",
      "dtypes: object(4)\n",
      "memory usage: 2.0+ MB\n"
     ]
    }
   ],
   "source": [
    "data.drop(columns='YEAR', inplace=True)\n",
    "data.info()"
   ]
  },
  {
   "cell_type": "code",
   "execution_count": 11,
   "metadata": {},
   "outputs": [
    {
     "data": {
      "text/html": [
       "<table border=\"1\" class=\"dataframe\">\n",
       "  <thead>\n",
       "    <tr style=\"text-align: right;\">\n",
       "      <th></th>\n",
       "      <th>SEDE</th>\n",
       "      <th>FACULTAD</th>\n",
       "      <th>CARRERA</th>\n",
       "      <th>OBSERVACIONES</th>\n",
       "    </tr>\n",
       "  </thead>\n",
       "  <tbody>\n",
       "    <tr>\n",
       "      <th>29218</th>\n",
       "      <td>SEDE 5</td>\n",
       "      <td>FACULTAD 1</td>\n",
       "      <td>LICENCIATURA 02</td>\n",
       "      <td>Matrícula vía internet</td>\n",
       "    </tr>\n",
       "    <tr>\n",
       "      <th>14727</th>\n",
       "      <td>SEDE 7</td>\n",
       "      <td>FACULTAD 5</td>\n",
       "      <td>LICENCIATURA 22</td>\n",
       "      <td>El tema de la red Wi-Fi se debería colocar varios repetidores de señal con el fin de que no se caiga la señal y un aumento de mega.</td>\n",
       "    </tr>\n",
       "    <tr>\n",
       "      <th>12897</th>\n",
       "      <td>SEDE 1</td>\n",
       "      <td>FACULTAD 3</td>\n",
       "      <td>LICENCIATURA 10</td>\n",
       "      <td>El a/c de los salones del ----, parece ser que les falta mantenimiento o presentan desperfectos.</td>\n",
       "    </tr>\n",
       "    <tr>\n",
       "      <th>41329</th>\n",
       "      <td>SEDE 1</td>\n",
       "      <td>FACULTAD 5</td>\n",
       "      <td>LICENCIATURA 23</td>\n",
       "      <td>no hay servicios de impresión en el ----</td>\n",
       "    </tr>\n",
       "    <tr>\n",
       "      <th>44736</th>\n",
       "      <td>SEDE 1</td>\n",
       "      <td>FACULTAD 3</td>\n",
       "      <td>LICENCIATURA 09</td>\n",
       "      <td>Primero en lo de las comidas de las cafeterías debe ser más variado</td>\n",
       "    </tr>\n",
       "    <tr>\n",
       "      <th>34453</th>\n",
       "      <td>SEDE 1</td>\n",
       "      <td>FACULTAD 1</td>\n",
       "      <td>LICENCIATURA 02</td>\n",
       "      <td>Mejorar la espacio para parking e iluminación nocturna.</td>\n",
       "    </tr>\n",
       "    <tr>\n",
       "      <th>25991</th>\n",
       "      <td>SEDE 1</td>\n",
       "      <td>FACULTAD 5</td>\n",
       "      <td>LICENCIATURA 22</td>\n",
       "      <td>Los proyectores en algunas ocasiones no funcionan, cuando van a renovar?</td>\n",
       "    </tr>\n",
       "    <tr>\n",
       "      <th>726</th>\n",
       "      <td>SEDE 1</td>\n",
       "      <td>FACULTAD 3</td>\n",
       "      <td>INGENIERIA 15</td>\n",
       "      <td>-</td>\n",
       "    </tr>\n",
       "    <tr>\n",
       "      <th>7519</th>\n",
       "      <td>SEDE 1</td>\n",
       "      <td>FACULTAD 4</td>\n",
       "      <td>INGENIERIA 20</td>\n",
       "      <td>Aulas de laboratorios ambientadas a los laboratorios que se imparten.</td>\n",
       "    </tr>\n",
       "    <tr>\n",
       "      <th>18168</th>\n",
       "      <td>SEDE 1</td>\n",
       "      <td>FACULTAD 3</td>\n",
       "      <td>LICENCIATURA 11</td>\n",
       "      <td>Extiendan el horario de la caja para que los que estamos trabajando podamos llegar a tiempo para hacer los pagos correspondientes</td>\n",
       "    </tr>\n",
       "  </tbody>\n",
       "</table>"
      ],
      "text/plain": [
       "<IPython.core.display.HTML object>"
      ]
     },
     "metadata": {},
     "output_type": "display_data"
    }
   ],
   "source": [
    "display(HTML(data.sample(10).to_html()))"
   ]
  },
  {
   "cell_type": "markdown",
   "metadata": {},
   "source": [
    "Acomodar para que quite stopwords"
   ]
  },
  {
   "cell_type": "code",
   "execution_count": 12,
   "metadata": {},
   "outputs": [
    {
     "name": "stdout",
     "output_type": "stream",
     "text": [
      "['de', 'la', 'que', 'el', 'en', 'y', 'a', 'los', 'del', 'se', 'las', 'por', 'un', 'para', 'con', 'no', 'una', 'su', 'al', 'lo', 'como', 'más', 'pero', 'sus', 'le', 'ya', 'o', 'este', 'sí', 'porque', 'esta', 'entre', 'cuando', 'muy', 'sin', 'sobre', 'también', 'me', 'hasta', 'hay', 'donde', 'quien', 'desde', 'todo', 'nos', 'durante', 'todos', 'uno', 'les', 'ni', 'contra', 'otros', 'ese', 'eso', 'ante', 'ellos', 'e', 'esto', 'mí', 'antes', 'algunos', 'qué', 'unos', 'yo', 'otro', 'otras', 'otra', 'él', 'tanto', 'esa', 'estos', 'mucho', 'quienes', 'nada', 'muchos', 'cual', 'poco', 'ella', 'estar', 'estas', 'algunas', 'algo', 'nosotros', 'mi', 'mis', 'tú', 'te', 'ti', 'tu', 'tus', 'ellas', 'nosotras', 'vosotros', 'vosotras', 'os', 'mío', 'mía', 'míos', 'mías', 'tuyo', 'tuya', 'tuyos', 'tuyas', 'suyo', 'suya', 'suyos', 'suyas', 'nuestro', 'nuestra', 'nuestros', 'nuestras', 'vuestro', 'vuestra', 'vuestros', 'vuestras', 'esos', 'esas', 'estoy', 'estás', 'está', 'estamos', 'estáis', 'están', 'esté', 'estés', 'estemos', 'estéis', 'estén', 'estaré', 'estarás', 'estará', 'estaremos', 'estaréis', 'estarán', 'estaría', 'estarías', 'estaríamos', 'estaríais', 'estarían', 'estaba', 'estabas', 'estábamos', 'estabais', 'estaban', 'estuve', 'estuviste', 'estuvo', 'estuvimos', 'estuvisteis', 'estuvieron', 'estuviera', 'estuvieras', 'estuviéramos', 'estuvierais', 'estuvieran', 'estuviese', 'estuvieses', 'estuviésemos', 'estuvieseis', 'estuviesen', 'estando', 'estado', 'estada', 'estados', 'estadas', 'estad', 'he', 'has', 'ha', 'hemos', 'habéis', 'han', 'haya', 'hayas', 'hayamos', 'hayáis', 'hayan', 'habré', 'habrás', 'habrá', 'habremos', 'habréis', 'habrán', 'habría', 'habrías', 'habríamos', 'habríais', 'habrían', 'había', 'habías', 'habíamos', 'habíais', 'habían', 'hube', 'hubiste', 'hubo', 'hubimos', 'hubisteis', 'hubieron', 'hubiera', 'hubieras', 'hubiéramos', 'hubierais', 'hubieran', 'hubiese', 'hubieses', 'hubiésemos', 'hubieseis', 'hubiesen', 'habiendo', 'habido', 'habida', 'habidos', 'habidas', 'soy', 'eres', 'es', 'somos', 'sois', 'son', 'sea', 'seas', 'seamos', 'seáis', 'sean', 'seré', 'serás', 'será', 'seremos', 'seréis', 'serán', 'sería', 'serías', 'seríamos', 'seríais', 'serían', 'era', 'eras', 'éramos', 'erais', 'eran', 'fui', 'fuiste', 'fue', 'fuimos', 'fuisteis', 'fueron', 'fuera', 'fueras', 'fuéramos', 'fuerais', 'fueran', 'fuese', 'fueses', 'fuésemos', 'fueseis', 'fuesen', 'sintiendo', 'sentido', 'sentida', 'sentidos', 'sentidas', 'siente', 'sentid', 'tengo', 'tienes', 'tiene', 'tenemos', 'tenéis', 'tienen', 'tenga', 'tengas', 'tengamos', 'tengáis', 'tengan', 'tendré', 'tendrás', 'tendrá', 'tendremos', 'tendréis', 'tendrán', 'tendría', 'tendrías', 'tendríamos', 'tendríais', 'tendrían', 'tenía', 'tenías', 'teníamos', 'teníais', 'tenían', 'tuve', 'tuviste', 'tuvo', 'tuvimos', 'tuvisteis', 'tuvieron', 'tuviera', 'tuvieras', 'tuviéramos', 'tuvierais', 'tuvieran', 'tuviese', 'tuvieses', 'tuviésemos', 'tuvieseis', 'tuviesen', 'teniendo', 'tenido', 'tenida', 'tenidos', 'tenidas', 'tened', 'xq', 'oye', 'dale', 'dele', 'ba', 'abc', 'nan', 'na']\n"
     ]
    }
   ],
   "source": [
    "spanish_stopwords = list(stopwords.words('spanish'))\n",
    "spanish_stopwords.extend((\"xq\", \"oye\", \"dale\", \"dele\", \"ba\", \"abc\", \"nan\", \"na\"))\n",
    "print(spanish_stopwords)"
   ]
  },
  {
   "cell_type": "code",
   "execution_count": 13,
   "metadata": {},
   "outputs": [],
   "source": [
    "evaluations = []\n",
    "evaluations_std = []\n",
    "\n",
    "\n",
    "def fit_and_evaluate(km, X, name=None, n_runs=5):\n",
    "    name = km.__class__.__name__ if name is None else name\n",
    "\n",
    "    train_times = []\n",
    "    scores = defaultdict(list)\n",
    "    for seed in range(n_runs):\n",
    "        km.set_params(random_state=seed)\n",
    "        t0 = time()\n",
    "        km.fit(X)\n",
    "        train_times.append(time() - t0)\n",
    "        scores[\"Silhouette Coefficient\"].append( metrics.silhouette_score(X, km.labels_, sample_size=2000))\n",
    "        scores[\"Davies-Bouldin Index\"].append(metrics.davies_bouldin_score(X, km.labels_))\n",
    "        scores[\"Calinski-Harabasz Index\"].append(metrics.calinski_harabasz_score(X, km.labels_))\n",
    "    train_times = np.asarray(train_times)\n",
    "\n",
    "    print(f\"clustering done in {train_times.mean():.2f} ± {train_times.std():.2f} s \")\n",
    "    evaluation = {\n",
    "        \"estimator\": name,\n",
    "        \"train_time\": train_times.mean(),\n",
    "    }\n",
    "    evaluation_std = {\n",
    "        \"estimator\": name,\n",
    "        \"train_time\": train_times.std(),\n",
    "    }\n",
    "    for score_name, score_values in scores.items():\n",
    "        mean_score, std_score = np.mean(score_values), np.std(score_values)\n",
    "        print(f\"{score_name}: {mean_score:.3f} ± {std_score:.3f}\")\n",
    "        evaluation[score_name] = mean_score\n",
    "        evaluation_std[score_name] = std_score\n",
    "    evaluations.append(evaluation)\n",
    "    evaluations_std.append(evaluation_std)"
   ]
  },
  {
   "cell_type": "code",
   "execution_count": 14,
   "metadata": {},
   "outputs": [
    {
     "name": "stdout",
     "output_type": "stream",
     "text": [
      "Esto es 1 ejemplo de l'limpieza de6 TEXTO  https://t.co/rnHPgyhx4Z @cienciadedatos #textmining zzzzz oooooo aaaaaaaa hhh eeeeeeee todo bien, bien\n",
      "['esto', 'ejemplo', 'limpieza', 'texto', 'cienciadedatos', 'textmining', 'todo', 'bien', 'bien']\n"
     ]
    }
   ],
   "source": [
    "def limpiar_tokenizar(texto):\n",
    "    # Eliminación de números\n",
    "    nuevo_texto = re.sub(\"\\d+\", ' ', texto)\n",
    "    # Se convierte todo el texto a minúsculas\n",
    "    nuevo_texto = nuevo_texto.lower()\n",
    "    # Eliminación de páginas web (palabras que empiezan por \"http\")\n",
    "    nuevo_texto = re.sub('http\\S+', ' ', nuevo_texto)\n",
    "    # Eliminación de signos de puntuación\n",
    "    regex = '[\\\\!\\\\\"\\\\#\\\\$\\\\%\\\\&\\\\\\'\\\\(\\\\)\\\\*\\\\+\\\\,\\\n",
    "    \\-\\\\.\\\\/\\\\:\\\\;\\\\<\\\\=\\\\>\\\\?\\\\@\\\\[\\\\\\\\\\\\]\\\\^_\\\\`\\\\{\\\\|\\\\}\\\\~—]'\n",
    "    nuevo_texto = re.sub(regex , ' ', nuevo_texto)\n",
    "    # Eliminación de espacios en blanco múltiples\n",
    "    nuevo_texto = re.sub(\"\\\\s+\", ' ', nuevo_texto)\n",
    "    # Tokenización por palabras individuales\n",
    "    nuevo_texto = nuevo_texto.split(sep = ' ')\n",
    "    # Eliminación de tokens con una longitud < 2\n",
    "    nuevo_texto = [token for token in nuevo_texto if len(token) > 2]\n",
    "    # quitar los token que sean solamente de una letra repetidas 2 o mas veces\n",
    "    nuevo_texto = [token for token in nuevo_texto if not re.fullmatch(r'(.)\\1*', token)]\n",
    "    \n",
    "    return(nuevo_texto)\n",
    "\n",
    "test = \"Esto es 1 ejemplo de l'limpieza de6 TEXTO  https://t.co/rnHPgyhx4Z @cienciadedatos #textmining zzzzz oooooo aaaaaaaa hhh eeeeeeee todo bien, bien\"\n",
    "print(test)\n",
    "print(limpiar_tokenizar(texto=test))"
   ]
  },
  {
   "cell_type": "code",
   "execution_count": 15,
   "metadata": {},
   "outputs": [],
   "source": [
    "def join_tokens(tokens):\n",
    "    if isinstance(tokens, list):\n",
    "        return ' '.join(tokens)\n",
    "    else:\n",
    "        return ''"
   ]
  },
  {
   "cell_type": "code",
   "execution_count": 16,
   "metadata": {},
   "outputs": [
    {
     "data": {
      "text/html": [
       "<table border=\"1\" class=\"dataframe\">\n",
       "  <thead>\n",
       "    <tr style=\"text-align: right;\">\n",
       "      <th></th>\n",
       "      <th>SEDE</th>\n",
       "      <th>FACULTAD</th>\n",
       "      <th>CARRERA</th>\n",
       "      <th>OBSERVACIONES</th>\n",
       "    </tr>\n",
       "  </thead>\n",
       "  <tbody>\n",
       "    <tr>\n",
       "      <th>6930</th>\n",
       "      <td>SEDE 6</td>\n",
       "      <td>FACULTAD 3</td>\n",
       "      <td>LICENCIATURA 10</td>\n",
       "      <td>Áreas de esparcimiento</td>\n",
       "    </tr>\n",
       "    <tr>\n",
       "      <th>47458</th>\n",
       "      <td>SEDE 1</td>\n",
       "      <td>FACULTAD 2</td>\n",
       "      <td>INGENIERIA 13</td>\n",
       "      <td>Seguridad</td>\n",
       "    </tr>\n",
       "    <tr>\n",
       "      <th>1583</th>\n",
       "      <td>SEDE 5</td>\n",
       "      <td>FACULTAD 1</td>\n",
       "      <td>LICENCIATURA 02</td>\n",
       "      <td>.</td>\n",
       "    </tr>\n",
       "    <tr>\n",
       "      <th>51963</th>\n",
       "      <td>SEDE 7</td>\n",
       "      <td>FACULTAD 3</td>\n",
       "      <td>LICENCIATURA 10</td>\n",
       "      <td>wifi</td>\n",
       "    </tr>\n",
       "    <tr>\n",
       "      <th>22023</th>\n",
       "      <td>SEDE 1</td>\n",
       "      <td>FACULTAD 4</td>\n",
       "      <td>INGENIERIA 21</td>\n",
       "      <td>La cafeteria aveces se llena bastante y no hay espacios</td>\n",
       "    </tr>\n",
       "    <tr>\n",
       "      <th>49128</th>\n",
       "      <td>SEDE 6</td>\n",
       "      <td>FACULTAD 3</td>\n",
       "      <td>LICENCIATURA 10</td>\n",
       "      <td>Tener espacios de estudio suficientes para la cantidad de estudiantes</td>\n",
       "    </tr>\n",
       "    <tr>\n",
       "      <th>50826</th>\n",
       "      <td>SEDE 1</td>\n",
       "      <td>FACULTAD 2</td>\n",
       "      <td>INGENIERIA 08</td>\n",
       "      <td>Un poco raro los horarios</td>\n",
       "    </tr>\n",
       "    <tr>\n",
       "      <th>20061</th>\n",
       "      <td>SEDE 3</td>\n",
       "      <td>FACULTAD 1</td>\n",
       "      <td>POSTGRADO 17</td>\n",
       "      <td>horarios</td>\n",
       "    </tr>\n",
       "    <tr>\n",
       "      <th>28040</th>\n",
       "      <td>SEDE 1</td>\n",
       "      <td>FACULTAD 3</td>\n",
       "      <td>INGENIERIA 16</td>\n",
       "      <td>mas luces en los estacionamientos</td>\n",
       "    </tr>\n",
       "    <tr>\n",
       "      <th>51059</th>\n",
       "      <td>SEDE 1</td>\n",
       "      <td>FACULTAD 4</td>\n",
       "      <td>INGENIERIA 17</td>\n",
       "      <td>V</td>\n",
       "    </tr>\n",
       "  </tbody>\n",
       "</table>"
      ],
      "text/plain": [
       "<IPython.core.display.HTML object>"
      ]
     },
     "metadata": {},
     "output_type": "display_data"
    }
   ],
   "source": [
    "display(HTML(data.sample(10).to_html()))"
   ]
  },
  {
   "cell_type": "code",
   "execution_count": 17,
   "metadata": {},
   "outputs": [
    {
     "name": "stdout",
     "output_type": "stream",
     "text": [
      "vectorization done in 0.501 s\n",
      "n_samples: 52160, n_features: 3065\n"
     ]
    }
   ],
   "source": [
    "data['OBSERVACIONES'] = data['OBSERVACIONES'].astype(str)\n",
    "data['TEXTO_TOKEN'] = data['OBSERVACIONES'].apply(lambda x: limpiar_tokenizar(x))\n",
    "\n",
    "# Concatenar la lista de tokens en una sola cadena con espacios\n",
    "data['TEXTO_STRING'] = data['TEXTO_TOKEN'].apply(join_tokens)\n",
    "\n",
    "vectorizer = TfidfVectorizer(\n",
    "    max_df=0.5,\n",
    "    min_df=5,\n",
    ")\n",
    "t0 = time()\n",
    "X_tfidf = vectorizer.fit_transform(data['TEXTO_STRING'])\n",
    "\n",
    "print(f\"vectorization done in {time() - t0:.3f} s\")\n",
    "print(f\"n_samples: {X_tfidf.shape[0]}, n_features: {X_tfidf.shape[1]}\")"
   ]
  },
  {
   "cell_type": "code",
   "execution_count": 18,
   "metadata": {},
   "outputs": [
    {
     "data": {
      "text/html": [
       "<table border=\"1\" class=\"dataframe\">\n",
       "  <thead>\n",
       "    <tr style=\"text-align: right;\">\n",
       "      <th></th>\n",
       "      <th>SEDE</th>\n",
       "      <th>FACULTAD</th>\n",
       "      <th>CARRERA</th>\n",
       "      <th>OBSERVACIONES</th>\n",
       "      <th>TEXTO_TOKEN</th>\n",
       "      <th>TEXTO_STRING</th>\n",
       "    </tr>\n",
       "  </thead>\n",
       "  <tbody>\n",
       "    <tr>\n",
       "      <th>21497</th>\n",
       "      <td>SEDE 4</td>\n",
       "      <td>FACULTAD 3</td>\n",
       "      <td>INGENIERIA 15</td>\n",
       "      <td>Internet mas estable</td>\n",
       "      <td>[internet, mas, estable]</td>\n",
       "      <td>internet mas estable</td>\n",
       "    </tr>\n",
       "    <tr>\n",
       "      <th>26203</th>\n",
       "      <td>SEDE 1</td>\n",
       "      <td>FACULTAD 1</td>\n",
       "      <td>LICENCIATURA 02</td>\n",
       "      <td>Los tutores no son responsables</td>\n",
       "      <td>[los, tutores, son, responsables]</td>\n",
       "      <td>los tutores son responsables</td>\n",
       "    </tr>\n",
       "    <tr>\n",
       "      <th>8132</th>\n",
       "      <td>SEDE 1</td>\n",
       "      <td>FACULTAD 1</td>\n",
       "      <td>INGENIERIA 06</td>\n",
       "      <td>Bebd</td>\n",
       "      <td>[bebd]</td>\n",
       "      <td>bebd</td>\n",
       "    </tr>\n",
       "    <tr>\n",
       "      <th>43622</th>\n",
       "      <td>SEDE 1</td>\n",
       "      <td>FACULTAD 5</td>\n",
       "      <td>LICENCIATURA 22</td>\n",
       "      <td>Poca instalacion  para estudios</td>\n",
       "      <td>[poca, instalacion, para, estudios]</td>\n",
       "      <td>poca instalacion para estudios</td>\n",
       "    </tr>\n",
       "    <tr>\n",
       "      <th>22699</th>\n",
       "      <td>SEDE 5</td>\n",
       "      <td>FACULTAD 5</td>\n",
       "      <td>LICENCIATURA 22</td>\n",
       "      <td>La conexión a internet</td>\n",
       "      <td>[conexión, internet]</td>\n",
       "      <td>conexión internet</td>\n",
       "    </tr>\n",
       "    <tr>\n",
       "      <th>26311</th>\n",
       "      <td>SEDE 1</td>\n",
       "      <td>FACULTAD 4</td>\n",
       "      <td>LICENCIATURA 14</td>\n",
       "      <td>Lugares de receso o esparcimiento</td>\n",
       "      <td>[lugares, receso, esparcimiento]</td>\n",
       "      <td>lugares receso esparcimiento</td>\n",
       "    </tr>\n",
       "    <tr>\n",
       "      <th>14426</th>\n",
       "      <td>SEDE 1</td>\n",
       "      <td>FACULTAD 3</td>\n",
       "      <td>INGENIERIA 15</td>\n",
       "      <td>El proceso de matricula debería ser mas eficiente</td>\n",
       "      <td>[proceso, matricula, debería, ser, mas, eficiente]</td>\n",
       "      <td>proceso matricula debería ser mas eficiente</td>\n",
       "    </tr>\n",
       "    <tr>\n",
       "      <th>31609</th>\n",
       "      <td>SEDE 1</td>\n",
       "      <td>FACULTAD 4</td>\n",
       "      <td>LICENCIATURA 19</td>\n",
       "      <td>mejora en laboratorios</td>\n",
       "      <td>[mejora, laboratorios]</td>\n",
       "      <td>mejora laboratorios</td>\n",
       "    </tr>\n",
       "    <tr>\n",
       "      <th>29237</th>\n",
       "      <td>SEDE 1</td>\n",
       "      <td>FACULTAD 3</td>\n",
       "      <td>POSTGRADO 41</td>\n",
       "      <td>Matrícula virtual</td>\n",
       "      <td>[matrícula, virtual]</td>\n",
       "      <td>matrícula virtual</td>\n",
       "    </tr>\n",
       "    <tr>\n",
       "      <th>36133</th>\n",
       "      <td>SEDE 1</td>\n",
       "      <td>FACULTAD 3</td>\n",
       "      <td>INGENIERIA 15</td>\n",
       "      <td>Mejorar un poco la atención del personal administrativo de la Facultad de Ingeniería ----.</td>\n",
       "      <td>[mejorar, poco, atención, del, personal, administrativo, facultad, ingeniería]</td>\n",
       "      <td>mejorar poco atención del personal administrativo facultad ingeniería</td>\n",
       "    </tr>\n",
       "  </tbody>\n",
       "</table>"
      ],
      "text/plain": [
       "<IPython.core.display.HTML object>"
      ]
     },
     "metadata": {},
     "output_type": "display_data"
    }
   ],
   "source": [
    "display(HTML(data.sample(10).to_html()))"
   ]
  },
  {
   "cell_type": "code",
   "execution_count": 19,
   "metadata": {},
   "outputs": [
    {
     "name": "stdout",
     "output_type": "stream",
     "text": [
      "Tamaño del set después de eliminar las filas sin tokens: (45511, 6)\n"
     ]
    },
    {
     "data": {
      "text/html": [
       "<table border=\"1\" class=\"dataframe\">\n",
       "  <thead>\n",
       "    <tr style=\"text-align: right;\">\n",
       "      <th></th>\n",
       "      <th>SEDE</th>\n",
       "      <th>FACULTAD</th>\n",
       "      <th>CARRERA</th>\n",
       "      <th>OBSERVACIONES</th>\n",
       "      <th>TEXTO_TOKEN</th>\n",
       "      <th>TEXTO_STRING</th>\n",
       "    </tr>\n",
       "  </thead>\n",
       "  <tbody>\n",
       "    <tr>\n",
       "      <th>878</th>\n",
       "      <td>SEDE 4</td>\n",
       "      <td>FACULTAD 3</td>\n",
       "      <td>LICENCIATURA 10</td>\n",
       "      <td>- Capacidad, iluminación, ventilación de las aulas. El aire se suele dañar Los salones se ven muy oscuros, en mi opinión  no motivan a dar clase ahí. - Servicios de Fotocopiado. Se necesita urgente.</td>\n",
       "      <td>[capacidad, iluminación, ventilación, las, aulas, aire, suele, dañar, los, salones, ven, muy, oscuros, opinión, motivan, dar, clase, ahí, servicios, fotocopiado, necesita, urgente]</td>\n",
       "      <td>capacidad iluminación ventilación las aulas aire suele dañar los salones ven muy oscuros opinión motivan dar clase ahí servicios fotocopiado necesita urgente</td>\n",
       "    </tr>\n",
       "    <tr>\n",
       "      <th>879</th>\n",
       "      <td>SEDE 8</td>\n",
       "      <td>FACULTAD 4</td>\n",
       "      <td>LICENCIATURA 15</td>\n",
       "      <td>---- de reciclado</td>\n",
       "      <td>[reciclado]</td>\n",
       "      <td>reciclado</td>\n",
       "    </tr>\n",
       "    <tr>\n",
       "      <th>880</th>\n",
       "      <td>SEDE 1</td>\n",
       "      <td>FACULTAD 5</td>\n",
       "      <td>INGENIERIA 25</td>\n",
       "      <td>deberían modernizar los equipos utilizados en los laboratorios.</td>\n",
       "      <td>[deberían, modernizar, los, equipos, utilizados, los, laboratorios]</td>\n",
       "      <td>deberían modernizar los equipos utilizados los laboratorios</td>\n",
       "    </tr>\n",
       "    <tr>\n",
       "      <th>881</th>\n",
       "      <td>SEDE 1</td>\n",
       "      <td>FACULTAD 4</td>\n",
       "      <td>INGENIERIA 17</td>\n",
       "      <td>---- en necesidad del remodelación interior, abrir mas entradas de estacionamientos (hay una que se construyo pero esta cerrada), mas puentes peatonales y reparar los artefactos de los baños.</td>\n",
       "      <td>[necesidad, del, remodelación, interior, abrir, mas, entradas, estacionamientos, hay, una, que, construyo, pero, esta, cerrada, mas, puentes, peatonales, reparar, los, artefactos, los, baños]</td>\n",
       "      <td>necesidad del remodelación interior abrir mas entradas estacionamientos hay una que construyo pero esta cerrada mas puentes peatonales reparar los artefactos los baños</td>\n",
       "    </tr>\n",
       "    <tr>\n",
       "      <th>882</th>\n",
       "      <td>SEDE 1</td>\n",
       "      <td>FACULTAD 1</td>\n",
       "      <td>INGENIERIA 01</td>\n",
       "      <td>---- necesita cortinas para uso de proyectores</td>\n",
       "      <td>[necesita, cortinas, para, uso, proyectores]</td>\n",
       "      <td>necesita cortinas para uso proyectores</td>\n",
       "    </tr>\n",
       "    <tr>\n",
       "      <th>883</th>\n",
       "      <td>SEDE 8</td>\n",
       "      <td>FACULTAD 1</td>\n",
       "      <td>INGENIERIA 01</td>\n",
       "      <td>no contamos con servicio de fotocopia.  El Wi-Fi no llega a ciertas aulas en donde muchas veces se necesita para trabajos que nos asignan.</td>\n",
       "      <td>[contamos, con, servicio, fotocopia, llega, ciertas, aulas, donde, muchas, veces, necesita, para, trabajos, que, nos, asignan]</td>\n",
       "      <td>contamos con servicio fotocopia llega ciertas aulas donde muchas veces necesita para trabajos que nos asignan</td>\n",
       "    </tr>\n",
       "    <tr>\n",
       "      <th>884</th>\n",
       "      <td>SEDE 1</td>\n",
       "      <td>FACULTAD 5</td>\n",
       "      <td>LICENCIATURA 27</td>\n",
       "      <td>---- no tiene un buen olor</td>\n",
       "      <td>[tiene, buen, olor]</td>\n",
       "      <td>tiene buen olor</td>\n",
       "    </tr>\n",
       "    <tr>\n",
       "      <th>885</th>\n",
       "      <td>SEDE 8</td>\n",
       "      <td>FACULTAD 3</td>\n",
       "      <td>INGENIERIA 15</td>\n",
       "      <td>WiFi no es suficiente, implementar un WiFi con mayor capacidad de banda ancha y mayores velocidades sería oportuno.</td>\n",
       "      <td>[wifi, suficiente, implementar, wifi, con, mayor, capacidad, banda, ancha, mayores, velocidades, sería, oportuno]</td>\n",
       "      <td>wifi suficiente implementar wifi con mayor capacidad banda ancha mayores velocidades sería oportuno</td>\n",
       "    </tr>\n",
       "    <tr>\n",
       "      <th>893</th>\n",
       "      <td>SEDE 1</td>\n",
       "      <td>FACULTAD 2</td>\n",
       "      <td>TÉCNICO 05</td>\n",
       "      <td>#14 /  pocas  charlas o seminarios de innovación de información enfocado para el grupo nocturno</td>\n",
       "      <td>[pocas, charlas, seminarios, innovación, información, enfocado, para, grupo, nocturno]</td>\n",
       "      <td>pocas charlas seminarios innovación información enfocado para grupo nocturno</td>\n",
       "    </tr>\n",
       "    <tr>\n",
       "      <th>894</th>\n",
       "      <td>SEDE 1</td>\n",
       "      <td>FACULTAD 2</td>\n",
       "      <td>POSTGRADO 20</td>\n",
       "      <td>#14 Informar sobre Servicios de Orientación para el horario estudiantil nocturno.</td>\n",
       "      <td>[informar, sobre, servicios, orientación, para, horario, estudiantil, nocturno]</td>\n",
       "      <td>informar sobre servicios orientación para horario estudiantil nocturno</td>\n",
       "    </tr>\n",
       "  </tbody>\n",
       "</table>"
      ],
      "text/plain": [
       "<IPython.core.display.HTML object>"
      ]
     },
     "metadata": {},
     "output_type": "display_data"
    }
   ],
   "source": [
    "data = data[data['TEXTO_TOKEN'].apply(len) > 0]\n",
    "print(f'Tamaño del set después de eliminar las filas sin tokens: {data.shape}')\n",
    "display(HTML(data.head(10).to_html()))"
   ]
  },
  {
   "cell_type": "code",
   "execution_count": 20,
   "metadata": {},
   "outputs": [
    {
     "name": "stdout",
     "output_type": "stream",
     "text": [
      "0.001\n"
     ]
    }
   ],
   "source": [
    "print(f\"{X_tfidf.nnz / np.prod(X_tfidf.shape):.3f}\")"
   ]
  },
  {
   "cell_type": "code",
   "execution_count": 21,
   "metadata": {},
   "outputs": [
    {
     "data": {
      "text/plain": [
       "<52160x3065 sparse matrix of type '<class 'numpy.float64'>'\n",
       "\twith 216567 stored elements in Compressed Sparse Row format>"
      ]
     },
     "execution_count": 21,
     "metadata": {},
     "output_type": "execute_result"
    }
   ],
   "source": [
    "X_tfidf"
   ]
  },
  {
   "cell_type": "code",
   "execution_count": 22,
   "metadata": {},
   "outputs": [
    {
     "name": "stdout",
     "output_type": "stream",
     "text": [
      "Número óptimo de clusters según el método de la silueta: 13\n"
     ]
    }
   ],
   "source": [
    "from sklearn.metrics import silhouette_score\n",
    "\n",
    "silhouette_scores = []\n",
    "\n",
    "for n_clusters in range(2, 15):\n",
    "    kmeans = KMeans(n_clusters=n_clusters, init='k-means++', max_iter=300, n_init=10, random_state=0)\n",
    "    cluster_labels = kmeans.fit_predict(X_tfidf)  # X es tu matriz de datos\n",
    "    silhouette_avg = silhouette_score(X_tfidf, cluster_labels)\n",
    "    silhouette_scores.append(silhouette_avg)\n",
    "\n",
    "# Encontrar el número óptimo de clusters basado en el método de la silueta\n",
    "optimal_n_clusters = np.argmax(silhouette_scores) + 2  # +2 porque empezamos desde n_clusters=2\n",
    "\n",
    "print(f\"Número óptimo de clusters según el método de la silueta: {optimal_n_clusters}\")"
   ]
  },
  {
   "cell_type": "code",
   "execution_count": 23,
   "metadata": {},
   "outputs": [],
   "source": [
    "# optimal_n_clusters = 13 # +2 porque empezamos desde n_clusters=2\n",
    "\n",
    "# print(f\"Número óptimo de clusters según el método de la silueta: {optimal_n_clusters}\")"
   ]
  },
  {
   "cell_type": "code",
   "execution_count": 24,
   "metadata": {},
   "outputs": [
    {
     "name": "stdout",
     "output_type": "stream",
     "text": [
      "Number of elements asigned to each cluster: [  246  2328   532   928 37477  2082   821  1186    29  2007  2704   192\n",
      "  1628]\n",
      "Number of elements asigned to each cluster: [  152 39916  1725   148   379  1240   218  2243   926  1048  2022   821\n",
      "  1322]\n",
      "Number of elements asigned to each cluster: [  636 38838   268  2871   821   200   382  1154  1839  1352   926  2265\n",
      "   608]\n",
      "Number of elements asigned to each cluster: [ 2650  3254 38318   630   134  1309  1392   616   146   656   598   176\n",
      "  2281]\n",
      "Number of elements asigned to each cluster: [   24   907 41093   618  2232  1375  1147   766   653   478   323  1884\n",
      "   660]\n",
      "\n"
     ]
    }
   ],
   "source": [
    "from sklearn.cluster import KMeans\n",
    "\n",
    "for seed in range(5):\n",
    "    kmeans = KMeans(\n",
    "        n_clusters=optimal_n_clusters,\n",
    "        max_iter=100,\n",
    "        n_init=1,\n",
    "        random_state=seed,\n",
    "    ).fit(X_tfidf)\n",
    "    cluster_ids, cluster_sizes = np.unique(kmeans.labels_, return_counts=True)\n",
    "    print(f\"Number of elements asigned to each cluster: {cluster_sizes}\")\n",
    "print()\n"
   ]
  },
  {
   "cell_type": "code",
   "execution_count": 25,
   "metadata": {},
   "outputs": [
    {
     "name": "stdout",
     "output_type": "stream",
     "text": [
      "clustering done in 31.90 ± 4.22 s \n",
      "Silhouette Coefficient: 0.106 ± 0.008\n",
      "Davies-Bouldin Index: 2.695 ± 0.115\n",
      "Calinski-Harabasz Index: 601.418 ± 53.684\n"
     ]
    }
   ],
   "source": [
    "kmeans = KMeans(\n",
    "    n_clusters=optimal_n_clusters,\n",
    "    max_iter=100,\n",
    "    n_init=5,\n",
    ")\n",
    "\n",
    "fit_and_evaluate(kmeans, X_tfidf.toarray(), name=\"KMeans\\non tf-idf vectors\")"
   ]
  },
  {
   "cell_type": "code",
   "execution_count": 26,
   "metadata": {},
   "outputs": [
    {
     "name": "stdout",
     "output_type": "stream",
     "text": [
      "LSA done in 3.278 s\n",
      "Explained variance of the SVD step: 49.5%\n"
     ]
    }
   ],
   "source": [
    "from sklearn.decomposition import TruncatedSVD\n",
    "from sklearn.pipeline import make_pipeline\n",
    "from sklearn.preprocessing import Normalizer\n",
    "\n",
    "\n",
    "lsa = make_pipeline(TruncatedSVD(n_components=100), Normalizer(copy=False))\n",
    "t0 = time()\n",
    "X_lsa = lsa.fit_transform(X_tfidf)\n",
    "explained_variance = lsa[0].explained_variance_ratio_.sum()\n",
    "\n",
    "print(f\"LSA done in {time() - t0:.3f} s\")\n",
    "print(f\"Explained variance of the SVD step: {explained_variance * 100:.1f}%\")"
   ]
  },
  {
   "cell_type": "code",
   "execution_count": 27,
   "metadata": {},
   "outputs": [
    {
     "name": "stdout",
     "output_type": "stream",
     "text": [
      "clustering done in 0.33 ± 0.07 s \n",
      "Silhouette Coefficient: 0.135 ± 0.009\n",
      "Davies-Bouldin Index: 2.335 ± 0.035\n",
      "Calinski-Harabasz Index: 1079.937 ± 82.690\n"
     ]
    }
   ],
   "source": [
    "kmeans = KMeans(\n",
    "    n_clusters=optimal_n_clusters,\n",
    "    max_iter=100,\n",
    "    n_init=1,\n",
    ")\n",
    "\n",
    "fit_and_evaluate(kmeans, X_lsa, name=\"KMeans\\nwith LSA on tf-idf vectors\")"
   ]
  },
  {
   "cell_type": "code",
   "execution_count": 28,
   "metadata": {},
   "outputs": [
    {
     "name": "stdout",
     "output_type": "stream",
     "text": [
      "clustering done in 0.12 ± 0.03 s \n",
      "Silhouette Coefficient: 0.128 ± 0.011\n",
      "Davies-Bouldin Index: 2.592 ± 0.225\n",
      "Calinski-Harabasz Index: 1055.419 ± 98.562\n"
     ]
    }
   ],
   "source": [
    "from sklearn.cluster import MiniBatchKMeans\n",
    "\n",
    "minibatch_kmeans = MiniBatchKMeans(\n",
    "    n_clusters=optimal_n_clusters,\n",
    "    n_init=1,\n",
    "    init_size=1000,\n",
    "    batch_size=1000,\n",
    ")\n",
    "\n",
    "fit_and_evaluate(\n",
    "    minibatch_kmeans,\n",
    "    X_lsa,\n",
    "    name=\"MiniBatchKMeans\\nwith LSA on tf-idf vectors\",\n",
    ")"
   ]
  },
  {
   "cell_type": "code",
   "execution_count": 29,
   "metadata": {},
   "outputs": [
    {
     "name": "stdout",
     "output_type": "stream",
     "text": [
      "Cluster 0: proyectores los algunos salones funcionan aulas que las cables problemas \n",
      "Cluster 1: estacionamientos los más mas pocos hay mejorar para seguridad iluminación \n",
      "Cluster 2: los mejorar más nada mas ninguna laboratorios cafeteria con hay \n",
      "Cluster 3: tengo observaciones observación ninguna quejas por que más nada mas \n",
      "Cluster 4: las instalaciones cafeterías mejorar los aulas que para clases computadoras \n",
      "Cluster 5: wifi mejorar del red lento institucional mejor señal calidad muy \n",
      "Cluster 6: bien todo muy esta por demás está momento demas parece \n",
      "Cluster 7: internet mejorar del lento mejor calidad velocidad muy servicio señal \n",
      "Cluster 8: matrícula sistema proceso página mejorar virtual pago que plataforma por \n",
      "Cluster 9: cafetería variedad precios comida más menú alimentos los mejorar precio \n",
      "Cluster 10: que los para hay con por una más las del \n",
      "Cluster 11: estacionamiento más hay los para espacio mejorar mas espacios falta \n",
      "Cluster 12: para los estudiantes más estudiar lugares espacios laboratorios que hay \n"
     ]
    }
   ],
   "source": [
    "original_space_centroids = lsa[0].inverse_transform(kmeans.cluster_centers_)\n",
    "order_centroids = original_space_centroids.argsort()[:, ::-1]\n",
    "terms = vectorizer.get_feature_names_out()\n",
    "\n",
    "for i in range(optimal_n_clusters):\n",
    "    print(f\"Cluster {i}: \", end=\"\")\n",
    "    for ind in order_centroids[i, :10]:\n",
    "        print(f\"{terms[ind]} \", end=\"\")\n",
    "    print()"
   ]
  },
  {
   "cell_type": "code",
   "execution_count": 30,
   "metadata": {},
   "outputs": [
    {
     "name": "stdout",
     "output_type": "stream",
     "text": [
      "vectorization done in 6.745 s\n"
     ]
    }
   ],
   "source": [
    "from sklearn.feature_extraction.text import HashingVectorizer\n",
    "from sklearn.feature_extraction.text import TfidfTransformer\n",
    "\n",
    "lsa_vectorizer = make_pipeline(\n",
    "    HashingVectorizer(stop_words=None, n_features=50_000),\n",
    "    TfidfTransformer(),\n",
    "    TruncatedSVD(n_components=100, random_state=0),\n",
    "    Normalizer(copy=False),\n",
    ")\n",
    "\n",
    "t0 = time()\n",
    "X_hashed_lsa = lsa_vectorizer.fit_transform(data['TEXTO_STRING'])\n",
    "print(f\"vectorization done in {time() - t0:.3f} s\")"
   ]
  },
  {
   "cell_type": "code",
   "execution_count": 31,
   "metadata": {},
   "outputs": [
    {
     "name": "stdout",
     "output_type": "stream",
     "text": [
      "clustering done in 0.36 ± 0.02 s \n",
      "Silhouette Coefficient: 0.109 ± 0.014\n",
      "Davies-Bouldin Index: 2.881 ± 0.128\n",
      "Calinski-Harabasz Index: 1059.357 ± 61.503\n"
     ]
    }
   ],
   "source": [
    "fit_and_evaluate(kmeans, X_hashed_lsa, name=\"KMeans\\nwith LSA on hashed vectors\")"
   ]
  },
  {
   "cell_type": "code",
   "execution_count": 32,
   "metadata": {},
   "outputs": [
    {
     "name": "stdout",
     "output_type": "stream",
     "text": [
      "K-Means training done in 3.442 s\n"
     ]
    }
   ],
   "source": [
    "# Paso 2: Entrenamiento del modelo K-Means\n",
    "\n",
    "kmeans = KMeans(n_clusters=optimal_n_clusters, random_state=0)\n",
    "\n",
    "t0 = time()\n",
    "kmeans.fit(X_hashed_lsa)\n",
    "print(f\"K-Means training done in {time() - t0:.3f} s\")\n",
    "\n",
    "# Predicciones (opcional)\n",
    "labels = kmeans.labels_\n",
    "\n",
    "# # Paso 3: Evaluación (opcional)\n",
    "# silhouette_avg = silhouette_score(X_hashed_lsa, labels)\n",
    "# print(f\"Silhouette score: {silhouette_avg:.3f}\")\n",
    "\n",
    "# Si deseas guardar los resultados:\n",
    "data['Cluster'] = labels\n",
    "data.to_csv(\"KMeans with LSA on hashed vectors.csv\", index=False)"
   ]
  },
  {
   "cell_type": "code",
   "execution_count": 33,
   "metadata": {},
   "outputs": [
    {
     "name": "stdout",
     "output_type": "stream",
     "text": [
      "clustering done in 0.14 ± 0.03 s \n",
      "Silhouette Coefficient: 0.104 ± 0.011\n",
      "Davies-Bouldin Index: 3.170 ± 0.220\n",
      "Calinski-Harabasz Index: 1004.625 ± 60.456\n"
     ]
    }
   ],
   "source": [
    "fit_and_evaluate(\n",
    "    minibatch_kmeans,\n",
    "    X_hashed_lsa,\n",
    "    name=\"MiniBatchKMeans\\nwith LSA on hashed vectors\",\n",
    ")"
   ]
  },
  {
   "cell_type": "code",
   "execution_count": 34,
   "metadata": {},
   "outputs": [
    {
     "data": {
      "image/png": "[encoded data removed]",
      "text/plain": [
       "<Figure size 1600x600 with 2 Axes>"
      ]
     },
     "metadata": {},
     "output_type": "display_data"
    }
   ],
   "source": [
    "import pandas as pd\n",
    "import matplotlib.pyplot as plt\n",
    "\n",
    "fig, (ax0, ax1) = plt.subplots(ncols=2, figsize=(16, 6), sharey=True)\n",
    "\n",
    "df = pd.DataFrame(evaluations[::-1]).set_index(\"estimator\")\n",
    "df_std = pd.DataFrame(evaluations_std[::-1]).set_index(\"estimator\")\n",
    "\n",
    "df.drop(\n",
    "    [\"train_time\"],\n",
    "    axis=\"columns\",\n",
    ").plot.barh(ax=ax0, xerr=df_std)\n",
    "ax0.set_xlabel(\"Clustering scores\")\n",
    "ax0.set_ylabel(\"\")\n",
    "\n",
    "df[\"train_time\"].plot.barh(ax=ax1, xerr=df_std[\"train_time\"])\n",
    "ax1.set_xlabel(\"Clustering time (s)\")\n",
    "plt.tight_layout()"
   ]
  }
 ],
 "metadata": {
  "kernelspec": {
   "display_name": "Samsung_Campus",
   "language": "python",
   "name": "python3"
  },
  "language_info": {
   "codemirror_mode": {
    "name": "ipython",
    "version": 3
   },
   "file_extension": ".py",
   "mimetype": "text/x-python",
   "name": "python",
   "nbconvert_exporter": "python",
   "pygments_lexer": "ipython3",
   "version": "3.8.18"
  }
 },
 "nbformat": 4,
 "nbformat_minor": 2
}
