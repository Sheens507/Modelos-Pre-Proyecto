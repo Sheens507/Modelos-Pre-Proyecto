{
 "cells": [
  {
   "cell_type": "code",
   "execution_count": 47,
   "metadata": {},
   "outputs": [],
   "source": [
    "import numpy as np\n",
    "import pandas as pd\n",
    "import string\n",
    "import re\n",
    "from IPython.core.display import HTML\n",
    "\n",
    "# Gráficos\n",
    "import matplotlib.pyplot as plt\n",
    "from matplotlib import style\n",
    "import seaborn as sns\n",
    "\n",
    "# Preprocesado y modelado\n",
    "from collections import defaultdict\n",
    "from sklearn import metrics\n",
    "from nltk.corpus import stopwords\n",
    "from sklearn.cluster import KMeans\n",
    "\n",
    "\n",
    "# cambiador de formatos para factorizar un dataset\n",
    "from sklearn.feature_extraction.text import TfidfVectorizer \n",
    "\n",
    "# control de rendimiento\n",
    "from time import time\n",
    "\n",
    "# Configuración warnings\n",
    "import warnings\n",
    "warnings.filterwarnings('ignore')"
   ]
  },
  {
   "cell_type": "code",
   "execution_count": 48,
   "metadata": {},
   "outputs": [],
   "source": [
    "ruta = 'Opiniones.csv'\n",
    "data = pd.read_csv(ruta)\n",
    "# print(data.head())"
   ]
  },
  {
   "cell_type": "code",
   "execution_count": 49,
   "metadata": {},
   "outputs": [
    {
     "data": {
      "text/html": [
       "<table border=\"1\" class=\"dataframe\">\n",
       "  <thead>\n",
       "    <tr style=\"text-align: right;\">\n",
       "      <th></th>\n",
       "      <th>AÑO</th>\n",
       "      <th>SEDE</th>\n",
       "      <th>FACULTAD</th>\n",
       "      <th>CARRERA</th>\n",
       "      <th>OBSERVACIONES</th>\n",
       "    </tr>\n",
       "  </thead>\n",
       "  <tbody>\n",
       "    <tr>\n",
       "      <th>50250</th>\n",
       "      <td>2019.0</td>\n",
       "      <td>SEDE 6</td>\n",
       "      <td>FACULTAD 1</td>\n",
       "      <td>LICENCIATURA 04</td>\n",
       "      <td>Todo excelente</td>\n",
       "    </tr>\n",
       "    <tr>\n",
       "      <th>4054</th>\n",
       "      <td>2019.0</td>\n",
       "      <td>SEDE 1</td>\n",
       "      <td>FACULTAD 4</td>\n",
       "      <td>LICENCIATURA 18</td>\n",
       "      <td>.</td>\n",
       "    </tr>\n",
       "    <tr>\n",
       "      <th>10025</th>\n",
       "      <td>2019.0</td>\n",
       "      <td>SEDE 1</td>\n",
       "      <td>FACULTAD 3</td>\n",
       "      <td>INGENIERIA 15</td>\n",
       "      <td>capacitar mas hacia las nuevas de tecnologias de metodos de pago el personal de cafeteria</td>\n",
       "    </tr>\n",
       "    <tr>\n",
       "      <th>37921</th>\n",
       "      <td>2019.0</td>\n",
       "      <td>SEDE 8</td>\n",
       "      <td>FACULTAD 3</td>\n",
       "      <td>POSTGRADO 14</td>\n",
       "      <td>N9</td>\n",
       "    </tr>\n",
       "    <tr>\n",
       "      <th>38917</th>\n",
       "      <td>2019.0</td>\n",
       "      <td>SEDE 8</td>\n",
       "      <td>FACULTAD 5</td>\n",
       "      <td>INGENIERIA 25</td>\n",
       "      <td>Nada.</td>\n",
       "    </tr>\n",
       "    <tr>\n",
       "      <th>13290</th>\n",
       "      <td>2019.0</td>\n",
       "      <td>SEDE 1</td>\n",
       "      <td>FACULTAD 5</td>\n",
       "      <td>LICENCIATURA 27</td>\n",
       "      <td>El gimnasio cierra muy temprano, siendo estudiante de la tarde no puedo darle uso</td>\n",
       "    </tr>\n",
       "    <tr>\n",
       "      <th>30162</th>\n",
       "      <td>2019.0</td>\n",
       "      <td>SEDE 2</td>\n",
       "      <td>FACULTAD 3</td>\n",
       "      <td>LICENCIATURA 10</td>\n",
       "      <td>Mejor claridad</td>\n",
       "    </tr>\n",
       "    <tr>\n",
       "      <th>10679</th>\n",
       "      <td>2019.0</td>\n",
       "      <td>SEDE 1</td>\n",
       "      <td>FACULTAD 4</td>\n",
       "      <td>LICENCIATURA 17</td>\n",
       "      <td>Comunicacion</td>\n",
       "    </tr>\n",
       "    <tr>\n",
       "      <th>6124</th>\n",
       "      <td>2019.0</td>\n",
       "      <td>SEDE 1</td>\n",
       "      <td>FACULTAD 1</td>\n",
       "      <td>LICENCIATURA 02</td>\n",
       "      <td>Aire acondicionado</td>\n",
       "    </tr>\n",
       "    <tr>\n",
       "      <th>9330</th>\n",
       "      <td>2019.0</td>\n",
       "      <td>SEDE 1</td>\n",
       "      <td>FACULTAD 1</td>\n",
       "      <td>LICENCIATURA 02</td>\n",
       "      <td>Cafetería</td>\n",
       "    </tr>\n",
       "    <tr>\n",
       "      <th>49749</th>\n",
       "      <td>2019.0</td>\n",
       "      <td>SEDE 1</td>\n",
       "      <td>FACULTAD 1</td>\n",
       "      <td>LICENCIATURA 04</td>\n",
       "      <td>Todo bien</td>\n",
       "    </tr>\n",
       "    <tr>\n",
       "      <th>14497</th>\n",
       "      <td>2019.0</td>\n",
       "      <td>SEDE 1</td>\n",
       "      <td>FACULTAD 4</td>\n",
       "      <td>INGENIERIA 17</td>\n",
       "      <td>El salon de estudio de la facultas de ---- es ineficiente, no tiene suficientes conectores, sillas y algunos escritorios no estan bien.</td>\n",
       "    </tr>\n",
       "    <tr>\n",
       "      <th>43792</th>\n",
       "      <td>2019.0</td>\n",
       "      <td>SEDE 1</td>\n",
       "      <td>FACULTAD 1</td>\n",
       "      <td>INGENIERIA 01</td>\n",
       "      <td>Poco espacio para estudio en la biblioteca. Casi siempre está lleno y hay que llegar temprano para lograr tener un lugar.</td>\n",
       "    </tr>\n",
       "    <tr>\n",
       "      <th>8466</th>\n",
       "      <td>2019.0</td>\n",
       "      <td>SEDE 7</td>\n",
       "      <td>FACULTAD 5</td>\n",
       "      <td>LICENCIATURA 22</td>\n",
       "      <td>Bien</td>\n",
       "    </tr>\n",
       "    <tr>\n",
       "      <th>23624</th>\n",
       "      <td>2019.0</td>\n",
       "      <td>SEDE 1</td>\n",
       "      <td>FACULTAD 6</td>\n",
       "      <td>LICENCIATURA 24</td>\n",
       "      <td>La variedad de la comida</td>\n",
       "    </tr>\n",
       "    <tr>\n",
       "      <th>35202</th>\n",
       "      <td>2019.0</td>\n",
       "      <td>SEDE 1</td>\n",
       "      <td>FACULTAD 4</td>\n",
       "      <td>INGENIERIA 17</td>\n",
       "      <td>mejorar las consultas</td>\n",
       "    </tr>\n",
       "    <tr>\n",
       "      <th>4859</th>\n",
       "      <td>2019.0</td>\n",
       "      <td>SEDE 2</td>\n",
       "      <td>FACULTAD 5</td>\n",
       "      <td>LICENCIATURA 27</td>\n",
       "      <td>~</td>\n",
       "    </tr>\n",
       "    <tr>\n",
       "      <th>15775</th>\n",
       "      <td>2019.0</td>\n",
       "      <td>SEDE 7</td>\n",
       "      <td>FACULTAD 4</td>\n",
       "      <td>INGENIERIA 21</td>\n",
       "      <td>En el salón donde me encontraba con mi grupo ,cuando llovía había goteras</td>\n",
       "    </tr>\n",
       "    <tr>\n",
       "      <th>11231</th>\n",
       "      <td>2019.0</td>\n",
       "      <td>SEDE 1</td>\n",
       "      <td>FACULTAD 1</td>\n",
       "      <td>LICENCIATURA 02</td>\n",
       "      <td>Creo que deberían buscar una manera para que la comida no sea tan repetitivas, una semana toco hasta 4 días seguidos sopa de almuerzo y bo hacian una alternativa</td>\n",
       "    </tr>\n",
       "    <tr>\n",
       "      <th>44531</th>\n",
       "      <td>2019.0</td>\n",
       "      <td>SEDE 4</td>\n",
       "      <td>FACULTAD 1</td>\n",
       "      <td>LICENCIATURA 05</td>\n",
       "      <td>Precio de los alimentos en cafeteria</td>\n",
       "    </tr>\n",
       "  </tbody>\n",
       "</table>"
      ],
      "text/plain": [
       "<IPython.core.display.HTML object>"
      ]
     },
     "metadata": {},
     "output_type": "display_data"
    }
   ],
   "source": [
    "display(HTML(data.sample(20).to_html()))"
   ]
  },
  {
   "cell_type": "code",
   "execution_count": 50,
   "metadata": {},
   "outputs": [
    {
     "name": "stdout",
     "output_type": "stream",
     "text": [
      "     YEAR    SEDE    FACULTAD          CARRERA OBSERVACIONES\n",
      "0  2019.0  SEDE 2  FACULTAD 1  LICENCIATURA 03             0\n",
      "1  2019.0  SEDE 2  FACULTAD 1  LICENCIATURA 04             0\n",
      "2  2019.0  SEDE 2  FACULTAD 2  LICENCIATURA 07             0\n",
      "3  2019.0  SEDE 2  FACULTAD 3    INGENIERIA 15             0\n",
      "4  2019.0  SEDE 3  FACULTAD 1  LICENCIATURA 04             0\n"
     ]
    }
   ],
   "source": [
    "data.rename(columns={'AÑO':'YEAR'}, inplace=True)\n",
    "print(data.head())"
   ]
  },
  {
   "cell_type": "code",
   "execution_count": 51,
   "metadata": {},
   "outputs": [
    {
     "name": "stdout",
     "output_type": "stream",
     "text": [
      "<class 'pandas.core.frame.DataFrame'>\n",
      "RangeIndex: 52583 entries, 0 to 52582\n",
      "Data columns (total 5 columns):\n",
      " #   Column         Non-Null Count  Dtype  \n",
      "---  ------         --------------  -----  \n",
      " 0   YEAR           52519 non-null  float64\n",
      " 1   SEDE           52519 non-null  object \n",
      " 2   FACULTAD       52519 non-null  object \n",
      " 3   CARRERA        52338 non-null  object \n",
      " 4   OBSERVACIONES  52340 non-null  object \n",
      "dtypes: float64(1), object(4)\n",
      "memory usage: 2.0+ MB\n"
     ]
    }
   ],
   "source": [
    "data.info()"
   ]
  },
  {
   "cell_type": "code",
   "execution_count": 52,
   "metadata": {},
   "outputs": [
    {
     "name": "stdout",
     "output_type": "stream",
     "text": [
      "<class 'pandas.core.frame.DataFrame'>\n",
      "Index: 52160 entries, 0 to 52515\n",
      "Data columns (total 5 columns):\n",
      " #   Column         Non-Null Count  Dtype  \n",
      "---  ------         --------------  -----  \n",
      " 0   YEAR           52160 non-null  float64\n",
      " 1   SEDE           52160 non-null  object \n",
      " 2   FACULTAD       52160 non-null  object \n",
      " 3   CARRERA        52160 non-null  object \n",
      " 4   OBSERVACIONES  52160 non-null  object \n",
      "dtypes: float64(1), object(4)\n",
      "memory usage: 2.4+ MB\n"
     ]
    }
   ],
   "source": [
    "data.dropna(inplace=True)\n",
    "data.info()"
   ]
  },
  {
   "cell_type": "code",
   "execution_count": 53,
   "metadata": {},
   "outputs": [
    {
     "name": "stdout",
     "output_type": "stream",
     "text": [
      "Columna YEAR: 1 subniveles\n",
      "Columna SEDE: 8 subniveles\n",
      "Columna FACULTAD: 6 subniveles\n",
      "Columna CARRERA: 103 subniveles\n"
     ]
    }
   ],
   "source": [
    "data['YEAR'] = data['YEAR'].astype(float).astype(int)\n",
    "col_list = ['YEAR','SEDE', 'FACULTAD', 'CARRERA']\n",
    "for col in col_list:\n",
    "    if col == 'TEXTO_TOKEN':\n",
    "        data[col] = data[col].apply(lambda x: ' '.join(x))\n",
    "    print(f'Columna {col}: {data[col].nunique()} subniveles')"
   ]
  },
  {
   "cell_type": "code",
   "execution_count": 54,
   "metadata": {},
   "outputs": [
    {
     "name": "stdout",
     "output_type": "stream",
     "text": [
      "<class 'pandas.core.frame.DataFrame'>\n",
      "Index: 52160 entries, 0 to 52515\n",
      "Data columns (total 4 columns):\n",
      " #   Column         Non-Null Count  Dtype \n",
      "---  ------         --------------  ----- \n",
      " 0   SEDE           52160 non-null  object\n",
      " 1   FACULTAD       52160 non-null  object\n",
      " 2   CARRERA        52160 non-null  object\n",
      " 3   OBSERVACIONES  52160 non-null  object\n",
      "dtypes: object(4)\n",
      "memory usage: 2.0+ MB\n"
     ]
    }
   ],
   "source": [
    "data.drop(columns='YEAR', inplace=True)\n",
    "data.info()"
   ]
  },
  {
   "cell_type": "code",
   "execution_count": 55,
   "metadata": {},
   "outputs": [
    {
     "data": {
      "text/html": [
       "<table border=\"1\" class=\"dataframe\">\n",
       "  <thead>\n",
       "    <tr style=\"text-align: right;\">\n",
       "      <th></th>\n",
       "      <th>SEDE</th>\n",
       "      <th>FACULTAD</th>\n",
       "      <th>CARRERA</th>\n",
       "      <th>OBSERVACIONES</th>\n",
       "    </tr>\n",
       "  </thead>\n",
       "  <tbody>\n",
       "    <tr>\n",
       "      <th>30811</th>\n",
       "      <td>SEDE 1</td>\n",
       "      <td>FACULTAD 1</td>\n",
       "      <td>POSTGRADO 16</td>\n",
       "      <td>Mejor servicio de cafetería</td>\n",
       "    </tr>\n",
       "    <tr>\n",
       "      <th>27754</th>\n",
       "      <td>SEDE 4</td>\n",
       "      <td>FACULTAD 3</td>\n",
       "      <td>INGENIERIA 15</td>\n",
       "      <td>Más estacionamientos para el turno de la tarde</td>\n",
       "    </tr>\n",
       "    <tr>\n",
       "      <th>46263</th>\n",
       "      <td>SEDE 1</td>\n",
       "      <td>FACULTAD 3</td>\n",
       "      <td>LICENCIATURA 10</td>\n",
       "      <td>Repetidores de Internet</td>\n",
       "    </tr>\n",
       "    <tr>\n",
       "      <th>31987</th>\n",
       "      <td>SEDE 6</td>\n",
       "      <td>FACULTAD 1</td>\n",
       "      <td>LICENCIATURA 05</td>\n",
       "      <td>Mejorar áreas recreativas</td>\n",
       "    </tr>\n",
       "    <tr>\n",
       "      <th>52236</th>\n",
       "      <td>SEDE 5</td>\n",
       "      <td>FACULTAD 3</td>\n",
       "      <td>INGENIERIA 15</td>\n",
       "      <td>Y</td>\n",
       "    </tr>\n",
       "    <tr>\n",
       "      <th>5400</th>\n",
       "      <td>SEDE 1</td>\n",
       "      <td>FACULTAD 2</td>\n",
       "      <td>LICENCIATURA 07</td>\n",
       "      <td>Abrir licenciaturas</td>\n",
       "    </tr>\n",
       "    <tr>\n",
       "      <th>27241</th>\n",
       "      <td>SEDE 5</td>\n",
       "      <td>FACULTAD 5</td>\n",
       "      <td>LICENCIATURA 22</td>\n",
       "      <td>Más económico la cafetería</td>\n",
       "    </tr>\n",
       "    <tr>\n",
       "      <th>50846</th>\n",
       "      <td>SEDE 1</td>\n",
       "      <td>FACULTAD 3</td>\n",
       "      <td>LICENCIATURA 12</td>\n",
       "      <td>un sistema de transporte para los que viven lejos</td>\n",
       "    </tr>\n",
       "    <tr>\n",
       "      <th>12067</th>\n",
       "      <td>SEDE 7</td>\n",
       "      <td>FACULTAD 3</td>\n",
       "      <td>LICENCIATURA 08</td>\n",
       "      <td>Deberían colocar más reuter de Internet alrededor del centro para que cubra todas las partes</td>\n",
       "    </tr>\n",
       "    <tr>\n",
       "      <th>29685</th>\n",
       "      <td>SEDE 1</td>\n",
       "      <td>FACULTAD 5</td>\n",
       "      <td>INGENIERIA 25</td>\n",
       "      <td>Me gusta la instalaciones</td>\n",
       "    </tr>\n",
       "  </tbody>\n",
       "</table>"
      ],
      "text/plain": [
       "<IPython.core.display.HTML object>"
      ]
     },
     "metadata": {},
     "output_type": "display_data"
    }
   ],
   "source": [
    "display(HTML(data.sample(10).to_html()))"
   ]
  },
  {
   "cell_type": "markdown",
   "metadata": {},
   "source": [
    "Acomodar para que quite stopwords"
   ]
  },
  {
   "cell_type": "code",
   "execution_count": 56,
   "metadata": {},
   "outputs": [
    {
     "name": "stdout",
     "output_type": "stream",
     "text": [
      "['de', 'la', 'que', 'el', 'en', 'y', 'a', 'los', 'del', 'se', 'las', 'por', 'un', 'para', 'con', 'no', 'una', 'su', 'al', 'lo', 'como', 'más', 'pero', 'sus', 'le', 'ya', 'o', 'este', 'sí', 'porque', 'esta', 'entre', 'cuando', 'muy', 'sin', 'sobre', 'también', 'me', 'hasta', 'hay', 'donde', 'quien', 'desde', 'todo', 'nos', 'durante', 'todos', 'uno', 'les', 'ni', 'contra', 'otros', 'ese', 'eso', 'ante', 'ellos', 'e', 'esto', 'mí', 'antes', 'algunos', 'qué', 'unos', 'yo', 'otro', 'otras', 'otra', 'él', 'tanto', 'esa', 'estos', 'mucho', 'quienes', 'nada', 'muchos', 'cual', 'poco', 'ella', 'estar', 'estas', 'algunas', 'algo', 'nosotros', 'mi', 'mis', 'tú', 'te', 'ti', 'tu', 'tus', 'ellas', 'nosotras', 'vosotros', 'vosotras', 'os', 'mío', 'mía', 'míos', 'mías', 'tuyo', 'tuya', 'tuyos', 'tuyas', 'suyo', 'suya', 'suyos', 'suyas', 'nuestro', 'nuestra', 'nuestros', 'nuestras', 'vuestro', 'vuestra', 'vuestros', 'vuestras', 'esos', 'esas', 'estoy', 'estás', 'está', 'estamos', 'estáis', 'están', 'esté', 'estés', 'estemos', 'estéis', 'estén', 'estaré', 'estarás', 'estará', 'estaremos', 'estaréis', 'estarán', 'estaría', 'estarías', 'estaríamos', 'estaríais', 'estarían', 'estaba', 'estabas', 'estábamos', 'estabais', 'estaban', 'estuve', 'estuviste', 'estuvo', 'estuvimos', 'estuvisteis', 'estuvieron', 'estuviera', 'estuvieras', 'estuviéramos', 'estuvierais', 'estuvieran', 'estuviese', 'estuvieses', 'estuviésemos', 'estuvieseis', 'estuviesen', 'estando', 'estado', 'estada', 'estados', 'estadas', 'estad', 'he', 'has', 'ha', 'hemos', 'habéis', 'han', 'haya', 'hayas', 'hayamos', 'hayáis', 'hayan', 'habré', 'habrás', 'habrá', 'habremos', 'habréis', 'habrán', 'habría', 'habrías', 'habríamos', 'habríais', 'habrían', 'había', 'habías', 'habíamos', 'habíais', 'habían', 'hube', 'hubiste', 'hubo', 'hubimos', 'hubisteis', 'hubieron', 'hubiera', 'hubieras', 'hubiéramos', 'hubierais', 'hubieran', 'hubiese', 'hubieses', 'hubiésemos', 'hubieseis', 'hubiesen', 'habiendo', 'habido', 'habida', 'habidos', 'habidas', 'soy', 'eres', 'es', 'somos', 'sois', 'son', 'sea', 'seas', 'seamos', 'seáis', 'sean', 'seré', 'serás', 'será', 'seremos', 'seréis', 'serán', 'sería', 'serías', 'seríamos', 'seríais', 'serían', 'era', 'eras', 'éramos', 'erais', 'eran', 'fui', 'fuiste', 'fue', 'fuimos', 'fuisteis', 'fueron', 'fuera', 'fueras', 'fuéramos', 'fuerais', 'fueran', 'fuese', 'fueses', 'fuésemos', 'fueseis', 'fuesen', 'sintiendo', 'sentido', 'sentida', 'sentidos', 'sentidas', 'siente', 'sentid', 'tengo', 'tienes', 'tiene', 'tenemos', 'tenéis', 'tienen', 'tenga', 'tengas', 'tengamos', 'tengáis', 'tengan', 'tendré', 'tendrás', 'tendrá', 'tendremos', 'tendréis', 'tendrán', 'tendría', 'tendrías', 'tendríamos', 'tendríais', 'tendrían', 'tenía', 'tenías', 'teníamos', 'teníais', 'tenían', 'tuve', 'tuviste', 'tuvo', 'tuvimos', 'tuvisteis', 'tuvieron', 'tuviera', 'tuvieras', 'tuviéramos', 'tuvierais', 'tuvieran', 'tuviese', 'tuvieses', 'tuviésemos', 'tuvieseis', 'tuviesen', 'teniendo', 'tenido', 'tenida', 'tenidos', 'tenidas', 'tened', 'xq', 'oye', 'dale', 'dele', 'ba', 'abc', 'nan', 'na']\n"
     ]
    }
   ],
   "source": [
    "spanish_stopwords = list(stopwords.words('spanish'))\n",
    "spanish_stopwords.extend((\"xq\", \"oye\", \"dale\", \"dele\", \"ba\", \"abc\", \"nan\", \"na\"))\n",
    "print(spanish_stopwords)"
   ]
  },
  {
   "cell_type": "code",
   "execution_count": 57,
   "metadata": {},
   "outputs": [],
   "source": [
    "evaluations = []\n",
    "evaluations_std = []\n",
    "\n",
    "\n",
    "def fit_and_evaluate(km, X, name=None, n_runs=5):\n",
    "    name = km.__class__.__name__ if name is None else name\n",
    "\n",
    "    train_times = []\n",
    "    scores = defaultdict(list)\n",
    "    for seed in range(n_runs):\n",
    "        km.set_params(random_state=seed)\n",
    "        t0 = time()\n",
    "        km.fit(X)\n",
    "        train_times.append(time() - t0)\n",
    "        scores[\"Silhouette Coefficient\"].append( metrics.silhouette_score(X, km.labels_, sample_size=2000))\n",
    "        scores[\"Davies-Bouldin Index\"].append(metrics.davies_bouldin_score(X, km.labels_))\n",
    "        scores[\"Calinski-Harabasz Index\"].append(metrics.calinski_harabasz_score(X, km.labels_))\n",
    "    train_times = np.asarray(train_times)\n",
    "\n",
    "    print(f\"clustering done in {train_times.mean():.2f} ± {train_times.std():.2f} s \")\n",
    "    evaluation = {\n",
    "        \"estimator\": name,\n",
    "        \"train_time\": train_times.mean(),\n",
    "    }\n",
    "    evaluation_std = {\n",
    "        \"estimator\": name,\n",
    "        \"train_time\": train_times.std(),\n",
    "    }\n",
    "    for score_name, score_values in scores.items():\n",
    "        mean_score, std_score = np.mean(score_values), np.std(score_values)\n",
    "        print(f\"{score_name}: {mean_score:.3f} ± {std_score:.3f}\")\n",
    "        evaluation[score_name] = mean_score\n",
    "        evaluation_std[score_name] = std_score\n",
    "    evaluations.append(evaluation)\n",
    "    evaluations_std.append(evaluation_std)"
   ]
  },
  {
   "cell_type": "code",
   "execution_count": 58,
   "metadata": {},
   "outputs": [
    {
     "name": "stdout",
     "output_type": "stream",
     "text": [
      "Esto es 1 ejemplo de l'limpieza de6 TEXTO  https://t.co/rnHPgyhx4Z @cienciadedatos #textmining zzzzz oooooo aaaaaaaa hhh eeeeeeee todo bien, bien\n",
      "['esto', 'ejemplo', 'limpieza', 'texto', 'cienciadedatos', 'textmining', 'todo', 'bien', 'bien']\n"
     ]
    }
   ],
   "source": [
    "def limpiar_tokenizar(texto):\n",
    "    # Eliminación de números\n",
    "    nuevo_texto = re.sub(\"\\d+\", ' ', texto)\n",
    "    # Se convierte todo el texto a minúsculas\n",
    "    nuevo_texto = nuevo_texto.lower()\n",
    "    # Eliminación de páginas web (palabras que empiezan por \"http\")\n",
    "    nuevo_texto = re.sub('http\\S+', ' ', nuevo_texto)\n",
    "    # Eliminación de signos de puntuación\n",
    "    regex = '[\\\\!\\\\\"\\\\#\\\\$\\\\%\\\\&\\\\\\'\\\\(\\\\)\\\\*\\\\+\\\\,\\\n",
    "    \\-\\\\.\\\\/\\\\:\\\\;\\\\<\\\\=\\\\>\\\\?\\\\@\\\\[\\\\\\\\\\\\]\\\\^_\\\\`\\\\{\\\\|\\\\}\\\\~—]'\n",
    "    nuevo_texto = re.sub(regex , ' ', nuevo_texto)\n",
    "    # Eliminación de espacios en blanco múltiples\n",
    "    nuevo_texto = re.sub(\"\\\\s+\", ' ', nuevo_texto)\n",
    "    # Tokenización por palabras individuales\n",
    "    nuevo_texto = nuevo_texto.split(sep = ' ')\n",
    "    # Eliminación de tokens con una longitud < 2\n",
    "    nuevo_texto = [token for token in nuevo_texto if len(token) > 2]\n",
    "    # quitar los token que sean solamente de una letra repetidas 2 o mas veces\n",
    "    nuevo_texto = [token for token in nuevo_texto if not re.fullmatch(r'(.)\\1*', token)]\n",
    "    \n",
    "    return(nuevo_texto)\n",
    "\n",
    "test = \"Esto es 1 ejemplo de l'limpieza de6 TEXTO  https://t.co/rnHPgyhx4Z @cienciadedatos #textmining zzzzz oooooo aaaaaaaa hhh eeeeeeee todo bien, bien\"\n",
    "print(test)\n",
    "print(limpiar_tokenizar(texto=test))"
   ]
  },
  {
   "cell_type": "code",
   "execution_count": 59,
   "metadata": {},
   "outputs": [],
   "source": [
    "def join_tokens(tokens):\n",
    "    if isinstance(tokens, list):\n",
    "        return ' '.join(tokens)\n",
    "    else:\n",
    "        return ''"
   ]
  },
  {
   "cell_type": "code",
   "execution_count": 60,
   "metadata": {},
   "outputs": [
    {
     "data": {
      "text/html": [
       "<table border=\"1\" class=\"dataframe\">\n",
       "  <thead>\n",
       "    <tr style=\"text-align: right;\">\n",
       "      <th></th>\n",
       "      <th>SEDE</th>\n",
       "      <th>FACULTAD</th>\n",
       "      <th>CARRERA</th>\n",
       "      <th>OBSERVACIONES</th>\n",
       "    </tr>\n",
       "  </thead>\n",
       "  <tbody>\n",
       "    <tr>\n",
       "      <th>17944</th>\n",
       "      <td>SEDE 1</td>\n",
       "      <td>FACULTAD 3</td>\n",
       "      <td>POSTGRADO 14</td>\n",
       "      <td>Excelente clase</td>\n",
       "    </tr>\n",
       "    <tr>\n",
       "      <th>10669</th>\n",
       "      <td>SEDE 2</td>\n",
       "      <td>FACULTAD 5</td>\n",
       "      <td>LICENCIATURA 27</td>\n",
       "      <td>computadoras mas modernas en los laboratorios de informatica</td>\n",
       "    </tr>\n",
       "    <tr>\n",
       "      <th>27339</th>\n",
       "      <td>SEDE 8</td>\n",
       "      <td>FACULTAD 1</td>\n",
       "      <td>INGENIERIA 01</td>\n",
       "      <td>Más espacio en la biblioteca del centro regional</td>\n",
       "    </tr>\n",
       "    <tr>\n",
       "      <th>28454</th>\n",
       "      <td>SEDE 1</td>\n",
       "      <td>FACULTAD 4</td>\n",
       "      <td>LICENCIATURA 18</td>\n",
       "      <td>mas presencia de seguridad en los estacionamientos</td>\n",
       "    </tr>\n",
       "    <tr>\n",
       "      <th>5131</th>\n",
       "      <td>SEDE 1</td>\n",
       "      <td>FACULTAD 3</td>\n",
       "      <td>LICENCIATURA 10</td>\n",
       "      <td>a</td>\n",
       "    </tr>\n",
       "    <tr>\n",
       "      <th>7351</th>\n",
       "      <td>SEDE 1</td>\n",
       "      <td>FACULTAD 6</td>\n",
       "      <td>LICENCIATURA 24</td>\n",
       "      <td>Atención administrativa para estudiantes nocturnos</td>\n",
       "    </tr>\n",
       "    <tr>\n",
       "      <th>1700</th>\n",
       "      <td>SEDE 1</td>\n",
       "      <td>FACULTAD 6</td>\n",
       "      <td>LICENCIATURA 24</td>\n",
       "      <td>.</td>\n",
       "    </tr>\n",
       "    <tr>\n",
       "      <th>23962</th>\n",
       "      <td>SEDE 2</td>\n",
       "      <td>FACULTAD 5</td>\n",
       "      <td>LICENCIATURA 27</td>\n",
       "      <td>Laboratorios.</td>\n",
       "    </tr>\n",
       "    <tr>\n",
       "      <th>45634</th>\n",
       "      <td>SEDE 7</td>\n",
       "      <td>FACULTAD 1</td>\n",
       "      <td>LICENCIATURA 02</td>\n",
       "      <td>Que los profesores sean más dinámicos al dar clases y no todo sea teoría teoria</td>\n",
       "    </tr>\n",
       "    <tr>\n",
       "      <th>49216</th>\n",
       "      <td>SEDE 1</td>\n",
       "      <td>FACULTAD 2</td>\n",
       "      <td>INGENIERIA 13</td>\n",
       "      <td>Tener mas espacios de laboratorios y modernizar los equipos</td>\n",
       "    </tr>\n",
       "  </tbody>\n",
       "</table>"
      ],
      "text/plain": [
       "<IPython.core.display.HTML object>"
      ]
     },
     "metadata": {},
     "output_type": "display_data"
    }
   ],
   "source": [
    "display(HTML(data.sample(10).to_html()))"
   ]
  },
  {
   "cell_type": "code",
   "execution_count": 61,
   "metadata": {},
   "outputs": [
    {
     "name": "stdout",
     "output_type": "stream",
     "text": [
      "vectorization done in 0.334 s\n",
      "n_samples: 52160, n_features: 3065\n"
     ]
    }
   ],
   "source": [
    "data['OBSERVACIONES'] = data['OBSERVACIONES'].astype(str)\n",
    "data['TEXTO_TOKEN'] = data['OBSERVACIONES'].apply(lambda x: limpiar_tokenizar(x))\n",
    "\n",
    "# Concatenar la lista de tokens en una sola cadena con espacios\n",
    "data['TEXTO_STRING'] = data['TEXTO_TOKEN'].apply(join_tokens)\n",
    "\n",
    "vectorizer = TfidfVectorizer(\n",
    "    max_df=0.5,\n",
    "    min_df=5,\n",
    ")\n",
    "t0 = time()\n",
    "X_tfidf = vectorizer.fit_transform(data['TEXTO_STRING'])\n",
    "\n",
    "print(f\"vectorization done in {time() - t0:.3f} s\")\n",
    "print(f\"n_samples: {X_tfidf.shape[0]}, n_features: {X_tfidf.shape[1]}\")"
   ]
  },
  {
   "cell_type": "code",
   "execution_count": 62,
   "metadata": {},
   "outputs": [
    {
     "data": {
      "text/html": [
       "<table border=\"1\" class=\"dataframe\">\n",
       "  <thead>\n",
       "    <tr style=\"text-align: right;\">\n",
       "      <th></th>\n",
       "      <th>SEDE</th>\n",
       "      <th>FACULTAD</th>\n",
       "      <th>CARRERA</th>\n",
       "      <th>OBSERVACIONES</th>\n",
       "      <th>TEXTO_TOKEN</th>\n",
       "      <th>TEXTO_STRING</th>\n",
       "    </tr>\n",
       "  </thead>\n",
       "  <tbody>\n",
       "    <tr>\n",
       "      <th>45502</th>\n",
       "      <td>SEDE 1</td>\n",
       "      <td>FACULTAD 1</td>\n",
       "      <td>LICENCIATURA 02</td>\n",
       "      <td>Que la plataforma de la biblioteca virtual sea menos complicada.</td>\n",
       "      <td>[que, plataforma, biblioteca, virtual, sea, menos, complicada]</td>\n",
       "      <td>que plataforma biblioteca virtual sea menos complicada</td>\n",
       "    </tr>\n",
       "    <tr>\n",
       "      <th>35792</th>\n",
       "      <td>SEDE 1</td>\n",
       "      <td>FACULTAD 5</td>\n",
       "      <td>INGENIERIA 23</td>\n",
       "      <td>Mejorar los proyectores</td>\n",
       "      <td>[mejorar, los, proyectores]</td>\n",
       "      <td>mejorar los proyectores</td>\n",
       "    </tr>\n",
       "    <tr>\n",
       "      <th>13604</th>\n",
       "      <td>SEDE 1</td>\n",
       "      <td>FACULTAD 1</td>\n",
       "      <td>INGENIERIA 01</td>\n",
       "      <td>El internet de ves en cuando no funciona</td>\n",
       "      <td>[internet, ves, cuando, funciona]</td>\n",
       "      <td>internet ves cuando funciona</td>\n",
       "    </tr>\n",
       "    <tr>\n",
       "      <th>44131</th>\n",
       "      <td>SEDE 1</td>\n",
       "      <td>FACULTAD 2</td>\n",
       "      <td>INGENIERIA 08</td>\n",
       "      <td>poner mas  sacas copias</td>\n",
       "      <td>[poner, mas, sacas, copias]</td>\n",
       "      <td>poner mas sacas copias</td>\n",
       "    </tr>\n",
       "    <tr>\n",
       "      <th>20849</th>\n",
       "      <td>SEDE 7</td>\n",
       "      <td>FACULTAD 3</td>\n",
       "      <td>LICENCIATURA 09</td>\n",
       "      <td>Instalaciones</td>\n",
       "      <td>[instalaciones]</td>\n",
       "      <td>instalaciones</td>\n",
       "    </tr>\n",
       "    <tr>\n",
       "      <th>4611</th>\n",
       "      <td>SEDE 2</td>\n",
       "      <td>FACULTAD 5</td>\n",
       "      <td>LICENCIATURA 22</td>\n",
       "      <td>...</td>\n",
       "      <td>[]</td>\n",
       "      <td></td>\n",
       "    </tr>\n",
       "    <tr>\n",
       "      <th>1578</th>\n",
       "      <td>SEDE 5</td>\n",
       "      <td>FACULTAD 1</td>\n",
       "      <td>LICENCIATURA 02</td>\n",
       "      <td>.</td>\n",
       "      <td>[]</td>\n",
       "      <td></td>\n",
       "    </tr>\n",
       "    <tr>\n",
       "      <th>31470</th>\n",
       "      <td>SEDE 1</td>\n",
       "      <td>FACULTAD 4</td>\n",
       "      <td>INGENIERIA 20</td>\n",
       "      <td>Mejora en estacionamientos</td>\n",
       "      <td>[mejora, estacionamientos]</td>\n",
       "      <td>mejora estacionamientos</td>\n",
       "    </tr>\n",
       "    <tr>\n",
       "      <th>14899</th>\n",
       "      <td>SEDE 1</td>\n",
       "      <td>FACULTAD 3</td>\n",
       "      <td>LICENCIATURA 10</td>\n",
       "      <td>El wifi aun no es lo suficientemente bueno para la cantidad de estudiantes</td>\n",
       "      <td>[wifi, aun, suficientemente, bueno, para, cantidad, estudiantes]</td>\n",
       "      <td>wifi aun suficientemente bueno para cantidad estudiantes</td>\n",
       "    </tr>\n",
       "    <tr>\n",
       "      <th>3926</th>\n",
       "      <td>SEDE 1</td>\n",
       "      <td>FACULTAD 4</td>\n",
       "      <td>LICENCIATURA 14</td>\n",
       "      <td>.</td>\n",
       "      <td>[]</td>\n",
       "      <td></td>\n",
       "    </tr>\n",
       "  </tbody>\n",
       "</table>"
      ],
      "text/plain": [
       "<IPython.core.display.HTML object>"
      ]
     },
     "metadata": {},
     "output_type": "display_data"
    }
   ],
   "source": [
    "display(HTML(data.sample(10).to_html()))"
   ]
  },
  {
   "cell_type": "code",
   "execution_count": 63,
   "metadata": {},
   "outputs": [
    {
     "name": "stdout",
     "output_type": "stream",
     "text": [
      "Tamaño del set después de eliminar las filas sin tokens: (24073, 6)\n"
     ]
    },
    {
     "data": {
      "text/html": [
       "<table border=\"1\" class=\"dataframe\">\n",
       "  <thead>\n",
       "    <tr style=\"text-align: right;\">\n",
       "      <th></th>\n",
       "      <th>SEDE</th>\n",
       "      <th>FACULTAD</th>\n",
       "      <th>CARRERA</th>\n",
       "      <th>OBSERVACIONES</th>\n",
       "      <th>TEXTO_TOKEN</th>\n",
       "      <th>TEXTO_STRING</th>\n",
       "    </tr>\n",
       "  </thead>\n",
       "  <tbody>\n",
       "    <tr>\n",
       "      <th>878</th>\n",
       "      <td>SEDE 4</td>\n",
       "      <td>FACULTAD 3</td>\n",
       "      <td>LICENCIATURA 10</td>\n",
       "      <td>- Capacidad, iluminación, ventilación de las aulas. El aire se suele dañar Los salones se ven muy oscuros, en mi opinión  no motivan a dar clase ahí. - Servicios de Fotocopiado. Se necesita urgente.</td>\n",
       "      <td>[capacidad, iluminación, ventilación, las, aulas, aire, suele, dañar, los, salones, ven, muy, oscuros, opinión, motivan, dar, clase, ahí, servicios, fotocopiado, necesita, urgente]</td>\n",
       "      <td>capacidad iluminación ventilación las aulas aire suele dañar los salones ven muy oscuros opinión motivan dar clase ahí servicios fotocopiado necesita urgente</td>\n",
       "    </tr>\n",
       "    <tr>\n",
       "      <th>880</th>\n",
       "      <td>SEDE 1</td>\n",
       "      <td>FACULTAD 5</td>\n",
       "      <td>INGENIERIA 25</td>\n",
       "      <td>deberían modernizar los equipos utilizados en los laboratorios.</td>\n",
       "      <td>[deberían, modernizar, los, equipos, utilizados, los, laboratorios]</td>\n",
       "      <td>deberían modernizar los equipos utilizados los laboratorios</td>\n",
       "    </tr>\n",
       "    <tr>\n",
       "      <th>881</th>\n",
       "      <td>SEDE 1</td>\n",
       "      <td>FACULTAD 4</td>\n",
       "      <td>INGENIERIA 17</td>\n",
       "      <td>---- en necesidad del remodelación interior, abrir mas entradas de estacionamientos (hay una que se construyo pero esta cerrada), mas puentes peatonales y reparar los artefactos de los baños.</td>\n",
       "      <td>[necesidad, del, remodelación, interior, abrir, mas, entradas, estacionamientos, hay, una, que, construyo, pero, esta, cerrada, mas, puentes, peatonales, reparar, los, artefactos, los, baños]</td>\n",
       "      <td>necesidad del remodelación interior abrir mas entradas estacionamientos hay una que construyo pero esta cerrada mas puentes peatonales reparar los artefactos los baños</td>\n",
       "    </tr>\n",
       "    <tr>\n",
       "      <th>882</th>\n",
       "      <td>SEDE 1</td>\n",
       "      <td>FACULTAD 1</td>\n",
       "      <td>INGENIERIA 01</td>\n",
       "      <td>---- necesita cortinas para uso de proyectores</td>\n",
       "      <td>[necesita, cortinas, para, uso, proyectores]</td>\n",
       "      <td>necesita cortinas para uso proyectores</td>\n",
       "    </tr>\n",
       "    <tr>\n",
       "      <th>883</th>\n",
       "      <td>SEDE 8</td>\n",
       "      <td>FACULTAD 1</td>\n",
       "      <td>INGENIERIA 01</td>\n",
       "      <td>no contamos con servicio de fotocopia.  El Wi-Fi no llega a ciertas aulas en donde muchas veces se necesita para trabajos que nos asignan.</td>\n",
       "      <td>[contamos, con, servicio, fotocopia, llega, ciertas, aulas, donde, muchas, veces, necesita, para, trabajos, que, nos, asignan]</td>\n",
       "      <td>contamos con servicio fotocopia llega ciertas aulas donde muchas veces necesita para trabajos que nos asignan</td>\n",
       "    </tr>\n",
       "    <tr>\n",
       "      <th>885</th>\n",
       "      <td>SEDE 8</td>\n",
       "      <td>FACULTAD 3</td>\n",
       "      <td>INGENIERIA 15</td>\n",
       "      <td>WiFi no es suficiente, implementar un WiFi con mayor capacidad de banda ancha y mayores velocidades sería oportuno.</td>\n",
       "      <td>[wifi, suficiente, implementar, wifi, con, mayor, capacidad, banda, ancha, mayores, velocidades, sería, oportuno]</td>\n",
       "      <td>wifi suficiente implementar wifi con mayor capacidad banda ancha mayores velocidades sería oportuno</td>\n",
       "    </tr>\n",
       "    <tr>\n",
       "      <th>893</th>\n",
       "      <td>SEDE 1</td>\n",
       "      <td>FACULTAD 2</td>\n",
       "      <td>TÉCNICO 05</td>\n",
       "      <td>#14 /  pocas  charlas o seminarios de innovación de información enfocado para el grupo nocturno</td>\n",
       "      <td>[pocas, charlas, seminarios, innovación, información, enfocado, para, grupo, nocturno]</td>\n",
       "      <td>pocas charlas seminarios innovación información enfocado para grupo nocturno</td>\n",
       "    </tr>\n",
       "    <tr>\n",
       "      <th>894</th>\n",
       "      <td>SEDE 1</td>\n",
       "      <td>FACULTAD 2</td>\n",
       "      <td>POSTGRADO 20</td>\n",
       "      <td>#14 Informar sobre Servicios de Orientación para el horario estudiantil nocturno.</td>\n",
       "      <td>[informar, sobre, servicios, orientación, para, horario, estudiantil, nocturno]</td>\n",
       "      <td>informar sobre servicios orientación para horario estudiantil nocturno</td>\n",
       "    </tr>\n",
       "    <tr>\n",
       "      <th>895</th>\n",
       "      <td>SEDE 1</td>\n",
       "      <td>FACULTAD 2</td>\n",
       "      <td>POSTGRADO 20</td>\n",
       "      <td>#18 Mejorar la orientación y informar a tiempo sobre materias y diferentes procedimientos de matrícula.</td>\n",
       "      <td>[mejorar, orientación, informar, tiempo, sobre, materias, diferentes, procedimientos, matrícula]</td>\n",
       "      <td>mejorar orientación informar tiempo sobre materias diferentes procedimientos matrícula</td>\n",
       "    </tr>\n",
       "    <tr>\n",
       "      <th>896</th>\n",
       "      <td>SEDE 1</td>\n",
       "      <td>FACULTAD 2</td>\n",
       "      <td>POSTGRADO 20</td>\n",
       "      <td>#19 La Dirección de Finanzas debe ser absorbida por la Secretaria general y analizar herramientas para agilizar pagos, reclamos, etc.</td>\n",
       "      <td>[dirección, finanzas, debe, ser, absorbida, por, secretaria, general, analizar, herramientas, para, agilizar, pagos, reclamos, etc]</td>\n",
       "      <td>dirección finanzas debe ser absorbida por secretaria general analizar herramientas para agilizar pagos reclamos etc</td>\n",
       "    </tr>\n",
       "  </tbody>\n",
       "</table>"
      ],
      "text/plain": [
       "<IPython.core.display.HTML object>"
      ]
     },
     "metadata": {},
     "output_type": "display_data"
    }
   ],
   "source": [
    "data = data[data['TEXTO_TOKEN'].apply(len) > 3]\n",
    "print(f'Tamaño del set después de eliminar las filas sin tokens: {data.shape}')\n",
    "display(HTML(data.head(10).to_html()))"
   ]
  },
  {
   "cell_type": "code",
   "execution_count": 64,
   "metadata": {},
   "outputs": [
    {
     "name": "stdout",
     "output_type": "stream",
     "text": [
      "0.001\n"
     ]
    }
   ],
   "source": [
    "print(f\"{X_tfidf.nnz / np.prod(X_tfidf.shape):.3f}\")"
   ]
  },
  {
   "cell_type": "code",
   "execution_count": 65,
   "metadata": {},
   "outputs": [
    {
     "data": {
      "text/plain": [
       "<52160x3065 sparse matrix of type '<class 'numpy.float64'>'\n",
       "\twith 216567 stored elements in Compressed Sparse Row format>"
      ]
     },
     "execution_count": 65,
     "metadata": {},
     "output_type": "execute_result"
    }
   ],
   "source": [
    "X_tfidf"
   ]
  },
  {
   "cell_type": "code",
   "execution_count": 66,
   "metadata": {},
   "outputs": [
    {
     "name": "stdout",
     "output_type": "stream",
     "text": [
      "Número óptimo de clusters según el método de la silueta: 13\n"
     ]
    }
   ],
   "source": [
    "from sklearn.metrics import silhouette_score\n",
    "\n",
    "silhouette_scores = []\n",
    "\n",
    "for n_clusters in range(2, 15):\n",
    "    kmeans = KMeans(n_clusters=n_clusters, init='k-means++', max_iter=300, n_init=10, random_state=0)\n",
    "    cluster_labels = kmeans.fit_predict(X_tfidf)  # X es tu matriz de datos\n",
    "    silhouette_avg = silhouette_score(X_tfidf, cluster_labels)\n",
    "    silhouette_scores.append(silhouette_avg)\n",
    "\n",
    "# Encontrar el número óptimo de clusters basado en el método de la silueta\n",
    "optimal_n_clusters = np.argmax(silhouette_scores) + 2  # +2 porque empezamos desde n_clusters=2\n",
    "\n",
    "print(f\"Número óptimo de clusters según el método de la silueta: {optimal_n_clusters}\")"
   ]
  },
  {
   "cell_type": "code",
   "execution_count": 67,
   "metadata": {},
   "outputs": [],
   "source": [
    "# optimal_n_clusters = 13 # +2 porque empezamos desde n_clusters=2\n",
    "\n",
    "# print(f\"Número óptimo de clusters según el método de la silueta: {optimal_n_clusters}\")"
   ]
  },
  {
   "cell_type": "code",
   "execution_count": 68,
   "metadata": {},
   "outputs": [
    {
     "name": "stdout",
     "output_type": "stream",
     "text": [
      "Number of elements asigned to each cluster: [  246  2328   532   928 37477  2082   821  1186    29  2007  2704   192\n",
      "  1628]\n",
      "Number of elements asigned to each cluster: [  152 39916  1725   148   379  1240   218  2243   926  1048  2022   821\n",
      "  1322]\n",
      "Number of elements asigned to each cluster: [  636 38838   268  2871   821   200   382  1154  1839  1352   926  2265\n",
      "   608]\n",
      "Number of elements asigned to each cluster: [ 2650  3254 38318   630   134  1309  1392   616   146   656   598   176\n",
      "  2281]\n",
      "Number of elements asigned to each cluster: [   24   907 41093   618  2232  1375  1147   766   653   478   323  1884\n",
      "   660]\n",
      "\n"
     ]
    }
   ],
   "source": [
    "from sklearn.cluster import KMeans\n",
    "\n",
    "for seed in range(5):\n",
    "    kmeans = KMeans(\n",
    "        n_clusters=optimal_n_clusters,\n",
    "        max_iter=100,\n",
    "        n_init=1,\n",
    "        random_state=seed,\n",
    "    ).fit(X_tfidf)\n",
    "    cluster_ids, cluster_sizes = np.unique(kmeans.labels_, return_counts=True)\n",
    "    print(f\"Number of elements asigned to each cluster: {cluster_sizes}\")\n",
    "print()\n"
   ]
  },
  {
   "cell_type": "code",
   "execution_count": 69,
   "metadata": {},
   "outputs": [
    {
     "name": "stdout",
     "output_type": "stream",
     "text": [
      "clustering done in 27.11 ± 2.92 s \n",
      "Silhouette Coefficient: 0.112 ± 0.007\n",
      "Davies-Bouldin Index: 2.695 ± 0.115\n",
      "Calinski-Harabasz Index: 601.418 ± 53.684\n"
     ]
    }
   ],
   "source": [
    "kmeans = KMeans(\n",
    "    n_clusters=optimal_n_clusters,\n",
    "    max_iter=100,\n",
    "    n_init=5,\n",
    ")\n",
    "\n",
    "fit_and_evaluate(kmeans, X_tfidf.toarray(), name=\"KMeans\\non tf-idf vectors\")"
   ]
  },
  {
   "cell_type": "code",
   "execution_count": 70,
   "metadata": {},
   "outputs": [
    {
     "name": "stdout",
     "output_type": "stream",
     "text": [
      "LSA done in 2.365 s\n",
      "Explained variance of the SVD step: 49.5%\n"
     ]
    }
   ],
   "source": [
    "from sklearn.decomposition import TruncatedSVD\n",
    "from sklearn.pipeline import make_pipeline\n",
    "from sklearn.preprocessing import Normalizer\n",
    "\n",
    "\n",
    "lsa = make_pipeline(TruncatedSVD(n_components=100), Normalizer(copy=False))\n",
    "t0 = time()\n",
    "X_lsa = lsa.fit_transform(X_tfidf)\n",
    "explained_variance = lsa[0].explained_variance_ratio_.sum()\n",
    "\n",
    "print(f\"LSA done in {time() - t0:.3f} s\")\n",
    "print(f\"Explained variance of the SVD step: {explained_variance * 100:.1f}%\")"
   ]
  },
  {
   "cell_type": "code",
   "execution_count": 71,
   "metadata": {},
   "outputs": [
    {
     "name": "stdout",
     "output_type": "stream",
     "text": [
      "clustering done in 0.25 ± 0.02 s \n",
      "Silhouette Coefficient: 0.135 ± 0.021\n",
      "Davies-Bouldin Index: 2.418 ± 0.081\n",
      "Calinski-Harabasz Index: 1117.720 ± 170.044\n"
     ]
    }
   ],
   "source": [
    "kmeans = KMeans(\n",
    "    n_clusters=optimal_n_clusters,\n",
    "    max_iter=100,\n",
    "    n_init=1,\n",
    ")\n",
    "\n",
    "fit_and_evaluate(kmeans, X_lsa, name=\"KMeans\\nwith LSA on tf-idf vectors\")"
   ]
  },
  {
   "cell_type": "code",
   "execution_count": 72,
   "metadata": {},
   "outputs": [
    {
     "name": "stdout",
     "output_type": "stream",
     "text": [
      "clustering done in 0.10 ± 0.01 s \n",
      "Silhouette Coefficient: 0.135 ± 0.011\n",
      "Davies-Bouldin Index: 2.436 ± 0.106\n",
      "Calinski-Harabasz Index: 1091.898 ± 83.144\n"
     ]
    }
   ],
   "source": [
    "from sklearn.cluster import MiniBatchKMeans\n",
    "\n",
    "minibatch_kmeans = MiniBatchKMeans(\n",
    "    n_clusters=optimal_n_clusters,\n",
    "    n_init=1,\n",
    "    init_size=1000,\n",
    "    batch_size=1000,\n",
    ")\n",
    "\n",
    "fit_and_evaluate(\n",
    "    minibatch_kmeans,\n",
    "    X_lsa,\n",
    "    name=\"MiniBatchKMeans\\nwith LSA on tf-idf vectors\",\n",
    ")"
   ]
  },
  {
   "cell_type": "code",
   "execution_count": 73,
   "metadata": {},
   "outputs": [
    {
     "name": "stdout",
     "output_type": "stream",
     "text": [
      "Cluster 0: proyectores los algunos salones funcionan que aulas las cables problemas \n",
      "Cluster 1: más para que estacionamientos los lugares espacios actividades tener estudio \n",
      "Cluster 2: para que mas mejorar nada ninguna estacionamientos hay cafeteria por \n",
      "Cluster 3: los que para estudiantes baños mejorar salones estacionamientos con aires \n",
      "Cluster 4: las que cafeterías para los aulas mejorar con computadoras del \n",
      "Cluster 5: bien todo muy esta por demás está momento parece que \n",
      "Cluster 6: internet mejorar del lento mejor calidad velocidad muy servicio que \n",
      "Cluster 7: wifi mejorar del red lento mejor institucional señal calidad funciona \n",
      "Cluster 8: instalaciones las mejorar seguridad del que dentro los calidad para \n",
      "Cluster 9: clases virtuales las que para los más con dar mas \n",
      "Cluster 10: laboratorios los equipos para mejorar computadoras que más informática las \n",
      "Cluster 11: cafetería variedad comida precios más menú alimentos mejorar los que \n",
      "Cluster 12: seguridad paradas las mejorar más universidad los mas noche estacionamientos \n"
     ]
    }
   ],
   "source": [
    "original_space_centroids = lsa[0].inverse_transform(kmeans.cluster_centers_)\n",
    "order_centroids = original_space_centroids.argsort()[:, ::-1]\n",
    "terms = vectorizer.get_feature_names_out()\n",
    "\n",
    "for i in range(optimal_n_clusters):\n",
    "    print(f\"Cluster {i}: \", end=\"\")\n",
    "    for ind in order_centroids[i, :10]:\n",
    "        print(f\"{terms[ind]} \", end=\"\")\n",
    "    print()"
   ]
  },
  {
   "cell_type": "code",
   "execution_count": 74,
   "metadata": {},
   "outputs": [
    {
     "name": "stdout",
     "output_type": "stream",
     "text": [
      "vectorization done in 3.628 s\n"
     ]
    }
   ],
   "source": [
    "from sklearn.feature_extraction.text import HashingVectorizer\n",
    "from sklearn.feature_extraction.text import TfidfTransformer\n",
    "\n",
    "lsa_vectorizer = make_pipeline(\n",
    "    HashingVectorizer(stop_words=None, n_features=50_000),\n",
    "    TfidfTransformer(),\n",
    "    TruncatedSVD(n_components=100, random_state=0),\n",
    "    Normalizer(copy=False),\n",
    ")\n",
    "\n",
    "t0 = time()\n",
    "X_hashed_lsa = lsa_vectorizer.fit_transform(data['TEXTO_STRING'])\n",
    "print(f\"vectorization done in {time() - t0:.3f} s\")"
   ]
  },
  {
   "cell_type": "code",
   "execution_count": 75,
   "metadata": {},
   "outputs": [
    {
     "name": "stdout",
     "output_type": "stream",
     "text": [
      "clustering done in 0.15 ± 0.01 s \n",
      "Silhouette Coefficient: 0.060 ± 0.003\n",
      "Davies-Bouldin Index: 3.582 ± 0.037\n",
      "Calinski-Harabasz Index: 426.114 ± 12.475\n"
     ]
    }
   ],
   "source": [
    "fit_and_evaluate(kmeans, X_hashed_lsa, name=\"KMeans\\nwith LSA on hashed vectors\")"
   ]
  },
  {
   "cell_type": "code",
   "execution_count": 76,
   "metadata": {},
   "outputs": [
    {
     "name": "stdout",
     "output_type": "stream",
     "text": [
      "clustering done in 0.09 ± 0.02 s \n",
      "Silhouette Coefficient: 0.058 ± 0.004\n",
      "Davies-Bouldin Index: 3.700 ± 0.084\n",
      "Calinski-Harabasz Index: 404.051 ± 10.512\n"
     ]
    }
   ],
   "source": [
    "fit_and_evaluate(\n",
    "    minibatch_kmeans,\n",
    "    X_hashed_lsa,\n",
    "    name=\"MiniBatchKMeans\\nwith LSA on hashed vectors\",\n",
    ")"
   ]
  },
  {
   "cell_type": "code",
   "execution_count": 77,
   "metadata": {},
   "outputs": [
    {
     "data": {
      "image/png": "[encoded data removed]",
      "text/plain": [
       "<Figure size 1600x600 with 2 Axes>"
      ]
     },
     "metadata": {},
     "output_type": "display_data"
    }
   ],
   "source": [
    "import pandas as pd\n",
    "import matplotlib.pyplot as plt\n",
    "\n",
    "fig, (ax0, ax1) = plt.subplots(ncols=2, figsize=(16, 6), sharey=True)\n",
    "\n",
    "df = pd.DataFrame(evaluations[::-1]).set_index(\"estimator\")\n",
    "df_std = pd.DataFrame(evaluations_std[::-1]).set_index(\"estimator\")\n",
    "\n",
    "df.drop(\n",
    "    [\"train_time\"],\n",
    "    axis=\"columns\",\n",
    ").plot.barh(ax=ax0, xerr=df_std)\n",
    "ax0.set_xlabel(\"Clustering scores\")\n",
    "ax0.set_ylabel(\"\")\n",
    "\n",
    "df[\"train_time\"].plot.barh(ax=ax1, xerr=df_std[\"train_time\"])\n",
    "ax1.set_xlabel(\"Clustering time (s)\")\n",
    "plt.tight_layout()"
   ]
  },
  {
   "cell_type": "code",
   "execution_count": 78,
   "metadata": {},
   "outputs": [
    {
     "data": {
      "text/html": [
       "<table border=\"1\" class=\"dataframe\">\n",
       "  <thead>\n",
       "    <tr style=\"text-align: right;\">\n",
       "      <th></th>\n",
       "      <th>SEDE</th>\n",
       "      <th>FACULTAD</th>\n",
       "      <th>CARRERA</th>\n",
       "      <th>OBSERVACIONES</th>\n",
       "      <th>TEXTO_TOKEN</th>\n",
       "      <th>TEXTO_STRING</th>\n",
       "      <th>cluster 2</th>\n",
       "    </tr>\n",
       "  </thead>\n",
       "  <tbody>\n",
       "    <tr>\n",
       "      <th>30903</th>\n",
       "      <td>SEDE 8</td>\n",
       "      <td>FACULTAD 3</td>\n",
       "      <td>LICENCIATURA 10</td>\n",
       "      <td>Mejor ventilación y mobiliario para el salon p-12</td>\n",
       "      <td>[mejor, ventilación, mobiliario, para, salon]</td>\n",
       "      <td>mejor ventilación mobiliario para salon</td>\n",
       "      <td>1</td>\n",
       "    </tr>\n",
       "    <tr>\n",
       "      <th>40999</th>\n",
       "      <td>SEDE 2</td>\n",
       "      <td>FACULTAD 3</td>\n",
       "      <td>INGENIERIA 15</td>\n",
       "      <td>No hay internet en las aulas de clases para utilizar las computadoras</td>\n",
       "      <td>[hay, internet, las, aulas, clases, para, utilizar, las, computadoras]</td>\n",
       "      <td>hay internet las aulas clases para utilizar las computadoras</td>\n",
       "      <td>10</td>\n",
       "    </tr>\n",
       "    <tr>\n",
       "      <th>44707</th>\n",
       "      <td>SEDE 1</td>\n",
       "      <td>FACULTAD 5</td>\n",
       "      <td>LICENCIATURA 27</td>\n",
       "      <td>prefiero el uso de teams que la de moodle.</td>\n",
       "      <td>[prefiero, uso, teams, que, moodle]</td>\n",
       "      <td>prefiero uso teams que moodle</td>\n",
       "      <td>0</td>\n",
       "    </tr>\n",
       "    <tr>\n",
       "      <th>13845</th>\n",
       "      <td>SEDE 6</td>\n",
       "      <td>FACULTAD 1</td>\n",
       "      <td>INGENIERIA 01</td>\n",
       "      <td>El internet estudiantil es muy pobre dentro de la institución, además de que entra poco señal telefónica por razones que desconozco</td>\n",
       "      <td>[internet, estudiantil, muy, pobre, dentro, institución, además, que, entra, poco, señal, telefónica, por, razones, que, desconozco]</td>\n",
       "      <td>internet estudiantil muy pobre dentro institución además que entra poco señal telefónica por razones que desconozco</td>\n",
       "      <td>0</td>\n",
       "    </tr>\n",
       "    <tr>\n",
       "      <th>21491</th>\n",
       "      <td>SEDE 1</td>\n",
       "      <td>FACULTAD 5</td>\n",
       "      <td>INGENIERIA 25</td>\n",
       "      <td>Internet lento y poca cobertura</td>\n",
       "      <td>[internet, lento, poca, cobertura]</td>\n",
       "      <td>internet lento poca cobertura</td>\n",
       "      <td>1</td>\n",
       "    </tr>\n",
       "    <tr>\n",
       "      <th>11451</th>\n",
       "      <td>SEDE 8</td>\n",
       "      <td>FACULTAD 1</td>\n",
       "      <td>INGENIERIA 01</td>\n",
       "      <td>Dar poco flexibilidad estudiante que pase su materia</td>\n",
       "      <td>[dar, poco, flexibilidad, estudiante, que, pase, materia]</td>\n",
       "      <td>dar poco flexibilidad estudiante que pase materia</td>\n",
       "      <td>0</td>\n",
       "    </tr>\n",
       "    <tr>\n",
       "      <th>35303</th>\n",
       "      <td>SEDE 8</td>\n",
       "      <td>FACULTAD 3</td>\n",
       "      <td>LICENCIATURA 08</td>\n",
       "      <td>Mejorar las misma instalaciones de la universidad</td>\n",
       "      <td>[mejorar, las, misma, instalaciones, universidad]</td>\n",
       "      <td>mejorar las misma instalaciones universidad</td>\n",
       "      <td>4</td>\n",
       "    </tr>\n",
       "    <tr>\n",
       "      <th>23083</th>\n",
       "      <td>SEDE 1</td>\n",
       "      <td>FACULTAD 4</td>\n",
       "      <td>TÉCNICO 06</td>\n",
       "      <td>La maquina de cafe capuchino no funciona en la sede de Howard.</td>\n",
       "      <td>[maquina, cafe, capuchino, funciona, sede, howard]</td>\n",
       "      <td>maquina cafe capuchino funciona sede howard</td>\n",
       "      <td>1</td>\n",
       "    </tr>\n",
       "    <tr>\n",
       "      <th>40914</th>\n",
       "      <td>SEDE 6</td>\n",
       "      <td>FACULTAD 1</td>\n",
       "      <td>INGENIERIA 01</td>\n",
       "      <td>No hay estacionamientos y los que hay estan lejos y uno se ensucia y enloda al bajarse y no estan techados</td>\n",
       "      <td>[hay, estacionamientos, los, que, hay, estan, lejos, uno, ensucia, enloda, bajarse, estan, techados]</td>\n",
       "      <td>hay estacionamientos los que hay estan lejos uno ensucia enloda bajarse estan techados</td>\n",
       "      <td>0</td>\n",
       "    </tr>\n",
       "    <tr>\n",
       "      <th>47008</th>\n",
       "      <td>SEDE 1</td>\n",
       "      <td>FACULTAD 3</td>\n",
       "      <td>POSTGRADO 23</td>\n",
       "      <td>Se debe tener mejor organización para noti----ar a los estudiantes sobre sus clases</td>\n",
       "      <td>[debe, tener, mejor, organización, para, noti, los, estudiantes, sobre, sus, clases]</td>\n",
       "      <td>debe tener mejor organización para noti los estudiantes sobre sus clases</td>\n",
       "      <td>7</td>\n",
       "    </tr>\n",
       "  </tbody>\n",
       "</table>"
      ],
      "text/plain": [
       "<IPython.core.display.HTML object>"
      ]
     },
     "metadata": {},
     "output_type": "display_data"
    }
   ],
   "source": [
    "\n",
    "vectorizer = TfidfVectorizer(\n",
    "    max_df=0.5,\n",
    "    min_df=5,\n",
    ")\n",
    "X = vectorizer.fit_transform(data['TEXTO_STRING'])\n",
    "# 2. Entrenar el modelo de MiniBatchKMeans\n",
    "minibatch_kmeans = MiniBatchKMeans(\n",
    "    n_clusters=optimal_n_clusters,\n",
    "    n_init=1,\n",
    "    init_size=1000,\n",
    "    batch_size=1000,\n",
    "    random_state=42  # Para reproducibilidad\n",
    ")\n",
    "\n",
    "minibatch_kmeans.fit(X)\n",
    "\n",
    "# 3. Asignar etiquetas de clúster a los datos\n",
    "data['cluster 2'] = minibatch_kmeans.predict(X)\n",
    "\n",
    "# Imprimir los primeros resultados\n",
    "display(HTML(data.sample(10).to_html()))\n"
   ]
  }
 ],
 "metadata": {
  "kernelspec": {
   "display_name": "Samsung_Campus",
   "language": "python",
   "name": "python3"
  },
  "language_info": {
   "codemirror_mode": {
    "name": "ipython",
    "version": 3
   },
   "file_extension": ".py",
   "mimetype": "text/x-python",
   "name": "python",
   "nbconvert_exporter": "python",
   "pygments_lexer": "ipython3",
   "version": "3.8.18"
  }
 },
 "nbformat": 4,
 "nbformat_minor": 2
}
