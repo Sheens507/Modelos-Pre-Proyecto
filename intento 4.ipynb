{
 "cells": [
  {
   "cell_type": "code",
   "execution_count": 21,
   "metadata": {},
   "outputs": [],
   "source": [
    "import numpy as np\n",
    "import pandas as pd\n",
    "import string\n",
    "import re\n",
    "from IPython.core.display import HTML\n",
    "\n",
    "# Gráficos\n",
    "import matplotlib.pyplot as plt\n",
    "from matplotlib import style\n",
    "import seaborn as sns\n",
    "\n",
    "# Preprocesado y modelado\n",
    "from collections import defaultdict\n",
    "from sklearn import metrics\n",
    "from nltk.corpus import stopwords\n",
    "from sklearn.cluster import KMeans\n",
    "\n",
    "\n",
    "# cambiador de formatos para factorizar un dataset\n",
    "from sklearn.feature_extraction.text import TfidfVectorizer \n",
    "\n",
    "# control de rendimiento\n",
    "from time import time\n",
    "\n",
    "# Configuración warnings\n",
    "import warnings\n",
    "warnings.filterwarnings('ignore')"
   ]
  },
  {
   "cell_type": "code",
   "execution_count": 22,
   "metadata": {},
   "outputs": [],
   "source": [
    "ruta = 'Opiniones.csv'\n",
    "data = pd.read_csv(ruta)\n",
    "# print(data.head())"
   ]
  },
  {
   "cell_type": "code",
   "execution_count": 23,
   "metadata": {},
   "outputs": [
    {
     "data": {
      "text/html": [
       "<table border=\"1\" class=\"dataframe\">\n",
       "  <thead>\n",
       "    <tr style=\"text-align: right;\">\n",
       "      <th></th>\n",
       "      <th>AÑO</th>\n",
       "      <th>SEDE</th>\n",
       "      <th>FACULTAD</th>\n",
       "      <th>CARRERA</th>\n",
       "      <th>OBSERVACIONES</th>\n",
       "    </tr>\n",
       "  </thead>\n",
       "  <tbody>\n",
       "    <tr>\n",
       "      <th>52575</th>\n",
       "      <td>NaN</td>\n",
       "      <td>NaN</td>\n",
       "      <td>NaN</td>\n",
       "      <td>NaN</td>\n",
       "      <td>NaN</td>\n",
       "    </tr>\n",
       "    <tr>\n",
       "      <th>25932</th>\n",
       "      <td>2019.0</td>\n",
       "      <td>SEDE 1</td>\n",
       "      <td>FACULTAD 4</td>\n",
       "      <td>INGENIERIA 17</td>\n",
       "      <td>Los profes no ayudan</td>\n",
       "    </tr>\n",
       "    <tr>\n",
       "      <th>9573</th>\n",
       "      <td>2019.0</td>\n",
       "      <td>SEDE 1</td>\n",
       "      <td>FACULTAD 5</td>\n",
       "      <td>LICENCIATURA 22</td>\n",
       "      <td>Cafeteria mejor equipada</td>\n",
       "    </tr>\n",
       "    <tr>\n",
       "      <th>44820</th>\n",
       "      <td>2019.0</td>\n",
       "      <td>SEDE 8</td>\n",
       "      <td>FACULTAD 1</td>\n",
       "      <td>INGENIERIA 01</td>\n",
       "      <td>Proceso de Matrícula</td>\n",
       "    </tr>\n",
       "    <tr>\n",
       "      <th>2851</th>\n",
       "      <td>2019.0</td>\n",
       "      <td>SEDE 1</td>\n",
       "      <td>FACULTAD 2</td>\n",
       "      <td>INGENIERIA 08</td>\n",
       "      <td>.</td>\n",
       "    </tr>\n",
       "    <tr>\n",
       "      <th>13003</th>\n",
       "      <td>2019.0</td>\n",
       "      <td>SEDE 7</td>\n",
       "      <td>FACULTAD 3</td>\n",
       "      <td>INGENIERIA 15</td>\n",
       "      <td>El aire en el aula estuvo dañado todo el semestre.</td>\n",
       "    </tr>\n",
       "    <tr>\n",
       "      <th>5354</th>\n",
       "      <td>2019.0</td>\n",
       "      <td>SEDE 1</td>\n",
       "      <td>FACULTAD 2</td>\n",
       "      <td>INGENIERIA 07</td>\n",
       "      <td>Abran la cafeteria del ----</td>\n",
       "    </tr>\n",
       "    <tr>\n",
       "      <th>35595</th>\n",
       "      <td>2019.0</td>\n",
       "      <td>SEDE 1</td>\n",
       "      <td>FACULTAD 1</td>\n",
       "      <td>LICENCIATURA 01</td>\n",
       "      <td>Mejorar los horarios de clase, que no sean tan tarde ya que a muchos se nos di----ulta la movilidad y más a esas altas horas</td>\n",
       "    </tr>\n",
       "    <tr>\n",
       "      <th>34825</th>\n",
       "      <td>2019.0</td>\n",
       "      <td>SEDE 1</td>\n",
       "      <td>FACULTAD 2</td>\n",
       "      <td>INGENIERIA 12</td>\n",
       "      <td>Mejorar la seguridad en las paradas</td>\n",
       "    </tr>\n",
       "    <tr>\n",
       "      <th>36093</th>\n",
       "      <td>2019.0</td>\n",
       "      <td>SEDE 1</td>\n",
       "      <td>FACULTAD 2</td>\n",
       "      <td>LICENCIATURA 07</td>\n",
       "      <td>mejorar sus procesos de ayuda al estudiante y que los mismos dejen de ser extensos</td>\n",
       "    </tr>\n",
       "    <tr>\n",
       "      <th>34561</th>\n",
       "      <td>2019.0</td>\n",
       "      <td>SEDE 8</td>\n",
       "      <td>FACULTAD 1</td>\n",
       "      <td>INGENIERIA 01</td>\n",
       "      <td>Mejorar la limpieza de algunos baños</td>\n",
       "    </tr>\n",
       "    <tr>\n",
       "      <th>49501</th>\n",
       "      <td>2019.0</td>\n",
       "      <td>SEDE 1</td>\n",
       "      <td>FACULTAD 3</td>\n",
       "      <td>INGENIERIA 15</td>\n",
       "      <td>Tiempo</td>\n",
       "    </tr>\n",
       "    <tr>\n",
       "      <th>2048</th>\n",
       "      <td>2019.0</td>\n",
       "      <td>SEDE 1</td>\n",
       "      <td>FACULTAD 1</td>\n",
       "      <td>LICENCIATURA 02</td>\n",
       "      <td>.</td>\n",
       "    </tr>\n",
       "    <tr>\n",
       "      <th>10128</th>\n",
       "      <td>2019.0</td>\n",
       "      <td>SEDE 1</td>\n",
       "      <td>FACULTAD 4</td>\n",
       "      <td>INGENIERIA 21</td>\n",
       "      <td>chivito kb hc</td>\n",
       "    </tr>\n",
       "    <tr>\n",
       "      <th>10550</th>\n",
       "      <td>2019.0</td>\n",
       "      <td>SEDE 1</td>\n",
       "      <td>FACULTAD 1</td>\n",
       "      <td>INGENIERIA 06</td>\n",
       "      <td>Comida para horarios nocturnos</td>\n",
       "    </tr>\n",
       "    <tr>\n",
       "      <th>42620</th>\n",
       "      <td>2019.0</td>\n",
       "      <td>SEDE 7</td>\n",
       "      <td>FACULTAD 1</td>\n",
       "      <td>LICENCIATURA 04</td>\n",
       "      <td>Nuevos equipos de computadoras</td>\n",
       "    </tr>\n",
       "    <tr>\n",
       "      <th>36351</th>\n",
       "      <td>2019.0</td>\n",
       "      <td>SEDE 1</td>\n",
       "      <td>FACULTAD 2</td>\n",
       "      <td>INGENIERIA 08</td>\n",
       "      <td>Mejoras el  servicio Wi-fi de la universidad</td>\n",
       "    </tr>\n",
       "    <tr>\n",
       "      <th>10083</th>\n",
       "      <td>2019.0</td>\n",
       "      <td>SEDE 5</td>\n",
       "      <td>FACULTAD 3</td>\n",
       "      <td>LICENCIATURA 08</td>\n",
       "      <td>centro de copiado fijo</td>\n",
       "    </tr>\n",
       "    <tr>\n",
       "      <th>17049</th>\n",
       "      <td>2019.0</td>\n",
       "      <td>SEDE 1</td>\n",
       "      <td>FACULTAD 3</td>\n",
       "      <td>LICENCIATURA 10</td>\n",
       "      <td>Estacionamiento</td>\n",
       "    </tr>\n",
       "    <tr>\n",
       "      <th>11236</th>\n",
       "      <td>2019.0</td>\n",
       "      <td>SEDE 8</td>\n",
       "      <td>FACULTAD 1</td>\n",
       "      <td>LICENCIATURA 05</td>\n",
       "      <td>creo que el docente debe trabajar más para ser un ente motivador para el estudiante de manera que sirva de vinculo para poder integrarse en la sociedad y mejorar como complemento de su carrera</td>\n",
       "    </tr>\n",
       "  </tbody>\n",
       "</table>"
      ],
      "text/plain": [
       "<IPython.core.display.HTML object>"
      ]
     },
     "metadata": {},
     "output_type": "display_data"
    }
   ],
   "source": [
    "display(HTML(data.sample(20).to_html()))"
   ]
  },
  {
   "cell_type": "code",
   "execution_count": 24,
   "metadata": {},
   "outputs": [
    {
     "name": "stdout",
     "output_type": "stream",
     "text": [
      "     YEAR    SEDE    FACULTAD          CARRERA OBSERVACIONES\n",
      "0  2019.0  SEDE 2  FACULTAD 1  LICENCIATURA 03             0\n",
      "1  2019.0  SEDE 2  FACULTAD 1  LICENCIATURA 04             0\n",
      "2  2019.0  SEDE 2  FACULTAD 2  LICENCIATURA 07             0\n",
      "3  2019.0  SEDE 2  FACULTAD 3    INGENIERIA 15             0\n",
      "4  2019.0  SEDE 3  FACULTAD 1  LICENCIATURA 04             0\n"
     ]
    }
   ],
   "source": [
    "data.rename(columns={'AÑO':'YEAR'}, inplace=True)\n",
    "print(data.head())"
   ]
  },
  {
   "cell_type": "code",
   "execution_count": 27,
   "metadata": {},
   "outputs": [
    {
     "name": "stdout",
     "output_type": "stream",
     "text": [
      "<class 'pandas.core.frame.DataFrame'>\n",
      "RangeIndex: 52583 entries, 0 to 52582\n",
      "Data columns (total 5 columns):\n",
      " #   Column         Non-Null Count  Dtype  \n",
      "---  ------         --------------  -----  \n",
      " 0   YEAR           52519 non-null  float64\n",
      " 1   SEDE           52519 non-null  object \n",
      " 2   FACULTAD       52519 non-null  object \n",
      " 3   CARRERA        52338 non-null  object \n",
      " 4   OBSERVACIONES  52340 non-null  object \n",
      "dtypes: float64(1), object(4)\n",
      "memory usage: 2.0+ MB\n"
     ]
    }
   ],
   "source": [
    "data.info()"
   ]
  },
  {
   "cell_type": "code",
   "execution_count": 28,
   "metadata": {},
   "outputs": [
    {
     "name": "stdout",
     "output_type": "stream",
     "text": [
      "<class 'pandas.core.frame.DataFrame'>\n",
      "Index: 52160 entries, 0 to 52515\n",
      "Data columns (total 5 columns):\n",
      " #   Column         Non-Null Count  Dtype  \n",
      "---  ------         --------------  -----  \n",
      " 0   YEAR           52160 non-null  float64\n",
      " 1   SEDE           52160 non-null  object \n",
      " 2   FACULTAD       52160 non-null  object \n",
      " 3   CARRERA        52160 non-null  object \n",
      " 4   OBSERVACIONES  52160 non-null  object \n",
      "dtypes: float64(1), object(4)\n",
      "memory usage: 2.4+ MB\n"
     ]
    }
   ],
   "source": [
    "data.dropna(inplace=True)\n",
    "data.info()"
   ]
  },
  {
   "cell_type": "code",
   "execution_count": 29,
   "metadata": {},
   "outputs": [
    {
     "name": "stdout",
     "output_type": "stream",
     "text": [
      "Columna YEAR: 1 subniveles\n",
      "Columna SEDE: 8 subniveles\n",
      "Columna FACULTAD: 6 subniveles\n",
      "Columna CARRERA: 103 subniveles\n"
     ]
    }
   ],
   "source": [
    "data['YEAR'] = data['YEAR'].astype(float).astype(int)\n",
    "col_list = ['YEAR','SEDE', 'FACULTAD', 'CARRERA']\n",
    "for col in col_list:\n",
    "    if col == 'TEXTO_TOKEN':\n",
    "        data[col] = data[col].apply(lambda x: ' '.join(x))\n",
    "    print(f'Columna {col}: {data[col].nunique()} subniveles')"
   ]
  },
  {
   "cell_type": "code",
   "execution_count": 30,
   "metadata": {},
   "outputs": [
    {
     "name": "stdout",
     "output_type": "stream",
     "text": [
      "<class 'pandas.core.frame.DataFrame'>\n",
      "Index: 52160 entries, 0 to 52515\n",
      "Data columns (total 4 columns):\n",
      " #   Column         Non-Null Count  Dtype \n",
      "---  ------         --------------  ----- \n",
      " 0   SEDE           52160 non-null  object\n",
      " 1   FACULTAD       52160 non-null  object\n",
      " 2   CARRERA        52160 non-null  object\n",
      " 3   OBSERVACIONES  52160 non-null  object\n",
      "dtypes: object(4)\n",
      "memory usage: 2.0+ MB\n"
     ]
    }
   ],
   "source": [
    "data.drop(columns='YEAR', inplace=True)\n",
    "data.info()"
   ]
  },
  {
   "cell_type": "code",
   "execution_count": 31,
   "metadata": {},
   "outputs": [
    {
     "data": {
      "text/html": [
       "<table border=\"1\" class=\"dataframe\">\n",
       "  <thead>\n",
       "    <tr style=\"text-align: right;\">\n",
       "      <th></th>\n",
       "      <th>SEDE</th>\n",
       "      <th>FACULTAD</th>\n",
       "      <th>CARRERA</th>\n",
       "      <th>OBSERVACIONES</th>\n",
       "    </tr>\n",
       "  </thead>\n",
       "  <tbody>\n",
       "    <tr>\n",
       "      <th>14790</th>\n",
       "      <td>SEDE 1</td>\n",
       "      <td>FACULTAD 4</td>\n",
       "      <td>INGENIERIA 19</td>\n",
       "      <td>El wi fi es muy lento</td>\n",
       "    </tr>\n",
       "    <tr>\n",
       "      <th>4218</th>\n",
       "      <td>SEDE 7</td>\n",
       "      <td>FACULTAD 3</td>\n",
       "      <td>INGENIERIA 15</td>\n",
       "      <td>.</td>\n",
       "    </tr>\n",
       "    <tr>\n",
       "      <th>36881</th>\n",
       "      <td>SEDE 1</td>\n",
       "      <td>FACULTAD 5</td>\n",
       "      <td>INGENIERIA 25</td>\n",
       "      <td>mejores opciones de salon</td>\n",
       "    </tr>\n",
       "    <tr>\n",
       "      <th>41135</th>\n",
       "      <td>SEDE 1</td>\n",
       "      <td>FACULTAD 3</td>\n",
       "      <td>INGENIERIA 15</td>\n",
       "      <td>no hay mucho lugar para descansar entre largos recesos</td>\n",
       "    </tr>\n",
       "    <tr>\n",
       "      <th>27052</th>\n",
       "      <td>SEDE 4</td>\n",
       "      <td>FACULTAD 3</td>\n",
       "      <td>INGENIERIA 15</td>\n",
       "      <td>Mas capacidad para enviar los documentos en las plataformas</td>\n",
       "    </tr>\n",
       "    <tr>\n",
       "      <th>23590</th>\n",
       "      <td>SEDE 1</td>\n",
       "      <td>FACULTAD 2</td>\n",
       "      <td>INGENIERIA 12</td>\n",
       "      <td>La universidad podría invertir en mejorar el hardware y la red del sistema para garantizar una conexión más rápida y estable. Esto podría incluir la actualización de enrutadores, puntos de acceso y ca</td>\n",
       "    </tr>\n",
       "    <tr>\n",
       "      <th>44536</th>\n",
       "      <td>SEDE 1</td>\n",
       "      <td>FACULTAD 4</td>\n",
       "      <td>LICENCIATURA 15</td>\n",
       "      <td>Precio de maquina expendedora</td>\n",
       "    </tr>\n",
       "    <tr>\n",
       "      <th>19138</th>\n",
       "      <td>SEDE 1</td>\n",
       "      <td>FACULTAD 1</td>\n",
       "      <td>INGENIERIA 06</td>\n",
       "      <td>Ha</td>\n",
       "    </tr>\n",
       "    <tr>\n",
       "      <th>51222</th>\n",
       "      <td>SEDE 4</td>\n",
       "      <td>FACULTAD 1</td>\n",
       "      <td>LICENCIATURA 05</td>\n",
       "      <td>Variedad de Alimentos en la Cafetería</td>\n",
       "    </tr>\n",
       "    <tr>\n",
       "      <th>15496</th>\n",
       "      <td>SEDE 3</td>\n",
       "      <td>FACULTAD 1</td>\n",
       "      <td>LICENCIATURA 04</td>\n",
       "      <td>En</td>\n",
       "    </tr>\n",
       "  </tbody>\n",
       "</table>"
      ],
      "text/plain": [
       "<IPython.core.display.HTML object>"
      ]
     },
     "metadata": {},
     "output_type": "display_data"
    }
   ],
   "source": [
    "display(HTML(data.sample(10).to_html()))"
   ]
  },
  {
   "cell_type": "markdown",
   "metadata": {},
   "source": [
    "Acomodar para que quite stopwords"
   ]
  },
  {
   "cell_type": "code",
   "execution_count": 32,
   "metadata": {},
   "outputs": [
    {
     "name": "stdout",
     "output_type": "stream",
     "text": [
      "['de', 'la', 'que', 'el', 'en', 'y', 'a', 'los', 'del', 'se', 'las', 'por', 'un', 'para', 'con', 'no', 'una', 'su', 'al', 'lo', 'como', 'más', 'pero', 'sus', 'le', 'ya', 'o', 'este', 'sí', 'porque', 'esta', 'entre', 'cuando', 'muy', 'sin', 'sobre', 'también', 'me', 'hasta', 'hay', 'donde', 'quien', 'desde', 'todo', 'nos', 'durante', 'todos', 'uno', 'les', 'ni', 'contra', 'otros', 'ese', 'eso', 'ante', 'ellos', 'e', 'esto', 'mí', 'antes', 'algunos', 'qué', 'unos', 'yo', 'otro', 'otras', 'otra', 'él', 'tanto', 'esa', 'estos', 'mucho', 'quienes', 'nada', 'muchos', 'cual', 'poco', 'ella', 'estar', 'estas', 'algunas', 'algo', 'nosotros', 'mi', 'mis', 'tú', 'te', 'ti', 'tu', 'tus', 'ellas', 'nosotras', 'vosotros', 'vosotras', 'os', 'mío', 'mía', 'míos', 'mías', 'tuyo', 'tuya', 'tuyos', 'tuyas', 'suyo', 'suya', 'suyos', 'suyas', 'nuestro', 'nuestra', 'nuestros', 'nuestras', 'vuestro', 'vuestra', 'vuestros', 'vuestras', 'esos', 'esas', 'estoy', 'estás', 'está', 'estamos', 'estáis', 'están', 'esté', 'estés', 'estemos', 'estéis', 'estén', 'estaré', 'estarás', 'estará', 'estaremos', 'estaréis', 'estarán', 'estaría', 'estarías', 'estaríamos', 'estaríais', 'estarían', 'estaba', 'estabas', 'estábamos', 'estabais', 'estaban', 'estuve', 'estuviste', 'estuvo', 'estuvimos', 'estuvisteis', 'estuvieron', 'estuviera', 'estuvieras', 'estuviéramos', 'estuvierais', 'estuvieran', 'estuviese', 'estuvieses', 'estuviésemos', 'estuvieseis', 'estuviesen', 'estando', 'estado', 'estada', 'estados', 'estadas', 'estad', 'he', 'has', 'ha', 'hemos', 'habéis', 'han', 'haya', 'hayas', 'hayamos', 'hayáis', 'hayan', 'habré', 'habrás', 'habrá', 'habremos', 'habréis', 'habrán', 'habría', 'habrías', 'habríamos', 'habríais', 'habrían', 'había', 'habías', 'habíamos', 'habíais', 'habían', 'hube', 'hubiste', 'hubo', 'hubimos', 'hubisteis', 'hubieron', 'hubiera', 'hubieras', 'hubiéramos', 'hubierais', 'hubieran', 'hubiese', 'hubieses', 'hubiésemos', 'hubieseis', 'hubiesen', 'habiendo', 'habido', 'habida', 'habidos', 'habidas', 'soy', 'eres', 'es', 'somos', 'sois', 'son', 'sea', 'seas', 'seamos', 'seáis', 'sean', 'seré', 'serás', 'será', 'seremos', 'seréis', 'serán', 'sería', 'serías', 'seríamos', 'seríais', 'serían', 'era', 'eras', 'éramos', 'erais', 'eran', 'fui', 'fuiste', 'fue', 'fuimos', 'fuisteis', 'fueron', 'fuera', 'fueras', 'fuéramos', 'fuerais', 'fueran', 'fuese', 'fueses', 'fuésemos', 'fueseis', 'fuesen', 'sintiendo', 'sentido', 'sentida', 'sentidos', 'sentidas', 'siente', 'sentid', 'tengo', 'tienes', 'tiene', 'tenemos', 'tenéis', 'tienen', 'tenga', 'tengas', 'tengamos', 'tengáis', 'tengan', 'tendré', 'tendrás', 'tendrá', 'tendremos', 'tendréis', 'tendrán', 'tendría', 'tendrías', 'tendríamos', 'tendríais', 'tendrían', 'tenía', 'tenías', 'teníamos', 'teníais', 'tenían', 'tuve', 'tuviste', 'tuvo', 'tuvimos', 'tuvisteis', 'tuvieron', 'tuviera', 'tuvieras', 'tuviéramos', 'tuvierais', 'tuvieran', 'tuviese', 'tuvieses', 'tuviésemos', 'tuvieseis', 'tuviesen', 'teniendo', 'tenido', 'tenida', 'tenidos', 'tenidas', 'tened', 'xq', 'oye', 'dale', 'dele', 'ba', 'abc', 'nan', 'na']\n"
     ]
    }
   ],
   "source": [
    "spanish_stopwords = list(stopwords.words('spanish'))\n",
    "spanish_stopwords.extend((\"xq\", \"oye\", \"dale\", \"dele\", \"ba\", \"abc\", \"nan\", \"na\"))\n",
    "print(spanish_stopwords)"
   ]
  },
  {
   "cell_type": "code",
   "execution_count": 34,
   "metadata": {},
   "outputs": [
    {
     "name": "stdout",
     "output_type": "stream",
     "text": [
      "Esto es 1 ejemplo de l'limpieza de6 TEXTO  https://t.co/rnHPgyhx4Z @cienciadedatos #textmining zzzzz oooooo aaaaaaaa hhh eeeeeeee todo bien, bien\n",
      "['esto', 'ejemplo', 'limpieza', 'texto', 'cienciadedatos', 'textmining', 'todo', 'bien', 'bien']\n"
     ]
    }
   ],
   "source": [
    "def limpiar_tokenizar(texto):\n",
    "    # Eliminación de números\n",
    "    nuevo_texto = re.sub(\"\\d+\", ' ', texto)\n",
    "    # Se convierte todo el texto a minúsculas\n",
    "    nuevo_texto = nuevo_texto.lower()\n",
    "    # Eliminación de páginas web (palabras que empiezan por \"http\")\n",
    "    nuevo_texto = re.sub('http\\S+', ' ', nuevo_texto)\n",
    "    # Eliminación de signos de puntuación\n",
    "    regex = '[\\\\!\\\\\"\\\\#\\\\$\\\\%\\\\&\\\\\\'\\\\(\\\\)\\\\*\\\\+\\\\,\\\n",
    "    \\-\\\\.\\\\/\\\\:\\\\;\\\\<\\\\=\\\\>\\\\?\\\\@\\\\[\\\\\\\\\\\\]\\\\^_\\\\`\\\\{\\\\|\\\\}\\\\~—]'\n",
    "    nuevo_texto = re.sub(regex , ' ', nuevo_texto)\n",
    "    # Eliminación de espacios en blanco múltiples\n",
    "    nuevo_texto = re.sub(\"\\\\s+\", ' ', nuevo_texto)\n",
    "    # Tokenización por palabras individuales\n",
    "    nuevo_texto = nuevo_texto.split(sep = ' ')\n",
    "    # Eliminación de tokens con una longitud < 2\n",
    "    nuevo_texto = [token for token in nuevo_texto if len(token) > 2]\n",
    "    # quitar los token que sean solamente de una letra repetidas 2 o mas veces\n",
    "    nuevo_texto = [token for token in nuevo_texto if not re.fullmatch(r'(.)\\1*', token)]\n",
    "    \n",
    "    return(nuevo_texto)\n",
    "\n",
    "test = \"Esto es 1 ejemplo de l'limpieza de6 TEXTO  https://t.co/rnHPgyhx4Z @cienciadedatos #textmining zzzzz oooooo aaaaaaaa hhh eeeeeeee todo bien, bien\"\n",
    "print(test)\n",
    "print(limpiar_tokenizar(texto=test))"
   ]
  },
  {
   "cell_type": "code",
   "execution_count": 35,
   "metadata": {},
   "outputs": [],
   "source": [
    "def join_tokens(tokens):\n",
    "    if isinstance(tokens, list):\n",
    "        return ' '.join(tokens)\n",
    "    else:\n",
    "        return ''"
   ]
  },
  {
   "cell_type": "code",
   "execution_count": 54,
   "metadata": {},
   "outputs": [
    {
     "data": {
      "text/html": [
       "<table border=\"1\" class=\"dataframe\">\n",
       "  <thead>\n",
       "    <tr style=\"text-align: right;\">\n",
       "      <th></th>\n",
       "      <th>SEDE</th>\n",
       "      <th>FACULTAD</th>\n",
       "      <th>CARRERA</th>\n",
       "      <th>OBSERVACIONES</th>\n",
       "      <th>TEXTO_TOKEN</th>\n",
       "      <th>TEXTO_STRING</th>\n",
       "    </tr>\n",
       "  </thead>\n",
       "  <tbody>\n",
       "    <tr>\n",
       "      <th>24223</th>\n",
       "      <td>SEDE 6</td>\n",
       "      <td>FACULTAD 3</td>\n",
       "      <td>LICENCIATURA 10</td>\n",
       "      <td>Las construcción del pasillo principal que todavía no ha sido terminada</td>\n",
       "      <td>[las, construcción, del, pasillo, principal, que, todavía, sido, terminada]</td>\n",
       "      <td>las construcción del pasillo principal que todavía sido terminada</td>\n",
       "    </tr>\n",
       "    <tr>\n",
       "      <th>38025</th>\n",
       "      <td>SEDE 2</td>\n",
       "      <td>FACULTAD 1</td>\n",
       "      <td>INGENIERIA 01</td>\n",
       "      <td>Nada</td>\n",
       "      <td>[nada]</td>\n",
       "      <td>nada</td>\n",
       "    </tr>\n",
       "    <tr>\n",
       "      <th>14265</th>\n",
       "      <td>SEDE 1</td>\n",
       "      <td>FACULTAD 3</td>\n",
       "      <td>LICENCIATURA 08</td>\n",
       "      <td>El menú de la cafetería debe ser más variado aunque su precio aumente un poco</td>\n",
       "      <td>[menú, cafetería, debe, ser, más, variado, aunque, precio, aumente, poco]</td>\n",
       "      <td>menú cafetería debe ser más variado aunque precio aumente poco</td>\n",
       "    </tr>\n",
       "    <tr>\n",
       "      <th>9477</th>\n",
       "      <td>SEDE 1</td>\n",
       "      <td>FACULTAD 3</td>\n",
       "      <td>LICENCIATURA 11</td>\n",
       "      <td>Cafetería con un horario más extenso.</td>\n",
       "      <td>[cafetería, con, horario, más, extenso]</td>\n",
       "      <td>cafetería con horario más extenso</td>\n",
       "    </tr>\n",
       "    <tr>\n",
       "      <th>21324</th>\n",
       "      <td>SEDE 8</td>\n",
       "      <td>FACULTAD 1</td>\n",
       "      <td>POSTGRADO 17</td>\n",
       "      <td>Internet</td>\n",
       "      <td>[internet]</td>\n",
       "      <td>internet</td>\n",
       "    </tr>\n",
       "    <tr>\n",
       "      <th>24480</th>\n",
       "      <td>SEDE 2</td>\n",
       "      <td>FACULTAD 1</td>\n",
       "      <td>LICENCIATURA 05</td>\n",
       "      <td>Las puertas de algunos baños no funcionan</td>\n",
       "      <td>[las, puertas, algunos, baños, funcionan]</td>\n",
       "      <td>las puertas algunos baños funcionan</td>\n",
       "    </tr>\n",
       "    <tr>\n",
       "      <th>43215</th>\n",
       "      <td>SEDE 5</td>\n",
       "      <td>FACULTAD 2</td>\n",
       "      <td>TÉCNICO 05</td>\n",
       "      <td>Pague laboratorio y no los use.</td>\n",
       "      <td>[pague, laboratorio, los, use]</td>\n",
       "      <td>pague laboratorio los use</td>\n",
       "    </tr>\n",
       "    <tr>\n",
       "      <th>14297</th>\n",
       "      <td>SEDE 2</td>\n",
       "      <td>FACULTAD 3</td>\n",
       "      <td>INGENIERIA 15</td>\n",
       "      <td>El menú estudiantil debe ser más variado</td>\n",
       "      <td>[menú, estudiantil, debe, ser, más, variado]</td>\n",
       "      <td>menú estudiantil debe ser más variado</td>\n",
       "    </tr>\n",
       "    <tr>\n",
       "      <th>12295</th>\n",
       "      <td>SEDE 1</td>\n",
       "      <td>FACULTAD 3</td>\n",
       "      <td>LICENCIATURA 11</td>\n",
       "      <td>Decir</td>\n",
       "      <td>[decir]</td>\n",
       "      <td>decir</td>\n",
       "    </tr>\n",
       "    <tr>\n",
       "      <th>4400</th>\n",
       "      <td>SEDE 8</td>\n",
       "      <td>FACULTAD 5</td>\n",
       "      <td>LICENCIATURA 23</td>\n",
       "      <td>.</td>\n",
       "      <td>[]</td>\n",
       "      <td></td>\n",
       "    </tr>\n",
       "  </tbody>\n",
       "</table>"
      ],
      "text/plain": [
       "<IPython.core.display.HTML object>"
      ]
     },
     "metadata": {},
     "output_type": "display_data"
    }
   ],
   "source": [
    "display(HTML(data.sample(10).to_html()))"
   ]
  },
  {
   "cell_type": "code",
   "execution_count": 36,
   "metadata": {},
   "outputs": [
    {
     "name": "stdout",
     "output_type": "stream",
     "text": [
      "vectorization done in 0.595 s\n",
      "n_samples: 52160, n_features: 3065\n"
     ]
    }
   ],
   "source": [
    "data['OBSERVACIONES'] = data['OBSERVACIONES'].astype(str)\n",
    "data['TEXTO_TOKEN'] = data['OBSERVACIONES'].apply(lambda x: limpiar_tokenizar(x))\n",
    "\n",
    "# Concatenar la lista de tokens en una sola cadena con espacios\n",
    "data['TEXTO_STRING'] = data['TEXTO_TOKEN'].apply(join_tokens)\n",
    "\n",
    "vectorizer = TfidfVectorizer(\n",
    "    max_df=0.5,\n",
    "    min_df=5,\n",
    ")\n",
    "t0 = time()\n",
    "X_tfidf = vectorizer.fit_transform(data['TEXTO_STRING'])\n",
    "\n",
    "print(f\"vectorization done in {time() - t0:.3f} s\")\n",
    "print(f\"n_samples: {X_tfidf.shape[0]}, n_features: {X_tfidf.shape[1]}\")"
   ]
  },
  {
   "cell_type": "code",
   "execution_count": 37,
   "metadata": {},
   "outputs": [
    {
     "name": "stdout",
     "output_type": "stream",
     "text": [
      "0.001\n"
     ]
    }
   ],
   "source": [
    "print(f\"{X_tfidf.nnz / np.prod(X_tfidf.shape):.3f}\")"
   ]
  },
  {
   "cell_type": "code",
   "execution_count": 38,
   "metadata": {},
   "outputs": [
    {
     "data": {
      "text/plain": [
       "<52160x3065 sparse matrix of type '<class 'numpy.float64'>'\n",
       "\twith 216567 stored elements in Compressed Sparse Row format>"
      ]
     },
     "execution_count": 38,
     "metadata": {},
     "output_type": "execute_result"
    }
   ],
   "source": [
    "X_tfidf"
   ]
  },
  {
   "cell_type": "code",
   "execution_count": 39,
   "metadata": {},
   "outputs": [
    {
     "name": "stdout",
     "output_type": "stream",
     "text": [
      "Número óptimo de clusters según el método de la silueta: 13\n"
     ]
    }
   ],
   "source": [
    "from sklearn.metrics import silhouette_score\n",
    "\n",
    "silhouette_scores = []\n",
    "\n",
    "for n_clusters in range(2, 15):\n",
    "    kmeans = KMeans(n_clusters=n_clusters, init='k-means++', max_iter=300, n_init=10, random_state=0)\n",
    "    cluster_labels = kmeans.fit_predict(X_tfidf)  # X es tu matriz de datos\n",
    "    silhouette_avg = silhouette_score(X_tfidf, cluster_labels)\n",
    "    silhouette_scores.append(silhouette_avg)\n",
    "\n",
    "# Encontrar el número óptimo de clusters basado en el método de la silueta\n",
    "optimal_n_clusters = np.argmax(silhouette_scores) + 2  # +2 porque empezamos desde n_clusters=2\n",
    "\n",
    "print(f\"Número óptimo de clusters según el método de la silueta: {optimal_n_clusters}\")"
   ]
  },
  {
   "cell_type": "code",
   "execution_count": 42,
   "metadata": {},
   "outputs": [
    {
     "name": "stdout",
     "output_type": "stream",
     "text": [
      "Number of elements asigned to each cluster: [  246  2328   532   928 37477  2082   821  1186    29  2007  2704   192\n",
      "  1628]\n",
      "Number of elements asigned to each cluster: [  152 39916  1725   148   379  1240   218  2243   926  1048  2022   821\n",
      "  1322]\n",
      "Number of elements asigned to each cluster: [  636 38838   268  2871   821   200   382  1154  1839  1352   926  2265\n",
      "   608]\n",
      "Number of elements asigned to each cluster: [ 2650  3254 38318   630   134  1309  1392   616   146   656   598   176\n",
      "  2281]\n",
      "Number of elements asigned to each cluster: [   24   907 41093   618  2232  1375  1147   766   653   478   323  1884\n",
      "   660]\n",
      "\n"
     ]
    }
   ],
   "source": [
    "from sklearn.cluster import KMeans\n",
    "\n",
    "for seed in range(5):\n",
    "    kmeans = KMeans(\n",
    "        n_clusters=optimal_n_clusters,\n",
    "        max_iter=100,\n",
    "        n_init=1,\n",
    "        random_state=seed,\n",
    "    ).fit(X_tfidf)\n",
    "    cluster_ids, cluster_sizes = np.unique(kmeans.labels_, return_counts=True)\n",
    "    print(f\"Number of elements asigned to each cluster: {cluster_sizes}\")\n",
    "print()\n"
   ]
  },
  {
   "cell_type": "code",
   "execution_count": 45,
   "metadata": {},
   "outputs": [
    {
     "name": "stdout",
     "output_type": "stream",
     "text": [
      "clustering done in 26.72 ± 1.09 s \n",
      "Silhouette Coefficient: 0.109 ± 0.008\n",
      "Davies-Bouldin Index: 2.695 ± 0.115\n",
      "Calinski-Harabasz Index: 601.418 ± 53.684\n"
     ]
    }
   ],
   "source": [
    "kmeans = KMeans(\n",
    "    n_clusters=optimal_n_clusters,\n",
    "    max_iter=100,\n",
    "    n_init=5,\n",
    ")\n",
    "\n",
    "fit_and_evaluate(kmeans, X_tfidf.toarray(), name=\"KMeans\\non tf-idf vectors\")"
   ]
  },
  {
   "cell_type": "code",
   "execution_count": 46,
   "metadata": {},
   "outputs": [
    {
     "name": "stdout",
     "output_type": "stream",
     "text": [
      "LSA done in 2.865 s\n",
      "Explained variance of the SVD step: 49.5%\n"
     ]
    }
   ],
   "source": [
    "from sklearn.decomposition import TruncatedSVD\n",
    "from sklearn.pipeline import make_pipeline\n",
    "from sklearn.preprocessing import Normalizer\n",
    "\n",
    "\n",
    "lsa = make_pipeline(TruncatedSVD(n_components=100), Normalizer(copy=False))\n",
    "t0 = time()\n",
    "X_lsa = lsa.fit_transform(X_tfidf)\n",
    "explained_variance = lsa[0].explained_variance_ratio_.sum()\n",
    "\n",
    "print(f\"LSA done in {time() - t0:.3f} s\")\n",
    "print(f\"Explained variance of the SVD step: {explained_variance * 100:.1f}%\")"
   ]
  },
  {
   "cell_type": "code",
   "execution_count": 47,
   "metadata": {},
   "outputs": [
    {
     "name": "stdout",
     "output_type": "stream",
     "text": [
      "clustering done in 0.36 ± 0.12 s \n",
      "Silhouette Coefficient: 0.126 ± 0.011\n",
      "Davies-Bouldin Index: 2.438 ± 0.110\n",
      "Calinski-Harabasz Index: 1065.884 ± 140.536\n"
     ]
    }
   ],
   "source": [
    "kmeans = KMeans(\n",
    "    n_clusters=optimal_n_clusters,\n",
    "    max_iter=100,\n",
    "    n_init=1,\n",
    ")\n",
    "\n",
    "fit_and_evaluate(kmeans, X_lsa, name=\"KMeans\\nwith LSA on tf-idf vectors\")"
   ]
  },
  {
   "cell_type": "code",
   "execution_count": 49,
   "metadata": {},
   "outputs": [
    {
     "name": "stdout",
     "output_type": "stream",
     "text": [
      "clustering done in 0.11 ± 0.05 s \n",
      "Silhouette Coefficient: 0.134 ± 0.009\n",
      "Davies-Bouldin Index: 2.484 ± 0.034\n",
      "Calinski-Harabasz Index: 1073.539 ± 91.649\n"
     ]
    }
   ],
   "source": [
    "from sklearn.cluster import MiniBatchKMeans\n",
    "\n",
    "minibatch_kmeans = MiniBatchKMeans(\n",
    "    n_clusters=optimal_n_clusters,\n",
    "    n_init=1,\n",
    "    init_size=1000,\n",
    "    batch_size=1000,\n",
    ")\n",
    "\n",
    "fit_and_evaluate(\n",
    "    minibatch_kmeans,\n",
    "    X_lsa,\n",
    "    name=\"MiniBatchKMeans\\nwith LSA on tf-idf vectors\",\n",
    ")"
   ]
  },
  {
   "cell_type": "code",
   "execution_count": 50,
   "metadata": {},
   "outputs": [
    {
     "name": "stdout",
     "output_type": "stream",
     "text": [
      "Cluster 0: proyectores los algunos salones funcionan que aulas las cables problemas \n",
      "Cluster 1: que para más hay con una por los mas estudiantes \n",
      "Cluster 2: wifi mejorar más bien todo nada estacionamientos ninguna mas cafeteria \n",
      "Cluster 3: los estudiantes baños para estacionamientos que mejorar salones con más \n",
      "Cluster 4: las cafeterías que aulas para mejorar los clases más computadoras \n",
      "Cluster 5: precios cafetería los cafeteria altos comida muy alimentos variedad bajar \n",
      "Cluster 6: internet mejorar del lento mejor calidad velocidad muy señal mejora \n",
      "Cluster 7: servicio fotocopiado mejorar internet fotocopias que buen fotocopia mejor wifi \n",
      "Cluster 8: cafetería variedad comida más menú alimentos mejorar los precio que \n",
      "Cluster 9: laboratorios los equipos para mejorar computadoras que más las informática \n",
      "Cluster 10: instalaciones las mejorar seguridad del dentro los calidad que universidad \n",
      "Cluster 11: matrícula sistema plataforma virtual proceso mejorar página que pago por \n",
      "Cluster 12: estacionamiento más hay los para espacio mejorar mas falta espacios \n"
     ]
    }
   ],
   "source": [
    "original_space_centroids = lsa[0].inverse_transform(kmeans.cluster_centers_)\n",
    "order_centroids = original_space_centroids.argsort()[:, ::-1]\n",
    "terms = vectorizer.get_feature_names_out()\n",
    "\n",
    "for i in range(optimal_n_clusters):\n",
    "    print(f\"Cluster {i}: \", end=\"\")\n",
    "    for ind in order_centroids[i, :10]:\n",
    "        print(f\"{terms[ind]} \", end=\"\")\n",
    "    print()"
   ]
  },
  {
   "cell_type": "code",
   "execution_count": 62,
   "metadata": {},
   "outputs": [
    {
     "name": "stdout",
     "output_type": "stream",
     "text": [
      "vectorization done in 6.433 s\n"
     ]
    }
   ],
   "source": [
    "from sklearn.feature_extraction.text import HashingVectorizer\n",
    "from sklearn.feature_extraction.text import TfidfTransformer\n",
    "\n",
    "lsa_vectorizer = make_pipeline(\n",
    "    HashingVectorizer(stop_words=None, n_features=50_000),\n",
    "    TfidfTransformer(),\n",
    "    TruncatedSVD(n_components=100, random_state=0),\n",
    "    Normalizer(copy=False),\n",
    ")\n",
    "\n",
    "t0 = time()\n",
    "X_hashed_lsa = lsa_vectorizer.fit_transform(data['TEXTO_STRING'])\n",
    "print(f\"vectorization done in {time() - t0:.3f} s\")"
   ]
  },
  {
   "cell_type": "code",
   "execution_count": 63,
   "metadata": {},
   "outputs": [
    {
     "name": "stdout",
     "output_type": "stream",
     "text": [
      "clustering done in 0.30 ± 0.09 s \n",
      "Silhouette Coefficient: 0.123 ± 0.005\n",
      "Davies-Bouldin Index: 2.444 ± 0.162\n",
      "Calinski-Harabasz Index: 1018.692 ± 50.633\n"
     ]
    }
   ],
   "source": [
    "fit_and_evaluate(kmeans, X_hashed_lsa, name=\"KMeans\\nwith LSA on hashed vectors\")"
   ]
  },
  {
   "cell_type": "code",
   "execution_count": 64,
   "metadata": {},
   "outputs": [
    {
     "name": "stdout",
     "output_type": "stream",
     "text": [
      "clustering done in 0.17 ± 0.07 s \n",
      "Silhouette Coefficient: 0.133 ± 0.004\n",
      "Davies-Bouldin Index: 2.442 ± 0.078\n",
      "Calinski-Harabasz Index: 1074.321 ± 37.137\n"
     ]
    }
   ],
   "source": [
    "fit_and_evaluate(\n",
    "    minibatch_kmeans,\n",
    "    X_hashed_lsa,\n",
    "    name=\"MiniBatchKMeans\\nwith LSA on hashed vectors\",\n",
    ")"
   ]
  },
  {
   "cell_type": "code",
   "execution_count": 65,
   "metadata": {},
   "outputs": [
    {
     "data": {
      "image/png": "[encoded data removed]",
      "text/plain": [
       "<Figure size 1600x600 with 2 Axes>"
      ]
     },
     "metadata": {},
     "output_type": "display_data"
    }
   ],
   "source": [
    "import pandas as pd\n",
    "import matplotlib.pyplot as plt\n",
    "\n",
    "fig, (ax0, ax1) = plt.subplots(ncols=2, figsize=(16, 6), sharey=True)\n",
    "\n",
    "df = pd.DataFrame(evaluations[::-1]).set_index(\"estimator\")\n",
    "df_std = pd.DataFrame(evaluations_std[::-1]).set_index(\"estimator\")\n",
    "\n",
    "df.drop(\n",
    "    [\"train_time\"],\n",
    "    axis=\"columns\",\n",
    ").plot.barh(ax=ax0, xerr=df_std)\n",
    "ax0.set_xlabel(\"Clustering scores\")\n",
    "ax0.set_ylabel(\"\")\n",
    "\n",
    "df[\"train_time\"].plot.barh(ax=ax1, xerr=df_std[\"train_time\"])\n",
    "ax1.set_xlabel(\"Clustering time (s)\")\n",
    "plt.tight_layout()"
   ]
  },
  {
   "cell_type": "markdown",
   "metadata": {},
   "source": [
    "Cambiar a que muestra los temas de kmean con LSA on hashed vectors"
   ]
  },
  {
   "cell_type": "code",
   "execution_count": 66,
   "metadata": {},
   "outputs": [
    {
     "name": "stdout",
     "output_type": "stream",
     "text": [
      "Cluster 0: falta aires los proyectores acondicionados mejoras internet excelente muy por \n",
      "Cluster 1: internet todo para que servicio los laboratorio salones estudio instalaciones \n",
      "Cluster 2: internet cafeteria mejor todo mas falta bien para fotocopiadora lento \n",
      "Cluster 3: los internet bien para hay estudiantes que universidad ninguno biblioteca \n",
      "Cluster 4: salones que internet los aire bien baños lento estudio clases \n",
      "Cluster 5: biblioteca servicio muy mejora cafeteria comida menú fotocopiado virtual lento \n",
      "Cluster 6: wifi mejorar internet los cafetería estacionamientos del para más que \n",
      "Cluster 7: ninguna tengo observación internet queja otra tener todo momento mas \n",
      "Cluster 8: bien todo nada cafetería estacionamientos internet los más que mas \n",
      "Cluster 9: mejor tengo las internet más comida calidad wifi del instalaciones \n",
      "Cluster 10: laboratorios internet satisfecho los más equipos todo estoy las seguridad \n",
      "Cluster 11: satisfecho hay los internet muy estoy mas que todo seguridad \n",
      "Cluster 12: las del hay comida instalaciones internet mejora calidad bien laboratorios \n"
     ]
    }
   ],
   "source": [
    "original_space_centroids = lsa[0].inverse_transform(kmeans.cluster_centers_)\n",
    "order_centroids = original_space_centroids.argsort()[:, ::-1]\n",
    "terms = vectorizer.get_feature_names_out()\n",
    "\n",
    "for i in range(optimal_n_clusters):\n",
    "    print(f\"Cluster {i}: \", end=\"\")\n",
    "    for ind in order_centroids[i, :10]:\n",
    "        print(f\"{terms[ind]} \", end=\"\")\n",
    "    print()"
   ]
  }
 ],
 "metadata": {
  "kernelspec": {
   "display_name": "Samsung_Campus",
   "language": "python",
   "name": "python3"
  },
  "language_info": {
   "codemirror_mode": {
    "name": "ipython",
    "version": 3
   },
   "file_extension": ".py",
   "mimetype": "text/x-python",
   "name": "python",
   "nbconvert_exporter": "python",
   "pygments_lexer": "ipython3",
   "version": "3.8.18"
  }
 },
 "nbformat": 4,
 "nbformat_minor": 2
}
