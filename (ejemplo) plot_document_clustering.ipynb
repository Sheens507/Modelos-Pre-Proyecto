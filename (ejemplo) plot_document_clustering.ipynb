{
  "cells": [
    {
      "cell_type": "code",
      "execution_count": 2,
      "metadata": {
        "collapsed": false
      },
      "outputs": [],
      "source": [
        "%matplotlib inline"
      ]
    },
    {
      "cell_type": "markdown",
      "metadata": {},
      "source": [
        "\n",
        "# Clustering text documents using k-means\n",
        "\n",
        "This is an example showing how the scikit-learn API can be used to cluster\n",
        "documents by topics using a [Bag of Words approach](https://en.wikipedia.org/wiki/Bag-of-words_model).\n",
        "\n",
        "Two algorithms are demoed: :class:`~sklearn.cluster.KMeans` and its more\n",
        "scalable variant, :class:`~sklearn.cluster.MiniBatchKMeans`. Additionally,\n",
        "latent semantic analysis is used to reduce dimensionality and discover latent\n",
        "patterns in the data.\n",
        "\n",
        "This example uses two different text vectorizers: a\n",
        ":class:`~sklearn.feature_extraction.text.TfidfVectorizer` and a\n",
        ":class:`~sklearn.feature_extraction.text.HashingVectorizer`. See the example\n",
        "notebook `sphx_glr_auto_examples_text_plot_hashing_vs_dict_vectorizer.py`\n",
        "for more information on vectorizers and a comparison of their processing times.\n",
        "\n",
        "For document analysis via a supervised learning approach, see the example script\n",
        "`sphx_glr_auto_examples_text_plot_document_classification_20newsgroups.py`.\n"
      ]
    },
    {
      "cell_type": "code",
      "execution_count": 3,
      "metadata": {
        "collapsed": false
      },
      "outputs": [],
      "source": [
        "# Author: Peter Prettenhofer <peter.prettenhofer@gmail.com>\n",
        "#         Lars Buitinck\n",
        "#         Olivier Grisel <olivier.grisel@ensta.org>\n",
        "#         Arturo Amor <david-arturo.amor-quiroz@inria.fr>\n",
        "# License: BSD 3 clause"
      ]
    },
    {
      "cell_type": "markdown",
      "metadata": {},
      "source": [
        "## Loading text data\n",
        "\n",
        "We load data from `20newsgroups_dataset`, which comprises around 18,000\n",
        "newsgroups posts on 20 topics. For illustrative purposes and to reduce the\n",
        "computational cost, we select a subset of 4 topics only accounting for around\n",
        "3,400 documents. See the example\n",
        "`sphx_glr_auto_examples_text_plot_document_classification_20newsgroups.py`\n",
        "to gain intuition on the overlap of such topics.\n",
        "\n",
        "Notice that, by default, the text samples contain some message metadata such\n",
        "as `\"headers\"`, `\"footers\"` (signatures) and `\"quotes\"` to other posts. We use\n",
        "the `remove` parameter from :func:`~sklearn.datasets.fetch_20newsgroups` to\n",
        "strip those features and have a more sensible clustering problem.\n",
        "\n"
      ]
    },
    {
      "cell_type": "code",
      "execution_count": 10,
      "metadata": {
        "collapsed": false
      },
      "outputs": [
        {
          "name": "stdout",
          "output_type": "stream",
          "text": [
            "3387 documents - 4 categories\n"
          ]
        }
      ],
      "source": [
        "import numpy as np\n",
        "from sklearn.datasets import fetch_20newsgroups\n",
        "\n",
        "categories = [\n",
        "    \"alt.atheism\",\n",
        "    \"talk.religion.misc\",\n",
        "    \"comp.graphics\",\n",
        "    \"sci.space\",\n",
        "]\n",
        "\n",
        "dataset = fetch_20newsgroups(\n",
        "    remove=(\"headers\", \"footers\", \"quotes\"),\n",
        "    subset=\"all\",\n",
        "    categories=categories,\n",
        "    shuffle=True,\n",
        "    random_state=42,\n",
        ")\n",
        "\n",
        "labels = dataset.target\n",
        "unique_labels, category_sizes = np.unique(labels, return_counts=True)\n",
        "true_k = unique_labels.shape[0]\n",
        "\n",
        "print(f\"{len(dataset.data)} documents - {true_k} categories\")"
      ]
    },
    {
      "cell_type": "code",
      "execution_count": 11,
      "metadata": {},
      "outputs": [
        {
          "data": {
            "text/html": [
              "<table border=\"1\" class=\"dataframe\">\n",
              "  <thead>\n",
              "    <tr style=\"text-align: right;\">\n",
              "      <th></th>\n",
              "      <th>0</th>\n",
              "    </tr>\n",
              "  </thead>\n",
              "  <tbody>\n",
              "    <tr>\n",
              "      <th>2250</th>\n",
              "      <td>\\n  Damn right you can't provide any evidence for it.  \\n\\n  Rarely are any widespread social phenomenon reducible to such a\\n  simple premise.  If they were, psychology would be a hard science\\n  with roughly the same mathematical soundness as physics.  \\n\\n  Your premise may well be right.  It is much more likely, however,\\n  that it reflects your socialization and religious background, as\\n  well as your need to validate your religious beliefs.  Were I to\\n  pretend to have all the answers (and I don't), I would say that the\\n  xenophobia, guilt, and intolerance brought about by adherence to \\n  fundamentalist religions play just as large a role in depressing\\n  the members of our society.\\n\\n  Your mileage obviously varies.\\n\\n/\\/\\/\\/\\/\\/\\/\\/\\/\\/\\/\\/\\/\\/\\/\\/\\/\\/\\/\\/\\/\\/\\/\\/\\/\\/\\/\\/\\/\\/\\/\\/\\/\\/\\ \\n\\nBob Beauchaine bobbe@vice.ICO.TEK.COM \\n\\nThey said that Queens could stay, they blew the Bronx away,\\nand sank Manhattan out at sea.</td>\n",
              "    </tr>\n",
              "    <tr>\n",
              "      <th>1970</th>\n",
              "      <td>\\nGregg, so would you consider that Rushdie would now be left alone,\\nand he could have a normal life? In other words, does Islam support\\nthe notion of forgiving?\\n\\nCheers,\\nKent</td>\n",
              "    </tr>\n",
              "    <tr>\n",
              "      <th>2681</th>\n",
              "      <td>#&gt;So instead of calling it interest on deposits, you call it *returns on investements*\\n#&gt;and instead of calling loans you call it *investing in business* (that is in other words\\n#&gt;floating stocks in your company). \\n#\\n#No, interest is different from a return on an investment.  For one\\n#thing, a return on an investment has greater risk, and not a set return\\n#(i.e. the amount of money you make can go up or down, or you might even\\n#lose money).  The difference is, the risk of loss is shared by the\\n#investor, rather than practically all the risk being taken by the\\n#borrower when the borrower borrows from the bank.\\n#\\n\\nBut is it different from stocks ?  If you wish to call an investor in stocks as\\na banker, well then its your choice .....\\n\\n#&gt;Relabeling does not make it interest free !!\\n#\\n#It is not just relabeling, as I have explained above.\\n\\nIt  *is* relabeling ...\\nAlso its still not interest free. The investor is still taking some money ... as\\ndividend on his investment ... ofcourse the investor (in islamic *banking*, its your\\nso called *bank*)  is taking more risk than the usual bank, but its still getting some\\nthing back in return .... \\n\\nAlso have you heard of junk bonds ???\\n\\n\\n---Vinayak\\n-------------------------------------------------------\\n                                           vinayak dutt\\n                                   e-mail: vdp@mayo.edu\\n\\n             standard disclaimers apply</td>\n",
              "    </tr>\n",
              "    <tr>\n",
              "      <th>540</th>\n",
              "      <td>The other week I saw a TV program about the american space industry and NASA.\\nIt said that in the 60's they developed a rocket that used ions or nuclear\\nparticles for propolsion.\\nThe government however, didn't give them $1billion for the developement\\nof a full scale rocket.\\nDid anybody see this program?\\nIf not, has anybody heard of the particle propolsion system?\\n\\nThanx. 8-)</td>\n",
              "    </tr>\n",
              "    <tr>\n",
              "      <th>1372</th>\n",
              "      <td>\\n\\nperhaps you can quote just a bit of her argument?</td>\n",
              "    </tr>\n",
              "    <tr>\n",
              "      <th>2095</th>\n",
              "      <td></td>\n",
              "    </tr>\n",
              "    <tr>\n",
              "      <th>386</th>\n",
              "      <td></td>\n",
              "    </tr>\n",
              "    <tr>\n",
              "      <th>448</th>\n",
              "      <td>\\n\\nThey exist.  Even photosynthetic varieties.  Not economical at this\\ntime, though.</td>\n",
              "    </tr>\n",
              "    <tr>\n",
              "      <th>243</th>\n",
              "      <td>[reply to zazen@austin.ibm.com (E. H. Welbon)]\\n \\n \\n \\n \\nFor many atheists, the lack of belief in gods is secondary to an\\nepistemological consideration:  what do we accept as a reliable way of\\nknowing?  There are no known valid logical arguments for the existence\\nof gods, nor is there any empirical evidence that they exist.  Most\\nphilosophers and theologians agree that the idea of a god is one that\\nmust be accepted on faith.  Faith is belief without a sound logical\\nbasis or empirical evidence.  It is a reliable way of knowing?\\n \\nThere is probably nothing else most people would accept in the absence\\nof any possibility of proof.  Even when we agree to take someone elses\\nword \"on faith\", we just mean that having found this person to be\\nreliable in the past, we judge him likely to be a reliable source now.\\nIf we find faith less reliable than logic and empirical evidence\\neverywhere else, why assume it will provide reliable knowledge about\\ngods?\\n \\nThe difference between the atheist and the theist is fundamentally then\\none of whether or not faith is held to be a reliable way of knowing,\\nrather than, as some agnostic posters would have it, whether ones faith\\nis in gods or no gods.  The theist believes that faith is an acceptable\\nbasis for a belief in gods, even if he rejects faith as reliable at\\nother times, for example in his work as a scientist.  The atheist\\nbelieves that only logic and empirical evidence lead to reliable\\nknowledge.  Agnosticism seems to me a less defensible position than\\ntheism or atheism, unless one is a sceptic in regards to all other\\nknowledge.  Without evidence, why should we believe in gods rather than\\nSanta Claus or the Easter Bunny?\\n \\nI would also like to point out as others have that the atheist doesn't\\nrequire absolute knowledge of the lack of gods.  I don't believe that\\nthere is any such thing as absolute knowledge.  Atheism is the best and\\nsimplest theory to fit the (lack of) facts and so should be held until\\ncontrary evidence is found.</td>\n",
              "    </tr>\n",
              "    <tr>\n",
              "      <th>1750</th>\n",
              "      <td>Archive-name: space/astronaut\\nLast-modified: $Date: 93/04/01 14:39:02 $\\n\\nHOW TO BECOME AN ASTRONAUT\\n\\n    First the short form, authored by Henry Spencer, then an official NASA\\n    announcement.\\n\\n    Q. How do I become an astronaut?\\n\\n    A. We will assume you mean a NASA astronaut, since it's probably\\n    impossible for a non-Russian to get into the cosmonaut corps (paying\\n    passengers are not professional cosmonauts), and the other nations have\\n    so few astronauts (and fly even fewer) that you're better off hoping to\\n    win a lottery. Becoming a shuttle pilot requires lots of fast-jet\\n    experience, which means a military flying career; forget that unless you\\n    want to do it anyway. So you want to become a shuttle \"mission\\n    specialist\".\\n\\n    If you aren't a US citizen, become one; that is a must.  After that,\\n    the crucial thing to remember is that the demand for such jobs vastly\\n    exceeds the supply.  NASA's problem is not finding qualified people,\\n    but thinning the lineup down to manageable length.\\tIt is not enough\\n    to be qualified; you must avoid being *dis*qualified for any reason,\\n    many of them in principle quite irrelevant to the job.\\n\\n    Get a Ph.D.  Specialize in something that involves getting your hands\\n    dirty with equipment, not just paper and pencil.  Forget computer\\n    programming entirely; it will be done from the ground for the fore-\\n    seeable future.  Degree(s) in one field plus work experience in\\n    another seems to be a frequent winner.\\n\\n    Be in good physical condition, with good eyesight.\\t(DO NOT get a\\n    radial keratomy or similar hack to improve your vision; nobody knows\\n    what sudden pressure changes would do to RKed eyes, and long-term\\n    effects are poorly understood.  For that matter, avoid any other\\n    significant medical unknowns.)  If you can pass a jet-pilot physical,\\n    you should be okay; if you can't, your chances are poor.\\n\\n    Practise public speaking, and be conservative and conformist in\\n    appearance and actions; you've got a tough selling job ahead, trying\\n    to convince a cautious, conservative selection committee that you\\n    are better than hundreds of other applicants.  (And, also, that you\\n    will be a credit to NASA after you are hired:  public relations is\\n    a significant part of the job, and NASA's image is very prim and\\n    proper.)  The image you want is squeaky-clean workaholic yuppie.\\n    Remember also that you will need a security clearance at some point,\\n    and Security considers everybody guilty until proven innocent.\\n    Keep your nose clean.\\n\\n    Get a pilot's license and make flying your number one hobby;\\n    experienced pilots are known to be favored even for non-pilot jobs.\\n\\n    Work for NASA; of 45 astronauts selected between 1984 and 1988,\\n    43 were military or NASA employees, and the remaining two were\\n    a NASA consultant and Mae Jemison (the first black female astronaut).\\n    If you apply from outside NASA and miss, but they offer you a job\\n    at NASA, ***TAKE IT***; sometimes in the past this has meant \"you\\n    do look interesting but we want to know you a bit better first\".\\n\\n    Think space:  they want highly motivated people, so lose no chance\\n    to demonstrate motivation.\\n\\n    Keep trying.  Many astronauts didn't make it the first time.\\n\\n\\n\\n\\n    NASA\\n    National Aeronautics and Space Administration\\n    Lyndon B. Johnson Space Center\\n    Houston, Texas\\n\\n    Announcement for Mission Specialist and Pilot Astronaut Candidates\\n    ==================================================================\\n\\n    Astronaut Candidate Program\\n    ---------------------------\\n\\n    The National Aeronautics and Space Administration (NASA) has a need for\\n    Pilot Astronaut Candidates and Mission Specialist Astronaut Candidates\\n    to support the Space Shuttle Program. NASA is now accepting on a\\n    continuous basis and plans to select astronaut candidates as needed.\\n\\n    Persons from both the civilian sector and the military services will be\\n    considered.\\n\\n    All positions are located at the Lyndon B. Johnson Space Center in\\n    Houston, Texas, and will involved a 1-year training and evaluation\\n    program.\\n\\n    Space Shuttle Program Description\\n    ---------------------------------\\n\\n    The numerous successful flights of the Space Shuttle have demonstrated\\n    that operation and experimental investigations in space are becoming\\n    routine. The Space Shuttle Orbiter is launched into, and maneuvers in\\n    the Earth orbit performing missions lastling up to 30 days. It then\\n    returns to earth and is ready for another flight with payloads and\\n    flight crew.\\n\\n    The Orbiter performs a variety of orbital missions including deployment\\n    and retrieval of satellites, service of existing satellites, operation\\n    of specialized laboratories (astronomy, earth sciences, materials\\n    processing, manufacturing), and other operations. These missions will\\n    eventually include the development and servicing of a permanent space\\n    station. The Orbiter also provides a staging capability for using higher\\n    orbits than can be achieved by the Orbiter itself. Users of the Space\\n    Shuttle's capabilities are both domestic and foreign and include\\n    government agencies and private industries.\\n\\n    The crew normally consists of five people - the commander, the pilot,\\n    and three mission specialists. On occasion additional crew members are\\n    assigned. The commander, pilot, and mission specialists are NASA\\n    astronauts.\\n\\n    Pilot Astronaut\\n\\n    Pilot astronauts server as both Space Shuttle commanders and pilots.\\n    During flight the commander has onboard responsibility for the vehicle,\\n    crew, mission success and safety in flight. The pilot assists the\\n    commander in controlling and operating the vehicle. In addition, the\\n    pilot may assist in the deployment and retrieval of satellites utilizing\\n    the remote manipulator system, in extra-vehicular activities, and other\\n    payload operations.\\n\\n    Mission Specialist Astronaut\\n\\n    Mission specialist astronauts, working with the commander and pilot,\\n    have overall responsibility for the coordination of Shuttle operations\\n    in the areas of crew activity planning, consumables usage, and\\n    experiment and payload operations. Mission specialists are required to\\n    have a detailed knowledge of Shuttle systems, as well as detailed\\n    knowledge of the operational characteristics, mission requirements and\\n    objectives, and supporting systems and equipment for each of the\\n    experiments to be conducted on their assigned missions. Mission\\n    specialists will perform extra-vehicular activities, payload handling\\n    using the remote manipulator system, and perform or assist in specific\\n    experimental operations.\\n\\n    Astronaut Candidate Program\\n    ===========================\\n\\n    Basic Qualification Requirements\\n    --------------------------------\\n\\n    Applicants MUST meet the following minimum requirements prior to\\n    submitting an application.\\n\\n    Mission Specialist Astronaut Candidate:\\n\\n    1. Bachelor's degree from an accredited institution in engineering,\\n    biological science, physical science or mathematics. Degree must be\\n    followed by at least three years of related progressively responsible,\\n    professional experience. An advanced degree is desirable and may be\\n    substituted for part or all of the experience requirement (master's\\n    degree = 1 year, doctoral degree = 3 years). Quality of academic\\n    preparation is important.\\n\\n    2. Ability to pass a NASA class II space physical, which is similar to a\\n    civilian or military class II flight physical and includes the following\\n    specific standards:\\n\\n\\t Distant visual acuity:\\n\\t      20/150 or better uncorrected,\\n\\t      correctable to 20/20, each eye.\\n\\n\\t Blood pressure:\\n\\t      140/90 measured in sitting position.\\n\\n    3. Height between 58.5 and 76 inches.\\n\\n    Pilot Astronaut Candidate:\\n\\n    1. Bachelor's degree from an accredited institution in engineering,\\n    biological science, physical science or mathematics. Degree must be\\n    followed by at least three years of related progressively responsible,\\n    professional experience. An advanced degree is desirable. Quality of\\n    academic preparation is important.\\n\\n    2. At least 1000 hours pilot-in-command time in jet aircraft. Flight\\n    test experience highly desirable.\\n\\n    3. Ability to pass a NASA Class I space physical which is similar to a\\n    military or civilian Class I flight physical and includes the following\\n    specific standards:\\n\\n\\t Distant visual acuity:\\n\\t      20/50 or better uncorrected\\n\\t      correctable to 20/20, each eye.\\n\\n\\t Blood pressure:\\n\\t      140/90 measured in sitting position.\\n\\n    4. Height between 64 and 76 inches.\\n\\n    Citizenship Requirements\\n\\n    Applications for the Astronaut Candidate Program must be citizens of\\n    the United States.\\n\\n    Note on Academic Requirements\\n\\n    Applicants for the Astronaut Candidate Program must meet the basic\\n    education requirements for NASA engineering and scientific positions --\\n    specifically: successful completion of standard professional curriculum\\n    in an accredited college or university leading to at least a bachelor's\\n    degree with major study in an appropriate field of engineering,\\n    biological science, physical science, or mathematics.\\n\\n      The following degree fields, while related to engineering and the\\n    sciences, are not considered qualifying:\\n      - Degrees in technology (Engineering Technology, Aviation Technology,\\n\\tMedical Technology, etc.)\\n      - Degrees in Psychology (except for Clinical Psychology, Physiological\\n\\tPsychology, or Experimental Psychology which are qualifying).\\n      - Degrees in Nursing.\\n      - Degrees in social sciences (Geography, Anthropology, Archaeology, etc.)\\n      - Degrees in Aviation, Aviation Management or similar fields.\\n\\n    Application Procedures\\n    ----------------------\\n\\n    Civilian\\n\\n    The application package may be obtained by writing to:\\n\\n\\tNASA Johnson Space Center\\n\\tAstronaut Selection Office\\n\\tATTN: AHX\\n\\tHouston, TX 77058\\n\\n    Civilian applications will be accepted on a continuous basis. When NASA\\n    decides to select additional astronaut candidates, consideration will be\\n    given only to those applications on hand on the date of decision is\\n    made. Applications received after that date will be retained and\\n    considered for the next selection. Applicants will be notified annually\\n    of the opportunity to update their applications and to indicate\\n    continued interest in being considered for the program. Those applicants\\n    who do not update their applications annually will be dropped from\\n    consideration, and their applications will not be retained. After the\\n    preliminary screening of applications, additional information may be\\n    requested for some applicants, and person listed on the application as\\n    supervisors and references may be contacted.\\n\\n    Active Duty Military\\n\\n    Active duty military personnel must submit applications to their\\n    respective military service and not directly to NASA. Application\\n    procedures will be disseminated by each service.\\n\\n    Selection\\n    ---------\\n\\n    Personal interviews and thorough medical evaluations will be required\\n    for both civilian and military applicants under final consideration.\\n    Once final selections have been made, all applicants who were considered\\n    will be notified of the outcome of the process.\\n\\n    Selection rosters established through this process may be used for the\\n    selection of additional candidates during a one year period following\\n    their establishment.\\n\\n    General Program Requirements\\n\\n    Selected applicants will be designated Astronaut Candidates and will be\\n    assigned to the Astronaut Office at the Johnson Space Center, Houston,\\n    Texas. The astronaut candidates will undergo a 1 year training and\\n    evaluation period during which time they will be assigned technical or\\n    scientific responsibilities allowing them to contribute substantially to\\n    ongoing programs. They will also participate in the basic astronaut\\n    training program which is designed to develop the knowledge and skills\\n    required for formal mission training upon selection for a flight. Pilot\\n    astronaut candidates will maintain proficiency in NASA aircraft during\\n    their candidate period.\\n\\n    Applicants should be aware that selection as an astronaut candidate does\\n    not insure selection as an astronaut. Final selection as an astronaut\\n    will depend on satisfactory completion of the 1 year training and\\n    evaluation period. Civilian candidates who successfully complete the\\n    training and evaluation and are selected as astronauts will become\\n    permanent Federal employees and will be expected to remain with NASA for\\n    a period of at least five years. Civilian candidates who are not\\n    selected as astronauts may be placed in other positions within NASA\\n    depending upon Agency requirements and manpower constraints at that\\n    time. Successful military candidates will be detailed to NASA for a\\n    specified tour of duty.\\n\\n    NASA has an affirmative action program goal of having qualified\\n    minorities and women among those qualified as astronaut candidates.\\n    Therefore, qualified minorities and women are encouraged to apply.\\n\\n    Pay and Benefits\\n    ----------------\\n\\n    Civilians\\n\\n    Salaries for civilian astronaut candidates are based on the Federal\\n    Governments General Schedule pay scales for grades GS-11 through GS-14,\\n    and are set in accordance with each individuals academic achievements\\n    and experience.\\n\\n    Other benefits include vacation and sick leave, a retirement plan, and\\n    participation in group health and life insurance plans.\\n\\n    Military\\n\\n    Selected military personnel will be detailed to the Johnson Space Center\\n    but will remain in an active duty status for pay, benefits, leave, and\\n    other similar military matters.\\n</td>\n",
              "    </tr>\n",
              "    <tr>\n",
              "      <th>290</th>\n",
              "      <td>\\n\\nI think you would lose your money. Julius was actually rather tall\\nfor a Roman. He did go on record as favouring small soldiers though.\\nThought they were tougher and had more guts. He was probably right\\nif you think about it. As for Napoleon remember that the French\\navergae was just about 5 feet and that height is relative! Did he\\nreally have a complex?\\n\\nObSpace :  We have all seen the burning candle from High School that goes\\nout and relights. If there is a large hot body placed in space but in an\\natmosphere, exactly how does it heat the surroundings? Diffusion only?\\n\\nJoseph Askew\\n</td>\n",
              "    </tr>\n",
              "    <tr>\n",
              "      <th>1722</th>\n",
              "      <td>\\nI too am a Jules Verne collector, and can tell you that though tough \\nto find, it *is* out there.  I keep my eyes open all the time for his\\nbooks at various Bay Area used book stores, and every once in a while\\nget *very* lucky.  You just need diligence.  I don't know if the book\\nstore situation near JSC is as good as the Bay Area, but good luck.\\nI have also had excellent luck at the Antiquarian Book Fair which comes\\nto SF every other year, though the prices are more in the $100-$200 range\\nthan the $50 you want to spend.  My guess is that *if* you find it,\\nyou won't need to spend even that much, since most people don't care \\nabout it.  I think I paid about $15 for my dust-jacket-less but otherwise\\ngood condition copy, which I found one day at a small bookshop that happened\\nto have just bought a lot of random books at an estate sale.  \\n\\nOf course, if you re willing to buy blind, you can put a $2 advertisement\\nin the Antiquarian Bookseller's newsletter (the exact title of which escapes\\nme at the moment.)  _Five Weeks in a Balloon_ is not the rarest of Jules\\nVerne books.  Someone has it for sale somewhere, and the AB is the way to \\nfind it.  In fact, I would be surprised if you didn't get multiple offers\\nof sale.  Of course, that takes the fun out of hunting for it yourself...\\n\\nGood luck.</td>\n",
              "    </tr>\n",
              "    <tr>\n",
              "      <th>3382</th>\n",
              "      <td>I am working on a program to display 3d wireframe models with the user\\nbeing able to arbitrarily change any of the viewing parameters.  Also,\\nthe wireframe objects are also going to have dynamic attributes so\\nthat they can move around while the user is \"exploring\" the wireframe\\nworld.\\n\\nTo do this, I am thinking of using the SRGP package described in the\\nVan Dam, Foley and Feiner book, but I was wondering if there was\\nanother PD graphics package out there which was faster.  I would like\\nto make the program as fast as possible so that it provides\\nsatisfactory real time performance on a Sun IPX.\\n\\nIdeally, I'm looking for a PD graphics package which will allow me to\\nopen a new window under X, and allow me to draw lines within the\\nwindow.  Also, it would also need to have some sort of event driven\\ninteraction handling since the user is going to move around the\\nwireframe models using the keyboard.\\n\\nIf you know or wrote such a package, I would be grateful if you could\\ndirect me to a ftp site which contains the package.\\n\\nThank you.\\n</td>\n",
              "    </tr>\n",
              "    <tr>\n",
              "      <th>235</th>\n",
              "      <td>\\nThink for a moment about the technology required to do that.  By \\nthe time they could make the Earth's sky look like Las Vegas, \\nthe people could afford to go backpacking on the Moon. Round\\ntrip costs for 500 kg to the Moon would be about the same as\\n5000 kg in a Low Earth \"advertising\" orbit: Very roughly the\\nsame cost as a smallish billboard, therefore. If such ads were\\nto become common place, that would have to be a very low price...\\n\\nThe night sky on a Lunar backpacking trip would still be very \\npristine... \\n\\nThere's always been a problem of having to get \\naway from civilization before you can really find \"natural\"\\nscenery. 100 years ago, this usually didn't take a trip\\nof over 5 miles. Today, most people would have to go 100 miles\\nor more. If we ever get to the point where we have billboards\\non orbit, that essentially means that no place on Earth is still\\n\"wild.\" While that may or may not be a good thing, the orbital\\nbillboards aren't the problem: They are just a symptom of \\ngrowing, densely-populated civilization. Banning such ads will\\nnot save your view of the night sky, because by the time \\nsuch ads could become widespread you will probably have trouble\\nfinding a place without street lights, where you can _see_\\nthe stars...\\n\\n \\nAn ad on a moon of Jupiter would be rather pointless, since you need\\na telescope to see them. However, I'd love to see them get all\\nthe publicity they could from underwritting the \"Coca Cola Io\\nOrbital Mapping Probe.\"  \\n\\n\\nThey already can, to some extent: The IAU allows names derived from\\nsponsors or patrons of scientific research. If Microscum donates\\nmoney to a university astronomy program, one of the galactic \\nastronomers could easily get a newly discovered galaxy named after\\nthem.</td>\n",
              "    </tr>\n",
              "    <tr>\n",
              "      <th>990</th>\n",
              "      <td>: \\n: &gt;I've got the 6.0 spec (obviously since I quoted it in my last posting). \\n: &gt;My gripe about TIFF is that it's far too complicated and nearly\\n: &gt;infinitely easier to write than to read,...\\n: \\n: Why not use the PD C library for reading/writing TIFF files? It took me a\\n: good 20 minutes to start using them in your own app.\\n: \\n: Martin\\n: \\nWhat is the name of this PD C library for TIFF.  I'd like to get a copy of it,\\nbut I can't Archie for something I don't have the filename for.</td>\n",
              "    </tr>\n",
              "    <tr>\n",
              "      <th>3047</th>\n",
              "      <td>\\nDoes anyone know how to access and/or display multiple pages in mode 13h\\nwhile still maintaining the 1 byte per pixel memory organization?\\nExamples in C or Assembly would be appreciated...\\nThanks\\nScott\\n\\n</td>\n",
              "    </tr>\n",
              "    <tr>\n",
              "      <th>2283</th>\n",
              "      <td>Deletions...\\n\\nCorrection.  I think it was 1978.  Also, contrary to earlier belief, it\\nis now widely accepted that not all committed suicide, but were actually\\nkilled.  In the end, they did die for a lie, but some not out of\\nconviction alone.  Thought I try to make this point clear.\\n--</td>\n",
              "    </tr>\n",
              "    <tr>\n",
              "      <th>411</th>\n",
              "      <td>\\n\\nI think that domestication will change behavior to a large degree.\\nDomesticated animals exhibit behaviors not found in the wild.  I\\ndon't think that they can be viewed as good representatives of the\\nwild animal kingdom, since they have been bred for thousands of years\\nto produce certain behaviors, etc.</td>\n",
              "    </tr>\n",
              "    <tr>\n",
              "      <th>3088</th>\n",
              "      <td>\\nWow! You got me thinking now!\\n\\nThis is an interesting question in that recently there has been a \\nmove in society to classify previously \"socially unacceptable\" yet legal \\nactivities as OK.  In the past it seems to me there were always two \\ncoexisting methods of social control.\\n\\nFirst (and most explicit) is legal control.  That is the set of \\nactions we define as currently illegal and having a specifically defined set \\nof punishments.\\n\\nSecondly (and somewhat more hidden) is social control.  These are \\nthe actions which are considered socially unacceptable and while not covered \\nby legal control, are scrictly controled by social censure. Ideally (if \\nsocialization is working as it should) legal control is hardly ever needed \\nsince most people voluntarilly control their actions due to the pressure of \\nsocial censure.\\n\\nThe control manifests itself in day-to-day life as \"guilt\" and \\n\"morality\".  I've heard it said (and fully believe) that if it weren't for \\nthe VAST majority of people policing themselves, legal control would be \\nabsolutely impossible.\\n\\nLately (last 50, 100 years?) however there has been a move to \\nattempt to dissengage the individual from societal control (ie. if it ain't \\nillegal, then don't pick on me).  I'm not saying this is wrong, merely \\nthat it is a byproduct of a society which has:\\n\\n\\t1) A high education level,\\n\\t2) A high exposure to alternative ideas via the popular media,\\n\\t3) A high level of institutionalized individual rights, and\\n\\t4) A \"me\" oriented culture.\\n\\nI guess what I'm saying is that we appear to be in a state of transition, \\nhere in the western world in that we still have many ideas about what we can\\\\ncan't allow people to do based entirely on personal squeamishness, yet we \\nare fully bent on maximizing individual freedoms to the max as long as \\nthose freedoms don't impinge on another's.\\n\\nIMHO society is trying to persue two mutually exclusive ends here.  While we \\nappreciate and persue individual rights (these satisfy the old \\nterritoriality and dominance instincts), the removal of socialized, \\ninherent fears based on ignorance will result in the \\ncontinued destabilization of society.  \\n\\nI got no quick fix.  I have no idea how we can get ourselves out of this \\nmess.  I know I would never consent to the roll-back of personal freedoms \\nin order to \"stabilize\" society.  Yet I believe development of societies \\nfollow a Darwinian process which selects for stability.  Can we find a \\nsocial model which maximizes indiv. freed.'s yet is stable?  Perhaps it is \\npossible to live with a \"non-stable\" society?\\n\\nAnybody see a way out?  Comments?\\n\\nPS.  Therefore answer to question #3:  We don't.  Do we want to?\\n\\n\\n\\nPhil Trodwell</td>\n",
              "    </tr>\n",
              "    <tr>\n",
              "      <th>2043</th>\n",
              "      <td>If some kind person has access to a mathematical package such as Mathematica,\\nMaple,... I would like to ask you for the solution to the following problem.\\nI sometimes have algebra problems like this where I would like a simplified\\nsymbolic solution. Is there a FTP-able package out there that can handle such\\nbeasts?\\n\\n    I would like to solve the following ray - Bezier patch intersection\\n    for the scalar constant t in:\\n\\n        P                    + t * V                =  Q(u,w)\\n         (origin point in 3D)       (dir vector 3D)\\n\\n    in terms of only:\\n       \\n          P            V            P                     and various scalars\\n           (origin) ,   (dir 3D) ,   (i,j) 0 &lt;= i,j &lt;= 3\\n\\n    where:\\n\\n                            T\\n    Q(u,w) = [U] [N] [B] [M]  [W]\\n\\n\\n\\n               n  n-1  n-2   n-3\\n      [U] = [ u  u    u     u ....     u  1 ]      ( 0.0 &lt;= u &lt;= 1.0 )\\n               3  2\\n          = [ u  u  u 1 ]    ( in my particular case )\\n\\n\\n               n  n-1  n-2   n-3             T\\n      [W] = [ w  w    w     w ....     w  1 ]      ( 0.0 &lt;= w &lt;= 1.0 )\\n\\n               3  2      T\\n          = [ w  w  w 1 ]    ( in my particular case )\\n\\n\\n                   T\\n      [ N ] = [ M ]   =  | -1  3 -3  1 |     ( for my particular case )\\n                         |  3 -6  3  0 |\\n                         | -3  3  0  0 |\\n                         |  1  0  0  0 |\\n\\n\\n      [ B ] =  | P       P       P       P      | (control points in 3D space)\\n               |  (0,0)   (0,1)   (0,2)   (0,3) |\\n               |                                |\\n               | P       P       P       P      |\\n               |  (1,0)   (1,1)   (1,2)   (1,3) |\\n               |                                |\\n               | P       P       P       P      |\\n               |  (2,0)   (2,1)   (2,2)   (2,3) |\\n               |                                |\\n               | P       P       P       P      |\\n               |  (3,0)   (3,1)   (3,2)   (3,3) |\\n\\n\\n\\n                                        Thanx,</td>\n",
              "    </tr>\n",
              "  </tbody>\n",
              "</table>"
            ],
            "text/plain": [
              "<IPython.core.display.HTML object>"
            ]
          },
          "metadata": {},
          "output_type": "display_data"
        }
      ],
      "source": [
        "import pandas as pd\n",
        "from IPython.display import display, HTML\n",
        "display(HTML(pd.DataFrame(dataset.data).sample(20).to_html()))\n"
      ]
    },
    {
      "cell_type": "markdown",
      "metadata": {},
      "source": [
        "## Quantifying the quality of clustering results\n",
        "\n",
        "In this section we define a function to score different clustering pipelines\n",
        "using several metrics.\n",
        "\n",
        "Clustering algorithms are fundamentally unsupervised learning methods.\n",
        "However, since we happen to have class labels for this specific dataset, it is\n",
        "possible to use evaluation metrics that leverage this \"supervised\" ground\n",
        "truth information to quantify the quality of the resulting clusters. Examples\n",
        "of such metrics are the following:\n",
        "\n",
        "- homogeneity, which quantifies how much clusters contain only members of a\n",
        "  single class;\n",
        "\n",
        "- completeness, which quantifies how much members of a given class are\n",
        "  assigned to the same clusters;\n",
        "\n",
        "- V-measure, the harmonic mean of completeness and homogeneity;\n",
        "\n",
        "- Rand-Index, which measures how frequently pairs of data points are grouped\n",
        "  consistently according to the result of the clustering algorithm and the\n",
        "  ground truth class assignment;\n",
        "\n",
        "- Adjusted Rand-Index, a chance-adjusted Rand-Index such that random cluster\n",
        "  assignment have an ARI of 0.0 in expectation.\n",
        "\n",
        "If the ground truth labels are not known, evaluation can only be performed\n",
        "using the model results itself. In that case, the Silhouette Coefficient comes\n",
        "in handy.\n",
        "\n",
        "For more reference, see `clustering_evaluation`.\n",
        "\n"
      ]
    },
    {
      "cell_type": "code",
      "execution_count": 12,
      "metadata": {
        "collapsed": false
      },
      "outputs": [],
      "source": [
        "from collections import defaultdict\n",
        "from sklearn import metrics\n",
        "from time import time\n",
        "\n",
        "evaluations = []\n",
        "evaluations_std = []\n",
        "\n",
        "\n",
        "def fit_and_evaluate(km, X, name=None, n_runs=5):\n",
        "    name = km.__class__.__name__ if name is None else name\n",
        "\n",
        "    train_times = []\n",
        "    scores = defaultdict(list)\n",
        "    for seed in range(n_runs):\n",
        "        km.set_params(random_state=seed)\n",
        "        t0 = time()\n",
        "        km.fit(X)\n",
        "        train_times.append(time() - t0)\n",
        "        scores[\"Homogeneity\"].append(metrics.homogeneity_score(labels, km.labels_))\n",
        "        scores[\"Completeness\"].append(metrics.completeness_score(labels, km.labels_))\n",
        "        scores[\"V-measure\"].append(metrics.v_measure_score(labels, km.labels_))\n",
        "        scores[\"Adjusted Rand-Index\"].append(\n",
        "            metrics.adjusted_rand_score(labels, km.labels_)\n",
        "        )\n",
        "        scores[\"Silhouette Coefficient\"].append(\n",
        "            metrics.silhouette_score(X, km.labels_, sample_size=2000)\n",
        "        )\n",
        "    train_times = np.asarray(train_times)\n",
        "\n",
        "    print(f\"clustering done in {train_times.mean():.2f} ± {train_times.std():.2f} s \")\n",
        "    evaluation = {\n",
        "        \"estimator\": name,\n",
        "        \"train_time\": train_times.mean(),\n",
        "    }\n",
        "    evaluation_std = {\n",
        "        \"estimator\": name,\n",
        "        \"train_time\": train_times.std(),\n",
        "    }\n",
        "    for score_name, score_values in scores.items():\n",
        "        mean_score, std_score = np.mean(score_values), np.std(score_values)\n",
        "        print(f\"{score_name}: {mean_score:.3f} ± {std_score:.3f}\")\n",
        "        evaluation[score_name] = mean_score\n",
        "        evaluation_std[score_name] = std_score\n",
        "    evaluations.append(evaluation)\n",
        "    evaluations_std.append(evaluation_std)"
      ]
    },
    {
      "cell_type": "markdown",
      "metadata": {},
      "source": [
        "## K-means clustering on text features\n",
        "\n",
        "Two feature extraction methods are used in this example:\n",
        "\n",
        "- :class:`~sklearn.feature_extraction.text.TfidfVectorizer` uses an in-memory\n",
        "  vocabulary (a Python dict) to map the most frequent words to features\n",
        "  indices and hence compute a word occurrence frequency (sparse) matrix. The\n",
        "  word frequencies are then reweighted using the Inverse Document Frequency\n",
        "  (IDF) vector collected feature-wise over the corpus.\n",
        "\n",
        "- :class:`~sklearn.feature_extraction.text.HashingVectorizer` hashes word\n",
        "  occurrences to a fixed dimensional space, possibly with collisions. The word\n",
        "  count vectors are then normalized to each have l2-norm equal to one\n",
        "  (projected to the euclidean unit-sphere) which seems to be important for\n",
        "  k-means to work in high dimensional space.\n",
        "\n",
        "Furthermore it is possible to post-process those extracted features using\n",
        "dimensionality reduction. We will explore the impact of those choices on the\n",
        "clustering quality in the following.\n",
        "\n",
        "### Feature Extraction using TfidfVectorizer\n",
        "\n",
        "We first benchmark the estimators using a dictionary vectorizer along with an\n",
        "IDF normalization as provided by\n",
        ":class:`~sklearn.feature_extraction.text.TfidfVectorizer`.\n",
        "\n"
      ]
    },
    {
      "cell_type": "code",
      "execution_count": 13,
      "metadata": {
        "collapsed": false
      },
      "outputs": [
        {
          "name": "stdout",
          "output_type": "stream",
          "text": [
            "vectorization done in 0.563 s\n",
            "n_samples: 3387, n_features: 7929\n"
          ]
        }
      ],
      "source": [
        "from sklearn.feature_extraction.text import TfidfVectorizer\n",
        "\n",
        "vectorizer = TfidfVectorizer(\n",
        "    max_df=0.5,\n",
        "    min_df=5,\n",
        "    stop_words=\"english\",\n",
        ")\n",
        "t0 = time()\n",
        "X_tfidf = vectorizer.fit_transform(dataset.data)\n",
        "\n",
        "print(f\"vectorization done in {time() - t0:.3f} s\")\n",
        "print(f\"n_samples: {X_tfidf.shape[0]}, n_features: {X_tfidf.shape[1]}\")"
      ]
    },
    {
      "cell_type": "markdown",
      "metadata": {},
      "source": [
        "After ignoring terms that appear in more than 50% of the documents (as set by\n",
        "`max_df=0.5`) and terms that are not present in at least 5 documents (set by\n",
        "`min_df=5`), the resulting number of unique terms `n_features` is around\n",
        "8,000. We can additionally quantify the sparsity of the `X_tfidf` matrix as\n",
        "the fraction of non-zero entries devided by the total number of elements.\n",
        "\n"
      ]
    },
    {
      "cell_type": "code",
      "execution_count": 14,
      "metadata": {
        "collapsed": false
      },
      "outputs": [
        {
          "name": "stdout",
          "output_type": "stream",
          "text": [
            "0.007\n"
          ]
        }
      ],
      "source": [
        "print(f\"{X_tfidf.nnz / np.prod(X_tfidf.shape):.3f}\")"
      ]
    },
    {
      "cell_type": "markdown",
      "metadata": {},
      "source": [
        "We find that around 0.7% of the entries of the `X_tfidf` matrix are non-zero.\n",
        "\n",
        "\n",
        "### Clustering sparse data with k-means\n",
        "\n",
        "As both :class:`~sklearn.cluster.KMeans` and\n",
        ":class:`~sklearn.cluster.MiniBatchKMeans` optimize a non-convex objective\n",
        "function, their clustering is not guaranteed to be optimal for a given random\n",
        "init. Even further, on sparse high-dimensional data such as text vectorized\n",
        "using the Bag of Words approach, k-means can initialize centroids on extremely\n",
        "isolated data points. Those data points can stay their own centroids all\n",
        "along.\n",
        "\n",
        "The following code illustrates how the previous phenomenon can sometimes lead\n",
        "to highly imbalanced clusters, depending on the random initialization:\n",
        "\n"
      ]
    },
    {
      "cell_type": "code",
      "execution_count": 15,
      "metadata": {
        "collapsed": false
      },
      "outputs": [
        {
          "name": "stdout",
          "output_type": "stream",
          "text": [
            "Number of elements asigned to each cluster: [2050  711  180  446]\n",
            "Number of elements asigned to each cluster: [1689  638  480  580]\n",
            "Number of elements asigned to each cluster: [   1    1    1 3384]\n",
            "Number of elements asigned to each cluster: [1887  311  332  857]\n",
            "Number of elements asigned to each cluster: [1688  636  454  609]\n",
            "\n",
            "True number of documents in each category according to the class labels: [799 973 987 628]\n"
          ]
        }
      ],
      "source": [
        "from sklearn.cluster import KMeans\n",
        "\n",
        "for seed in range(5):\n",
        "    kmeans = KMeans(\n",
        "        n_clusters=true_k,\n",
        "        max_iter=100,\n",
        "        n_init=1,\n",
        "        random_state=seed,\n",
        "    ).fit(X_tfidf)\n",
        "    cluster_ids, cluster_sizes = np.unique(kmeans.labels_, return_counts=True)\n",
        "    print(f\"Number of elements asigned to each cluster: {cluster_sizes}\")\n",
        "print()\n",
        "print(\n",
        "    \"True number of documents in each category according to the class labels: \"\n",
        "    f\"{category_sizes}\"\n",
        ")"
      ]
    },
    {
      "cell_type": "markdown",
      "metadata": {},
      "source": [
        "To avoid this problem, one possibility is to increase the number of runs with\n",
        "independent random initiations `n_init`. In such case the clustering with the\n",
        "best inertia (objective function of k-means) is chosen.\n",
        "\n"
      ]
    },
    {
      "cell_type": "code",
      "execution_count": 16,
      "metadata": {
        "collapsed": false
      },
      "outputs": [
        {
          "name": "stdout",
          "output_type": "stream",
          "text": [
            "clustering done in 0.26 ± 0.07 s \n",
            "Homogeneity: 0.351 ± 0.006\n",
            "Completeness: 0.402 ± 0.012\n",
            "V-measure: 0.375 ± 0.008\n",
            "Adjusted Rand-Index: 0.207 ± 0.015\n",
            "Silhouette Coefficient: 0.007 ± 0.000\n"
          ]
        }
      ],
      "source": [
        "kmeans = KMeans(\n",
        "    n_clusters=true_k,\n",
        "    max_iter=100,\n",
        "    n_init=5,\n",
        ")\n",
        "\n",
        "fit_and_evaluate(kmeans, X_tfidf, name=\"KMeans\\non tf-idf vectors\")"
      ]
    },
    {
      "cell_type": "markdown",
      "metadata": {},
      "source": [
        "All those clustering evaluation metrics have a maximum value of 1.0 (for a\n",
        "perfect clustering result). Higher values are better. Values of the Adjusted\n",
        "Rand-Index close to 0.0 correspond to a random labeling. Notice from the\n",
        "scores above that the cluster assignment is indeed well above chance level,\n",
        "but the overall quality can certainly improve.\n",
        "\n",
        "Keep in mind that the class labels may not reflect accurately the document\n",
        "topics and therefore metrics that use labels are not necessarily the best to\n",
        "evaluate the quality of our clustering pipeline.\n",
        "\n",
        "### Performing dimensionality reduction using LSA\n",
        "\n",
        "A `n_init=1` can still be used as long as the dimension of the vectorized\n",
        "space is reduced first to make k-means more stable. For such purpose we use\n",
        ":class:`~sklearn.decomposition.TruncatedSVD`, which works on term count/tf-idf\n",
        "matrices. Since SVD results are not normalized, we redo the normalization to\n",
        "improve the :class:`~sklearn.cluster.KMeans` result. Using SVD to reduce the\n",
        "dimensionality of TF-IDF document vectors is often known as [latent semantic\n",
        "analysis](https://en.wikipedia.org/wiki/Latent_semantic_analysis) (LSA) in\n",
        "the information retrieval and text mining literature.\n",
        "\n"
      ]
    },
    {
      "cell_type": "code",
      "execution_count": 17,
      "metadata": {
        "collapsed": false
      },
      "outputs": [
        {
          "name": "stdout",
          "output_type": "stream",
          "text": [
            "LSA done in 0.789 s\n",
            "Explained variance of the SVD step: 18.4%\n"
          ]
        }
      ],
      "source": [
        "from sklearn.decomposition import TruncatedSVD\n",
        "from sklearn.pipeline import make_pipeline\n",
        "from sklearn.preprocessing import Normalizer\n",
        "\n",
        "\n",
        "lsa = make_pipeline(TruncatedSVD(n_components=100), Normalizer(copy=False))\n",
        "t0 = time()\n",
        "X_lsa = lsa.fit_transform(X_tfidf)\n",
        "explained_variance = lsa[0].explained_variance_ratio_.sum()\n",
        "\n",
        "print(f\"LSA done in {time() - t0:.3f} s\")\n",
        "print(f\"Explained variance of the SVD step: {explained_variance * 100:.1f}%\")"
      ]
    },
    {
      "cell_type": "markdown",
      "metadata": {},
      "source": [
        "Using a single initialization means the processing time will be reduced for\n",
        "both :class:`~sklearn.cluster.KMeans` and\n",
        ":class:`~sklearn.cluster.MiniBatchKMeans`.\n",
        "\n"
      ]
    },
    {
      "cell_type": "code",
      "execution_count": 18,
      "metadata": {
        "collapsed": false
      },
      "outputs": [
        {
          "name": "stdout",
          "output_type": "stream",
          "text": [
            "clustering done in 0.03 ± 0.01 s \n",
            "Homogeneity: 0.402 ± 0.017\n",
            "Completeness: 0.422 ± 0.012\n",
            "V-measure: 0.412 ± 0.015\n",
            "Adjusted Rand-Index: 0.303 ± 0.006\n",
            "Silhouette Coefficient: 0.030 ± 0.001\n"
          ]
        }
      ],
      "source": [
        "kmeans = KMeans(\n",
        "    n_clusters=true_k,\n",
        "    max_iter=100,\n",
        "    n_init=1,\n",
        ")\n",
        "\n",
        "fit_and_evaluate(kmeans, X_lsa, name=\"KMeans\\nwith LSA on tf-idf vectors\")"
      ]
    },
    {
      "cell_type": "markdown",
      "metadata": {},
      "source": [
        "We can observe that clustering on the LSA representation of the document is\n",
        "significantly faster (both because of `n_init=1` and because the\n",
        "dimensionality of the LSA feature space is much smaller). Furthermore, all the\n",
        "clustering evaluation metrics have improved. We repeat the experiment with\n",
        ":class:`~sklearn.cluster.MiniBatchKMeans`.\n",
        "\n"
      ]
    },
    {
      "cell_type": "code",
      "execution_count": 19,
      "metadata": {
        "collapsed": false
      },
      "outputs": [
        {
          "name": "stdout",
          "output_type": "stream",
          "text": [
            "clustering done in 0.02 ± 0.01 s \n",
            "Homogeneity: 0.289 ± 0.145\n",
            "Completeness: 0.353 ± 0.076\n",
            "V-measure: 0.304 ± 0.136\n",
            "Adjusted Rand-Index: 0.255 ± 0.141\n",
            "Silhouette Coefficient: 0.019 ± 0.017\n"
          ]
        }
      ],
      "source": [
        "from sklearn.cluster import MiniBatchKMeans\n",
        "\n",
        "minibatch_kmeans = MiniBatchKMeans(\n",
        "    n_clusters=true_k,\n",
        "    n_init=1,\n",
        "    init_size=1000,\n",
        "    batch_size=1000,\n",
        ")\n",
        "\n",
        "fit_and_evaluate(\n",
        "    minibatch_kmeans,\n",
        "    X_lsa,\n",
        "    name=\"MiniBatchKMeans\\nwith LSA on tf-idf vectors\",\n",
        ")"
      ]
    },
    {
      "cell_type": "markdown",
      "metadata": {},
      "source": [
        "### Top terms per cluster\n",
        "\n",
        "Since :class:`~sklearn.feature_extraction.text.TfidfVectorizer` can be\n",
        "inverted we can identify the cluster centers, which provide an intuition of\n",
        "the most influential words **for each cluster**. See the example script\n",
        "`sphx_glr_auto_examples_text_plot_document_classification_20newsgroups.py`\n",
        "for a comparison with the most predictive words **for each target class**.\n",
        "\n"
      ]
    },
    {
      "cell_type": "code",
      "execution_count": 20,
      "metadata": {
        "collapsed": false
      },
      "outputs": [
        {
          "name": "stdout",
          "output_type": "stream",
          "text": [
            "Cluster 0: just think don like know time ve said did say \n",
            "Cluster 1: space launch orbit shuttle nasa earth moon like mission lunar \n",
            "Cluster 2: graphics thanks image file files program know looking help format \n",
            "Cluster 3: god people jesus bible don believe christian think say religion \n"
          ]
        }
      ],
      "source": [
        "original_space_centroids = lsa[0].inverse_transform(kmeans.cluster_centers_)\n",
        "order_centroids = original_space_centroids.argsort()[:, ::-1]\n",
        "terms = vectorizer.get_feature_names_out()\n",
        "\n",
        "for i in range(true_k):\n",
        "    print(f\"Cluster {i}: \", end=\"\")\n",
        "    for ind in order_centroids[i, :10]:\n",
        "        print(f\"{terms[ind]} \", end=\"\")\n",
        "    print()"
      ]
    },
    {
      "cell_type": "markdown",
      "metadata": {},
      "source": [
        "### HashingVectorizer\n",
        "An alternative vectorization can be done using a\n",
        ":class:`~sklearn.feature_extraction.text.HashingVectorizer` instance, which\n",
        "does not provide IDF weighting as this is a stateless model (the fit method\n",
        "does nothing). When IDF weighting is needed it can be added by pipelining the\n",
        ":class:`~sklearn.feature_extraction.text.HashingVectorizer` output to a\n",
        ":class:`~sklearn.feature_extraction.text.TfidfTransformer` instance. In this\n",
        "case we also add LSA to the pipeline to reduce the dimension and sparcity of\n",
        "the hashed vector space.\n",
        "\n"
      ]
    },
    {
      "cell_type": "code",
      "execution_count": 21,
      "metadata": {
        "collapsed": false
      },
      "outputs": [
        {
          "name": "stdout",
          "output_type": "stream",
          "text": [
            "vectorization done in 3.751 s\n"
          ]
        }
      ],
      "source": [
        "from sklearn.feature_extraction.text import HashingVectorizer\n",
        "from sklearn.feature_extraction.text import TfidfTransformer\n",
        "\n",
        "lsa_vectorizer = make_pipeline(\n",
        "    HashingVectorizer(stop_words=\"english\", n_features=50_000),\n",
        "    TfidfTransformer(),\n",
        "    TruncatedSVD(n_components=100, random_state=0),\n",
        "    Normalizer(copy=False),\n",
        ")\n",
        "\n",
        "t0 = time()\n",
        "X_hashed_lsa = lsa_vectorizer.fit_transform(dataset.data)\n",
        "print(f\"vectorization done in {time() - t0:.3f} s\")"
      ]
    },
    {
      "cell_type": "markdown",
      "metadata": {},
      "source": [
        "One can observe that the LSA step takes a relatively long time to fit,\n",
        "especially with hashed vectors. The reason is that a hashed space is typically\n",
        "large (set to `n_features=50_000` in this example). One can try lowering the\n",
        "number of features at the expense of having a larger fraction of features with\n",
        "hash collisions as shown in the example notebook\n",
        "`sphx_glr_auto_examples_text_plot_hashing_vs_dict_vectorizer.py`.\n",
        "\n",
        "We now fit and evaluate the `kmeans` and `minibatch_kmeans` instances on this\n",
        "hashed-lsa-reduced data:\n",
        "\n"
      ]
    },
    {
      "cell_type": "markdown",
      "metadata": {},
      "source": []
    },
    {
      "cell_type": "code",
      "execution_count": 22,
      "metadata": {
        "collapsed": false
      },
      "outputs": [
        {
          "name": "stdout",
          "output_type": "stream",
          "text": [
            "clustering done in 0.02 ± 0.01 s \n",
            "Homogeneity: 0.398 ± 0.008\n",
            "Completeness: 0.447 ± 0.015\n",
            "V-measure: 0.421 ± 0.011\n",
            "Adjusted Rand-Index: 0.322 ± 0.010\n",
            "Silhouette Coefficient: 0.030 ± 0.002\n"
          ]
        }
      ],
      "source": [
        "fit_and_evaluate(kmeans, X_hashed_lsa, name=\"KMeans\\nwith LSA on hashed vectors\")"
      ]
    },
    {
      "cell_type": "code",
      "execution_count": 23,
      "metadata": {
        "collapsed": false
      },
      "outputs": [
        {
          "name": "stdout",
          "output_type": "stream",
          "text": [
            "clustering done in 0.04 ± 0.01 s \n",
            "Homogeneity: 0.342 ± 0.055\n",
            "Completeness: 0.353 ± 0.049\n",
            "V-measure: 0.347 ± 0.052\n",
            "Adjusted Rand-Index: 0.303 ± 0.057\n",
            "Silhouette Coefficient: 0.026 ± 0.004\n"
          ]
        }
      ],
      "source": [
        "fit_and_evaluate(\n",
        "    minibatch_kmeans,\n",
        "    X_hashed_lsa,\n",
        "    name=\"MiniBatchKMeans\\nwith LSA on hashed vectors\",\n",
        ")"
      ]
    },
    {
      "cell_type": "markdown",
      "metadata": {},
      "source": [
        "Both methods lead to good results that are similar to running the same models\n",
        "on the traditional LSA vectors (without hashing).\n",
        "\n",
        "## Clustering evaluation summary\n",
        "\n"
      ]
    },
    {
      "cell_type": "code",
      "execution_count": 24,
      "metadata": {
        "collapsed": false
      },
      "outputs": [
        {
          "data": {
            "image/png": "[encoded data removed]",
            "text/plain": [
              "<Figure size 1600x600 with 2 Axes>"
            ]
          },
          "metadata": {},
          "output_type": "display_data"
        }
      ],
      "source": [
        "import pandas as pd\n",
        "import matplotlib.pyplot as plt\n",
        "\n",
        "fig, (ax0, ax1) = plt.subplots(ncols=2, figsize=(16, 6), sharey=True)\n",
        "\n",
        "df = pd.DataFrame(evaluations[::-1]).set_index(\"estimator\")\n",
        "df_std = pd.DataFrame(evaluations_std[::-1]).set_index(\"estimator\")\n",
        "\n",
        "df.drop(\n",
        "    [\"train_time\"],\n",
        "    axis=\"columns\",\n",
        ").plot.barh(ax=ax0, xerr=df_std)\n",
        "ax0.set_xlabel(\"Clustering scores\")\n",
        "ax0.set_ylabel(\"\")\n",
        "\n",
        "df[\"train_time\"].plot.barh(ax=ax1, xerr=df_std[\"train_time\"])\n",
        "ax1.set_xlabel(\"Clustering time (s)\")\n",
        "plt.tight_layout()"
      ]
    },
    {
      "cell_type": "markdown",
      "metadata": {},
      "source": [
        ":class:`~sklearn.cluster.KMeans` and :class:`~sklearn.cluster.MiniBatchKMeans`\n",
        "suffer from the phenomenon called the [Curse of Dimensionality](https://en.wikipedia.org/wiki/Curse_of_dimensionality) for high dimensional\n",
        "datasets such as text data. That is the reason why the overall scores improve\n",
        "when using LSA. Using LSA reduced data also improves the stability and\n",
        "requires lower clustering time, though keep in mind that the LSA step itself\n",
        "takes a long time, especially with hashed vectors.\n",
        "\n",
        "The Silhouette Coefficient is defined between 0 and 1. In all cases we obtain\n",
        "values close to 0 (even if they improve a bit after using LSA) because its\n",
        "definition requires measuring distances, in contrast with other evaluation\n",
        "metrics such as the V-measure and the Adjusted Rand Index which are only based\n",
        "on cluster assignments rather than distances. Notice that strictly speaking,\n",
        "one should not compare the Silhouette Coefficient between spaces of different\n",
        "dimension, due to the different notions of distance they imply.\n",
        "\n",
        "The homogeneity, completeness and hence v-measure metrics do not yield a\n",
        "baseline with regards to random labeling: this means that depending on the\n",
        "number of samples, clusters and ground truth classes, a completely random\n",
        "labeling will not always yield the same values. In particular random labeling\n",
        "won't yield zero scores, especially when the number of clusters is large. This\n",
        "problem can safely be ignored when the number of samples is more than a\n",
        "thousand and the number of clusters is less than 10, which is the case of the\n",
        "present example. For smaller sample sizes or larger number of clusters it is\n",
        "safer to use an adjusted index such as the Adjusted Rand Index (ARI). See the\n",
        "example\n",
        "`sphx_glr_auto_examples_cluster_plot_adjusted_for_chance_measures.py` for\n",
        "a demo on the effect of random labeling.\n",
        "\n",
        "The size of the error bars show that :class:`~sklearn.cluster.MiniBatchKMeans`\n",
        "is less stable than :class:`~sklearn.cluster.KMeans` for this relatively small\n",
        "dataset. It is more interesting to use when the number of samples is much\n",
        "bigger, but it can come at the expense of a small degradation in clustering\n",
        "quality compared to the traditional k-means algorithm.\n",
        "\n"
      ]
    }
  ],
  "metadata": {
    "kernelspec": {
      "display_name": "Python 3",
      "language": "python",
      "name": "python3"
    },
    "language_info": {
      "codemirror_mode": {
        "name": "ipython",
        "version": 3
      },
      "file_extension": ".py",
      "mimetype": "text/x-python",
      "name": "python",
      "nbconvert_exporter": "python",
      "pygments_lexer": "ipython3",
      "version": "3.8.18"
    }
  },
  "nbformat": 4,
  "nbformat_minor": 0
}
